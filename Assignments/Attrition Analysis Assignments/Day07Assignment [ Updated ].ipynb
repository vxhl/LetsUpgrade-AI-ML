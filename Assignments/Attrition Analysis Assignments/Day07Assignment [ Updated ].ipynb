{
 "cells": [
  {
   "cell_type": "markdown",
   "metadata": {},
   "source": [
    "# Question 1 ( From Day 7 Assignment ): \n",
    "Attach the dataset and mentioned problem statement below.\n",
    "- A sizable department has to be maintained, for the purpose of recruiting new talent\n",
    "- More often than not, the new employees have to be trained for the job and/or given time to acclimatize themselves to the company.\n",
    "- Hence, the management has contracted an HR analytics firm to understand what factors they should focus on, in order to curb attrition.\n",
    "- In other words they want to know what changes they should make to their workplace, in order to get most of their emoployees to stay.\n",
    "- Also, they want to know which of these varibales is most important and needs to be addressed right away.\n",
    "\n",
    "# Question 2 : Frame 10 Hypothesis Statements for the Attrition Analysis Project for Day 7 ( Kindly scroll to the end )"
   ]
  },
  {
   "cell_type": "markdown",
   "metadata": {},
   "source": [
    "\n",
    "## Step 1 : Importing the Dataset and the Libraries \n",
    "We import the different libraries for handling and visualising the dataset and import the dataset we are to analyse for the projcet."
   ]
  },
  {
   "cell_type": "code",
   "execution_count": 45,
   "metadata": {},
   "outputs": [],
   "source": [
    "# Importing the libraries\n",
    "import pandas as pd \n",
    "import numpy as np\n",
    "import matplotlib.pyplot as plt"
   ]
  },
  {
   "cell_type": "code",
   "execution_count": 6,
   "metadata": {},
   "outputs": [
    {
     "data": {
      "text/html": [
       "<div>\n",
       "<style scoped>\n",
       "    .dataframe tbody tr th:only-of-type {\n",
       "        vertical-align: middle;\n",
       "    }\n",
       "\n",
       "    .dataframe tbody tr th {\n",
       "        vertical-align: top;\n",
       "    }\n",
       "\n",
       "    .dataframe thead th {\n",
       "        text-align: right;\n",
       "    }\n",
       "</style>\n",
       "<table border=\"1\" class=\"dataframe\">\n",
       "  <thead>\n",
       "    <tr style=\"text-align: right;\">\n",
       "      <th></th>\n",
       "      <th>Age</th>\n",
       "      <th>Attrition</th>\n",
       "      <th>BusinessTravel</th>\n",
       "      <th>Department</th>\n",
       "      <th>DistanceFromHome</th>\n",
       "      <th>Education</th>\n",
       "      <th>EducationField</th>\n",
       "      <th>EmployeeCount</th>\n",
       "      <th>EmployeeID</th>\n",
       "      <th>Gender</th>\n",
       "      <th>...</th>\n",
       "      <th>NumCompaniesWorked</th>\n",
       "      <th>Over18</th>\n",
       "      <th>PercentSalaryHike</th>\n",
       "      <th>StandardHours</th>\n",
       "      <th>StockOptionLevel</th>\n",
       "      <th>TotalWorkingYears</th>\n",
       "      <th>TrainingTimesLastYear</th>\n",
       "      <th>YearsAtCompany</th>\n",
       "      <th>YearsSinceLastPromotion</th>\n",
       "      <th>YearsWithCurrManager</th>\n",
       "    </tr>\n",
       "  </thead>\n",
       "  <tbody>\n",
       "    <tr>\n",
       "      <th>0</th>\n",
       "      <td>51</td>\n",
       "      <td>No</td>\n",
       "      <td>Travel_Rarely</td>\n",
       "      <td>Sales</td>\n",
       "      <td>6</td>\n",
       "      <td>2</td>\n",
       "      <td>Life Sciences</td>\n",
       "      <td>1</td>\n",
       "      <td>1</td>\n",
       "      <td>Female</td>\n",
       "      <td>...</td>\n",
       "      <td>1.0</td>\n",
       "      <td>Y</td>\n",
       "      <td>11</td>\n",
       "      <td>8</td>\n",
       "      <td>0</td>\n",
       "      <td>1.0</td>\n",
       "      <td>6</td>\n",
       "      <td>1</td>\n",
       "      <td>0</td>\n",
       "      <td>0</td>\n",
       "    </tr>\n",
       "    <tr>\n",
       "      <th>1</th>\n",
       "      <td>31</td>\n",
       "      <td>Yes</td>\n",
       "      <td>Travel_Frequently</td>\n",
       "      <td>Research &amp; Development</td>\n",
       "      <td>10</td>\n",
       "      <td>1</td>\n",
       "      <td>Life Sciences</td>\n",
       "      <td>1</td>\n",
       "      <td>2</td>\n",
       "      <td>Female</td>\n",
       "      <td>...</td>\n",
       "      <td>0.0</td>\n",
       "      <td>Y</td>\n",
       "      <td>23</td>\n",
       "      <td>8</td>\n",
       "      <td>1</td>\n",
       "      <td>6.0</td>\n",
       "      <td>3</td>\n",
       "      <td>5</td>\n",
       "      <td>1</td>\n",
       "      <td>4</td>\n",
       "    </tr>\n",
       "    <tr>\n",
       "      <th>2</th>\n",
       "      <td>32</td>\n",
       "      <td>No</td>\n",
       "      <td>Travel_Frequently</td>\n",
       "      <td>Research &amp; Development</td>\n",
       "      <td>17</td>\n",
       "      <td>4</td>\n",
       "      <td>Other</td>\n",
       "      <td>1</td>\n",
       "      <td>3</td>\n",
       "      <td>Male</td>\n",
       "      <td>...</td>\n",
       "      <td>1.0</td>\n",
       "      <td>Y</td>\n",
       "      <td>15</td>\n",
       "      <td>8</td>\n",
       "      <td>3</td>\n",
       "      <td>5.0</td>\n",
       "      <td>2</td>\n",
       "      <td>5</td>\n",
       "      <td>0</td>\n",
       "      <td>3</td>\n",
       "    </tr>\n",
       "    <tr>\n",
       "      <th>3</th>\n",
       "      <td>38</td>\n",
       "      <td>No</td>\n",
       "      <td>Non-Travel</td>\n",
       "      <td>Research &amp; Development</td>\n",
       "      <td>2</td>\n",
       "      <td>5</td>\n",
       "      <td>Life Sciences</td>\n",
       "      <td>1</td>\n",
       "      <td>4</td>\n",
       "      <td>Male</td>\n",
       "      <td>...</td>\n",
       "      <td>3.0</td>\n",
       "      <td>Y</td>\n",
       "      <td>11</td>\n",
       "      <td>8</td>\n",
       "      <td>3</td>\n",
       "      <td>13.0</td>\n",
       "      <td>5</td>\n",
       "      <td>8</td>\n",
       "      <td>7</td>\n",
       "      <td>5</td>\n",
       "    </tr>\n",
       "    <tr>\n",
       "      <th>4</th>\n",
       "      <td>32</td>\n",
       "      <td>No</td>\n",
       "      <td>Travel_Rarely</td>\n",
       "      <td>Research &amp; Development</td>\n",
       "      <td>10</td>\n",
       "      <td>1</td>\n",
       "      <td>Medical</td>\n",
       "      <td>1</td>\n",
       "      <td>5</td>\n",
       "      <td>Male</td>\n",
       "      <td>...</td>\n",
       "      <td>4.0</td>\n",
       "      <td>Y</td>\n",
       "      <td>12</td>\n",
       "      <td>8</td>\n",
       "      <td>2</td>\n",
       "      <td>9.0</td>\n",
       "      <td>2</td>\n",
       "      <td>6</td>\n",
       "      <td>0</td>\n",
       "      <td>4</td>\n",
       "    </tr>\n",
       "  </tbody>\n",
       "</table>\n",
       "<p>5 rows × 24 columns</p>\n",
       "</div>"
      ],
      "text/plain": [
       "   Age Attrition     BusinessTravel              Department  DistanceFromHome  \\\n",
       "0   51        No      Travel_Rarely                   Sales                 6   \n",
       "1   31       Yes  Travel_Frequently  Research & Development                10   \n",
       "2   32        No  Travel_Frequently  Research & Development                17   \n",
       "3   38        No         Non-Travel  Research & Development                 2   \n",
       "4   32        No      Travel_Rarely  Research & Development                10   \n",
       "\n",
       "   Education EducationField  EmployeeCount  EmployeeID  Gender  ...  \\\n",
       "0          2  Life Sciences              1           1  Female  ...   \n",
       "1          1  Life Sciences              1           2  Female  ...   \n",
       "2          4          Other              1           3    Male  ...   \n",
       "3          5  Life Sciences              1           4    Male  ...   \n",
       "4          1        Medical              1           5    Male  ...   \n",
       "\n",
       "   NumCompaniesWorked Over18 PercentSalaryHike  StandardHours  \\\n",
       "0                 1.0      Y                11              8   \n",
       "1                 0.0      Y                23              8   \n",
       "2                 1.0      Y                15              8   \n",
       "3                 3.0      Y                11              8   \n",
       "4                 4.0      Y                12              8   \n",
       "\n",
       "   StockOptionLevel TotalWorkingYears  TrainingTimesLastYear  YearsAtCompany  \\\n",
       "0                 0               1.0                      6               1   \n",
       "1                 1               6.0                      3               5   \n",
       "2                 3               5.0                      2               5   \n",
       "3                 3              13.0                      5               8   \n",
       "4                 2               9.0                      2               6   \n",
       "\n",
       "   YearsSinceLastPromotion  YearsWithCurrManager  \n",
       "0                        0                     0  \n",
       "1                        1                     4  \n",
       "2                        0                     3  \n",
       "3                        7                     5  \n",
       "4                        0                     4  \n",
       "\n",
       "[5 rows x 24 columns]"
      ]
     },
     "execution_count": 6,
     "metadata": {},
     "output_type": "execute_result"
    }
   ],
   "source": [
    "# Importing the dataset\n",
    "dataset1 = pd.read_csv(\"general_data.csv\")\n",
    "dataset1.head() # This gives us the first five entries for the dataset"
   ]
  },
  {
   "cell_type": "markdown",
   "metadata": {},
   "source": [
    "## Step 2 : Data Preprocessing Phase\n",
    "Here we check the dataset for null values and duplicates that might hinder with our analysis and remove them accordingly."
   ]
  },
  {
   "cell_type": "code",
   "execution_count": 10,
   "metadata": {},
   "outputs": [
    {
     "data": {
      "text/html": [
       "<div>\n",
       "<style scoped>\n",
       "    .dataframe tbody tr th:only-of-type {\n",
       "        vertical-align: middle;\n",
       "    }\n",
       "\n",
       "    .dataframe tbody tr th {\n",
       "        vertical-align: top;\n",
       "    }\n",
       "\n",
       "    .dataframe thead th {\n",
       "        text-align: right;\n",
       "    }\n",
       "</style>\n",
       "<table border=\"1\" class=\"dataframe\">\n",
       "  <thead>\n",
       "    <tr style=\"text-align: right;\">\n",
       "      <th></th>\n",
       "      <th>Age</th>\n",
       "      <th>Attrition</th>\n",
       "      <th>BusinessTravel</th>\n",
       "      <th>Department</th>\n",
       "      <th>DistanceFromHome</th>\n",
       "      <th>Education</th>\n",
       "      <th>EducationField</th>\n",
       "      <th>EmployeeCount</th>\n",
       "      <th>EmployeeID</th>\n",
       "      <th>Gender</th>\n",
       "      <th>...</th>\n",
       "      <th>NumCompaniesWorked</th>\n",
       "      <th>Over18</th>\n",
       "      <th>PercentSalaryHike</th>\n",
       "      <th>StandardHours</th>\n",
       "      <th>StockOptionLevel</th>\n",
       "      <th>TotalWorkingYears</th>\n",
       "      <th>TrainingTimesLastYear</th>\n",
       "      <th>YearsAtCompany</th>\n",
       "      <th>YearsSinceLastPromotion</th>\n",
       "      <th>YearsWithCurrManager</th>\n",
       "    </tr>\n",
       "  </thead>\n",
       "  <tbody>\n",
       "    <tr>\n",
       "      <th>0</th>\n",
       "      <td>False</td>\n",
       "      <td>False</td>\n",
       "      <td>False</td>\n",
       "      <td>False</td>\n",
       "      <td>False</td>\n",
       "      <td>False</td>\n",
       "      <td>False</td>\n",
       "      <td>False</td>\n",
       "      <td>False</td>\n",
       "      <td>False</td>\n",
       "      <td>...</td>\n",
       "      <td>False</td>\n",
       "      <td>False</td>\n",
       "      <td>False</td>\n",
       "      <td>False</td>\n",
       "      <td>False</td>\n",
       "      <td>False</td>\n",
       "      <td>False</td>\n",
       "      <td>False</td>\n",
       "      <td>False</td>\n",
       "      <td>False</td>\n",
       "    </tr>\n",
       "    <tr>\n",
       "      <th>1</th>\n",
       "      <td>False</td>\n",
       "      <td>False</td>\n",
       "      <td>False</td>\n",
       "      <td>False</td>\n",
       "      <td>False</td>\n",
       "      <td>False</td>\n",
       "      <td>False</td>\n",
       "      <td>False</td>\n",
       "      <td>False</td>\n",
       "      <td>False</td>\n",
       "      <td>...</td>\n",
       "      <td>False</td>\n",
       "      <td>False</td>\n",
       "      <td>False</td>\n",
       "      <td>False</td>\n",
       "      <td>False</td>\n",
       "      <td>False</td>\n",
       "      <td>False</td>\n",
       "      <td>False</td>\n",
       "      <td>False</td>\n",
       "      <td>False</td>\n",
       "    </tr>\n",
       "    <tr>\n",
       "      <th>2</th>\n",
       "      <td>False</td>\n",
       "      <td>False</td>\n",
       "      <td>False</td>\n",
       "      <td>False</td>\n",
       "      <td>False</td>\n",
       "      <td>False</td>\n",
       "      <td>False</td>\n",
       "      <td>False</td>\n",
       "      <td>False</td>\n",
       "      <td>False</td>\n",
       "      <td>...</td>\n",
       "      <td>False</td>\n",
       "      <td>False</td>\n",
       "      <td>False</td>\n",
       "      <td>False</td>\n",
       "      <td>False</td>\n",
       "      <td>False</td>\n",
       "      <td>False</td>\n",
       "      <td>False</td>\n",
       "      <td>False</td>\n",
       "      <td>False</td>\n",
       "    </tr>\n",
       "    <tr>\n",
       "      <th>3</th>\n",
       "      <td>False</td>\n",
       "      <td>False</td>\n",
       "      <td>False</td>\n",
       "      <td>False</td>\n",
       "      <td>False</td>\n",
       "      <td>False</td>\n",
       "      <td>False</td>\n",
       "      <td>False</td>\n",
       "      <td>False</td>\n",
       "      <td>False</td>\n",
       "      <td>...</td>\n",
       "      <td>False</td>\n",
       "      <td>False</td>\n",
       "      <td>False</td>\n",
       "      <td>False</td>\n",
       "      <td>False</td>\n",
       "      <td>False</td>\n",
       "      <td>False</td>\n",
       "      <td>False</td>\n",
       "      <td>False</td>\n",
       "      <td>False</td>\n",
       "    </tr>\n",
       "    <tr>\n",
       "      <th>4</th>\n",
       "      <td>False</td>\n",
       "      <td>False</td>\n",
       "      <td>False</td>\n",
       "      <td>False</td>\n",
       "      <td>False</td>\n",
       "      <td>False</td>\n",
       "      <td>False</td>\n",
       "      <td>False</td>\n",
       "      <td>False</td>\n",
       "      <td>False</td>\n",
       "      <td>...</td>\n",
       "      <td>False</td>\n",
       "      <td>False</td>\n",
       "      <td>False</td>\n",
       "      <td>False</td>\n",
       "      <td>False</td>\n",
       "      <td>False</td>\n",
       "      <td>False</td>\n",
       "      <td>False</td>\n",
       "      <td>False</td>\n",
       "      <td>False</td>\n",
       "    </tr>\n",
       "    <tr>\n",
       "      <th>...</th>\n",
       "      <td>...</td>\n",
       "      <td>...</td>\n",
       "      <td>...</td>\n",
       "      <td>...</td>\n",
       "      <td>...</td>\n",
       "      <td>...</td>\n",
       "      <td>...</td>\n",
       "      <td>...</td>\n",
       "      <td>...</td>\n",
       "      <td>...</td>\n",
       "      <td>...</td>\n",
       "      <td>...</td>\n",
       "      <td>...</td>\n",
       "      <td>...</td>\n",
       "      <td>...</td>\n",
       "      <td>...</td>\n",
       "      <td>...</td>\n",
       "      <td>...</td>\n",
       "      <td>...</td>\n",
       "      <td>...</td>\n",
       "      <td>...</td>\n",
       "    </tr>\n",
       "    <tr>\n",
       "      <th>4405</th>\n",
       "      <td>False</td>\n",
       "      <td>False</td>\n",
       "      <td>False</td>\n",
       "      <td>False</td>\n",
       "      <td>False</td>\n",
       "      <td>False</td>\n",
       "      <td>False</td>\n",
       "      <td>False</td>\n",
       "      <td>False</td>\n",
       "      <td>False</td>\n",
       "      <td>...</td>\n",
       "      <td>False</td>\n",
       "      <td>False</td>\n",
       "      <td>False</td>\n",
       "      <td>False</td>\n",
       "      <td>False</td>\n",
       "      <td>False</td>\n",
       "      <td>False</td>\n",
       "      <td>False</td>\n",
       "      <td>False</td>\n",
       "      <td>False</td>\n",
       "    </tr>\n",
       "    <tr>\n",
       "      <th>4406</th>\n",
       "      <td>False</td>\n",
       "      <td>False</td>\n",
       "      <td>False</td>\n",
       "      <td>False</td>\n",
       "      <td>False</td>\n",
       "      <td>False</td>\n",
       "      <td>False</td>\n",
       "      <td>False</td>\n",
       "      <td>False</td>\n",
       "      <td>False</td>\n",
       "      <td>...</td>\n",
       "      <td>False</td>\n",
       "      <td>False</td>\n",
       "      <td>False</td>\n",
       "      <td>False</td>\n",
       "      <td>False</td>\n",
       "      <td>False</td>\n",
       "      <td>False</td>\n",
       "      <td>False</td>\n",
       "      <td>False</td>\n",
       "      <td>False</td>\n",
       "    </tr>\n",
       "    <tr>\n",
       "      <th>4407</th>\n",
       "      <td>False</td>\n",
       "      <td>False</td>\n",
       "      <td>False</td>\n",
       "      <td>False</td>\n",
       "      <td>False</td>\n",
       "      <td>False</td>\n",
       "      <td>False</td>\n",
       "      <td>False</td>\n",
       "      <td>False</td>\n",
       "      <td>False</td>\n",
       "      <td>...</td>\n",
       "      <td>False</td>\n",
       "      <td>False</td>\n",
       "      <td>False</td>\n",
       "      <td>False</td>\n",
       "      <td>False</td>\n",
       "      <td>False</td>\n",
       "      <td>False</td>\n",
       "      <td>False</td>\n",
       "      <td>False</td>\n",
       "      <td>False</td>\n",
       "    </tr>\n",
       "    <tr>\n",
       "      <th>4408</th>\n",
       "      <td>False</td>\n",
       "      <td>False</td>\n",
       "      <td>False</td>\n",
       "      <td>False</td>\n",
       "      <td>False</td>\n",
       "      <td>False</td>\n",
       "      <td>False</td>\n",
       "      <td>False</td>\n",
       "      <td>False</td>\n",
       "      <td>False</td>\n",
       "      <td>...</td>\n",
       "      <td>False</td>\n",
       "      <td>False</td>\n",
       "      <td>False</td>\n",
       "      <td>False</td>\n",
       "      <td>False</td>\n",
       "      <td>False</td>\n",
       "      <td>False</td>\n",
       "      <td>False</td>\n",
       "      <td>False</td>\n",
       "      <td>False</td>\n",
       "    </tr>\n",
       "    <tr>\n",
       "      <th>4409</th>\n",
       "      <td>False</td>\n",
       "      <td>False</td>\n",
       "      <td>False</td>\n",
       "      <td>False</td>\n",
       "      <td>False</td>\n",
       "      <td>False</td>\n",
       "      <td>False</td>\n",
       "      <td>False</td>\n",
       "      <td>False</td>\n",
       "      <td>False</td>\n",
       "      <td>...</td>\n",
       "      <td>False</td>\n",
       "      <td>False</td>\n",
       "      <td>False</td>\n",
       "      <td>False</td>\n",
       "      <td>False</td>\n",
       "      <td>True</td>\n",
       "      <td>False</td>\n",
       "      <td>False</td>\n",
       "      <td>False</td>\n",
       "      <td>False</td>\n",
       "    </tr>\n",
       "  </tbody>\n",
       "</table>\n",
       "<p>4410 rows × 24 columns</p>\n",
       "</div>"
      ],
      "text/plain": [
       "        Age  Attrition  BusinessTravel  Department  DistanceFromHome  \\\n",
       "0     False      False           False       False             False   \n",
       "1     False      False           False       False             False   \n",
       "2     False      False           False       False             False   \n",
       "3     False      False           False       False             False   \n",
       "4     False      False           False       False             False   \n",
       "...     ...        ...             ...         ...               ...   \n",
       "4405  False      False           False       False             False   \n",
       "4406  False      False           False       False             False   \n",
       "4407  False      False           False       False             False   \n",
       "4408  False      False           False       False             False   \n",
       "4409  False      False           False       False             False   \n",
       "\n",
       "      Education  EducationField  EmployeeCount  EmployeeID  Gender  ...  \\\n",
       "0         False           False          False       False   False  ...   \n",
       "1         False           False          False       False   False  ...   \n",
       "2         False           False          False       False   False  ...   \n",
       "3         False           False          False       False   False  ...   \n",
       "4         False           False          False       False   False  ...   \n",
       "...         ...             ...            ...         ...     ...  ...   \n",
       "4405      False           False          False       False   False  ...   \n",
       "4406      False           False          False       False   False  ...   \n",
       "4407      False           False          False       False   False  ...   \n",
       "4408      False           False          False       False   False  ...   \n",
       "4409      False           False          False       False   False  ...   \n",
       "\n",
       "      NumCompaniesWorked  Over18  PercentSalaryHike  StandardHours  \\\n",
       "0                  False   False              False          False   \n",
       "1                  False   False              False          False   \n",
       "2                  False   False              False          False   \n",
       "3                  False   False              False          False   \n",
       "4                  False   False              False          False   \n",
       "...                  ...     ...                ...            ...   \n",
       "4405               False   False              False          False   \n",
       "4406               False   False              False          False   \n",
       "4407               False   False              False          False   \n",
       "4408               False   False              False          False   \n",
       "4409               False   False              False          False   \n",
       "\n",
       "      StockOptionLevel  TotalWorkingYears  TrainingTimesLastYear  \\\n",
       "0                False              False                  False   \n",
       "1                False              False                  False   \n",
       "2                False              False                  False   \n",
       "3                False              False                  False   \n",
       "4                False              False                  False   \n",
       "...                ...                ...                    ...   \n",
       "4405             False              False                  False   \n",
       "4406             False              False                  False   \n",
       "4407             False              False                  False   \n",
       "4408             False              False                  False   \n",
       "4409             False               True                  False   \n",
       "\n",
       "      YearsAtCompany  YearsSinceLastPromotion  YearsWithCurrManager  \n",
       "0              False                    False                 False  \n",
       "1              False                    False                 False  \n",
       "2              False                    False                 False  \n",
       "3              False                    False                 False  \n",
       "4              False                    False                 False  \n",
       "...              ...                      ...                   ...  \n",
       "4405           False                    False                 False  \n",
       "4406           False                    False                 False  \n",
       "4407           False                    False                 False  \n",
       "4408           False                    False                 False  \n",
       "4409           False                    False                 False  \n",
       "\n",
       "[4410 rows x 24 columns]"
      ]
     },
     "execution_count": 10,
     "metadata": {},
     "output_type": "execute_result"
    }
   ],
   "source": [
    "dataset1.isnull() # For revealing all null values if any"
   ]
  },
  {
   "cell_type": "code",
   "execution_count": 14,
   "metadata": {},
   "outputs": [
    {
     "data": {
      "text/plain": [
       "0       False\n",
       "1       False\n",
       "2       False\n",
       "3       False\n",
       "4       False\n",
       "        ...  \n",
       "4405    False\n",
       "4406    False\n",
       "4407    False\n",
       "4408    False\n",
       "4409    False\n",
       "Length: 4410, dtype: bool"
      ]
     },
     "execution_count": 14,
     "metadata": {},
     "output_type": "execute_result"
    }
   ],
   "source": [
    "dataset1.duplicated() # For revealing all duplicated values if any"
   ]
  },
  {
   "cell_type": "code",
   "execution_count": 15,
   "metadata": {},
   "outputs": [
    {
     "data": {
      "text/html": [
       "<div>\n",
       "<style scoped>\n",
       "    .dataframe tbody tr th:only-of-type {\n",
       "        vertical-align: middle;\n",
       "    }\n",
       "\n",
       "    .dataframe tbody tr th {\n",
       "        vertical-align: top;\n",
       "    }\n",
       "\n",
       "    .dataframe thead th {\n",
       "        text-align: right;\n",
       "    }\n",
       "</style>\n",
       "<table border=\"1\" class=\"dataframe\">\n",
       "  <thead>\n",
       "    <tr style=\"text-align: right;\">\n",
       "      <th></th>\n",
       "      <th>Age</th>\n",
       "      <th>Attrition</th>\n",
       "      <th>BusinessTravel</th>\n",
       "      <th>Department</th>\n",
       "      <th>DistanceFromHome</th>\n",
       "      <th>Education</th>\n",
       "      <th>EducationField</th>\n",
       "      <th>EmployeeCount</th>\n",
       "      <th>EmployeeID</th>\n",
       "      <th>Gender</th>\n",
       "      <th>...</th>\n",
       "      <th>NumCompaniesWorked</th>\n",
       "      <th>Over18</th>\n",
       "      <th>PercentSalaryHike</th>\n",
       "      <th>StandardHours</th>\n",
       "      <th>StockOptionLevel</th>\n",
       "      <th>TotalWorkingYears</th>\n",
       "      <th>TrainingTimesLastYear</th>\n",
       "      <th>YearsAtCompany</th>\n",
       "      <th>YearsSinceLastPromotion</th>\n",
       "      <th>YearsWithCurrManager</th>\n",
       "    </tr>\n",
       "  </thead>\n",
       "  <tbody>\n",
       "    <tr>\n",
       "      <th>0</th>\n",
       "      <td>51</td>\n",
       "      <td>No</td>\n",
       "      <td>Travel_Rarely</td>\n",
       "      <td>Sales</td>\n",
       "      <td>6</td>\n",
       "      <td>2</td>\n",
       "      <td>Life Sciences</td>\n",
       "      <td>1</td>\n",
       "      <td>1</td>\n",
       "      <td>Female</td>\n",
       "      <td>...</td>\n",
       "      <td>1.0</td>\n",
       "      <td>Y</td>\n",
       "      <td>11</td>\n",
       "      <td>8</td>\n",
       "      <td>0</td>\n",
       "      <td>1.0</td>\n",
       "      <td>6</td>\n",
       "      <td>1</td>\n",
       "      <td>0</td>\n",
       "      <td>0</td>\n",
       "    </tr>\n",
       "    <tr>\n",
       "      <th>1</th>\n",
       "      <td>31</td>\n",
       "      <td>Yes</td>\n",
       "      <td>Travel_Frequently</td>\n",
       "      <td>Research &amp; Development</td>\n",
       "      <td>10</td>\n",
       "      <td>1</td>\n",
       "      <td>Life Sciences</td>\n",
       "      <td>1</td>\n",
       "      <td>2</td>\n",
       "      <td>Female</td>\n",
       "      <td>...</td>\n",
       "      <td>0.0</td>\n",
       "      <td>Y</td>\n",
       "      <td>23</td>\n",
       "      <td>8</td>\n",
       "      <td>1</td>\n",
       "      <td>6.0</td>\n",
       "      <td>3</td>\n",
       "      <td>5</td>\n",
       "      <td>1</td>\n",
       "      <td>4</td>\n",
       "    </tr>\n",
       "    <tr>\n",
       "      <th>2</th>\n",
       "      <td>32</td>\n",
       "      <td>No</td>\n",
       "      <td>Travel_Frequently</td>\n",
       "      <td>Research &amp; Development</td>\n",
       "      <td>17</td>\n",
       "      <td>4</td>\n",
       "      <td>Other</td>\n",
       "      <td>1</td>\n",
       "      <td>3</td>\n",
       "      <td>Male</td>\n",
       "      <td>...</td>\n",
       "      <td>1.0</td>\n",
       "      <td>Y</td>\n",
       "      <td>15</td>\n",
       "      <td>8</td>\n",
       "      <td>3</td>\n",
       "      <td>5.0</td>\n",
       "      <td>2</td>\n",
       "      <td>5</td>\n",
       "      <td>0</td>\n",
       "      <td>3</td>\n",
       "    </tr>\n",
       "    <tr>\n",
       "      <th>3</th>\n",
       "      <td>38</td>\n",
       "      <td>No</td>\n",
       "      <td>Non-Travel</td>\n",
       "      <td>Research &amp; Development</td>\n",
       "      <td>2</td>\n",
       "      <td>5</td>\n",
       "      <td>Life Sciences</td>\n",
       "      <td>1</td>\n",
       "      <td>4</td>\n",
       "      <td>Male</td>\n",
       "      <td>...</td>\n",
       "      <td>3.0</td>\n",
       "      <td>Y</td>\n",
       "      <td>11</td>\n",
       "      <td>8</td>\n",
       "      <td>3</td>\n",
       "      <td>13.0</td>\n",
       "      <td>5</td>\n",
       "      <td>8</td>\n",
       "      <td>7</td>\n",
       "      <td>5</td>\n",
       "    </tr>\n",
       "    <tr>\n",
       "      <th>4</th>\n",
       "      <td>32</td>\n",
       "      <td>No</td>\n",
       "      <td>Travel_Rarely</td>\n",
       "      <td>Research &amp; Development</td>\n",
       "      <td>10</td>\n",
       "      <td>1</td>\n",
       "      <td>Medical</td>\n",
       "      <td>1</td>\n",
       "      <td>5</td>\n",
       "      <td>Male</td>\n",
       "      <td>...</td>\n",
       "      <td>4.0</td>\n",
       "      <td>Y</td>\n",
       "      <td>12</td>\n",
       "      <td>8</td>\n",
       "      <td>2</td>\n",
       "      <td>9.0</td>\n",
       "      <td>2</td>\n",
       "      <td>6</td>\n",
       "      <td>0</td>\n",
       "      <td>4</td>\n",
       "    </tr>\n",
       "    <tr>\n",
       "      <th>...</th>\n",
       "      <td>...</td>\n",
       "      <td>...</td>\n",
       "      <td>...</td>\n",
       "      <td>...</td>\n",
       "      <td>...</td>\n",
       "      <td>...</td>\n",
       "      <td>...</td>\n",
       "      <td>...</td>\n",
       "      <td>...</td>\n",
       "      <td>...</td>\n",
       "      <td>...</td>\n",
       "      <td>...</td>\n",
       "      <td>...</td>\n",
       "      <td>...</td>\n",
       "      <td>...</td>\n",
       "      <td>...</td>\n",
       "      <td>...</td>\n",
       "      <td>...</td>\n",
       "      <td>...</td>\n",
       "      <td>...</td>\n",
       "      <td>...</td>\n",
       "    </tr>\n",
       "    <tr>\n",
       "      <th>4405</th>\n",
       "      <td>42</td>\n",
       "      <td>No</td>\n",
       "      <td>Travel_Rarely</td>\n",
       "      <td>Research &amp; Development</td>\n",
       "      <td>5</td>\n",
       "      <td>4</td>\n",
       "      <td>Medical</td>\n",
       "      <td>1</td>\n",
       "      <td>4406</td>\n",
       "      <td>Female</td>\n",
       "      <td>...</td>\n",
       "      <td>3.0</td>\n",
       "      <td>Y</td>\n",
       "      <td>17</td>\n",
       "      <td>8</td>\n",
       "      <td>1</td>\n",
       "      <td>10.0</td>\n",
       "      <td>5</td>\n",
       "      <td>3</td>\n",
       "      <td>0</td>\n",
       "      <td>2</td>\n",
       "    </tr>\n",
       "    <tr>\n",
       "      <th>4406</th>\n",
       "      <td>29</td>\n",
       "      <td>No</td>\n",
       "      <td>Travel_Rarely</td>\n",
       "      <td>Research &amp; Development</td>\n",
       "      <td>2</td>\n",
       "      <td>4</td>\n",
       "      <td>Medical</td>\n",
       "      <td>1</td>\n",
       "      <td>4407</td>\n",
       "      <td>Male</td>\n",
       "      <td>...</td>\n",
       "      <td>2.0</td>\n",
       "      <td>Y</td>\n",
       "      <td>15</td>\n",
       "      <td>8</td>\n",
       "      <td>0</td>\n",
       "      <td>10.0</td>\n",
       "      <td>2</td>\n",
       "      <td>3</td>\n",
       "      <td>0</td>\n",
       "      <td>2</td>\n",
       "    </tr>\n",
       "    <tr>\n",
       "      <th>4407</th>\n",
       "      <td>25</td>\n",
       "      <td>No</td>\n",
       "      <td>Travel_Rarely</td>\n",
       "      <td>Research &amp; Development</td>\n",
       "      <td>25</td>\n",
       "      <td>2</td>\n",
       "      <td>Life Sciences</td>\n",
       "      <td>1</td>\n",
       "      <td>4408</td>\n",
       "      <td>Male</td>\n",
       "      <td>...</td>\n",
       "      <td>0.0</td>\n",
       "      <td>Y</td>\n",
       "      <td>20</td>\n",
       "      <td>8</td>\n",
       "      <td>0</td>\n",
       "      <td>5.0</td>\n",
       "      <td>4</td>\n",
       "      <td>4</td>\n",
       "      <td>1</td>\n",
       "      <td>2</td>\n",
       "    </tr>\n",
       "    <tr>\n",
       "      <th>4408</th>\n",
       "      <td>42</td>\n",
       "      <td>No</td>\n",
       "      <td>Travel_Rarely</td>\n",
       "      <td>Sales</td>\n",
       "      <td>18</td>\n",
       "      <td>2</td>\n",
       "      <td>Medical</td>\n",
       "      <td>1</td>\n",
       "      <td>4409</td>\n",
       "      <td>Male</td>\n",
       "      <td>...</td>\n",
       "      <td>0.0</td>\n",
       "      <td>Y</td>\n",
       "      <td>14</td>\n",
       "      <td>8</td>\n",
       "      <td>1</td>\n",
       "      <td>10.0</td>\n",
       "      <td>2</td>\n",
       "      <td>9</td>\n",
       "      <td>7</td>\n",
       "      <td>8</td>\n",
       "    </tr>\n",
       "    <tr>\n",
       "      <th>4409</th>\n",
       "      <td>40</td>\n",
       "      <td>No</td>\n",
       "      <td>Travel_Rarely</td>\n",
       "      <td>Research &amp; Development</td>\n",
       "      <td>28</td>\n",
       "      <td>3</td>\n",
       "      <td>Medical</td>\n",
       "      <td>1</td>\n",
       "      <td>4410</td>\n",
       "      <td>Male</td>\n",
       "      <td>...</td>\n",
       "      <td>0.0</td>\n",
       "      <td>Y</td>\n",
       "      <td>12</td>\n",
       "      <td>8</td>\n",
       "      <td>0</td>\n",
       "      <td>NaN</td>\n",
       "      <td>6</td>\n",
       "      <td>21</td>\n",
       "      <td>3</td>\n",
       "      <td>9</td>\n",
       "    </tr>\n",
       "  </tbody>\n",
       "</table>\n",
       "<p>4410 rows × 24 columns</p>\n",
       "</div>"
      ],
      "text/plain": [
       "      Age Attrition     BusinessTravel              Department  \\\n",
       "0      51        No      Travel_Rarely                   Sales   \n",
       "1      31       Yes  Travel_Frequently  Research & Development   \n",
       "2      32        No  Travel_Frequently  Research & Development   \n",
       "3      38        No         Non-Travel  Research & Development   \n",
       "4      32        No      Travel_Rarely  Research & Development   \n",
       "...   ...       ...                ...                     ...   \n",
       "4405   42        No      Travel_Rarely  Research & Development   \n",
       "4406   29        No      Travel_Rarely  Research & Development   \n",
       "4407   25        No      Travel_Rarely  Research & Development   \n",
       "4408   42        No      Travel_Rarely                   Sales   \n",
       "4409   40        No      Travel_Rarely  Research & Development   \n",
       "\n",
       "      DistanceFromHome  Education EducationField  EmployeeCount  EmployeeID  \\\n",
       "0                    6          2  Life Sciences              1           1   \n",
       "1                   10          1  Life Sciences              1           2   \n",
       "2                   17          4          Other              1           3   \n",
       "3                    2          5  Life Sciences              1           4   \n",
       "4                   10          1        Medical              1           5   \n",
       "...                ...        ...            ...            ...         ...   \n",
       "4405                 5          4        Medical              1        4406   \n",
       "4406                 2          4        Medical              1        4407   \n",
       "4407                25          2  Life Sciences              1        4408   \n",
       "4408                18          2        Medical              1        4409   \n",
       "4409                28          3        Medical              1        4410   \n",
       "\n",
       "      Gender  ...  NumCompaniesWorked Over18 PercentSalaryHike  StandardHours  \\\n",
       "0     Female  ...                 1.0      Y                11              8   \n",
       "1     Female  ...                 0.0      Y                23              8   \n",
       "2       Male  ...                 1.0      Y                15              8   \n",
       "3       Male  ...                 3.0      Y                11              8   \n",
       "4       Male  ...                 4.0      Y                12              8   \n",
       "...      ...  ...                 ...    ...               ...            ...   \n",
       "4405  Female  ...                 3.0      Y                17              8   \n",
       "4406    Male  ...                 2.0      Y                15              8   \n",
       "4407    Male  ...                 0.0      Y                20              8   \n",
       "4408    Male  ...                 0.0      Y                14              8   \n",
       "4409    Male  ...                 0.0      Y                12              8   \n",
       "\n",
       "      StockOptionLevel TotalWorkingYears  TrainingTimesLastYear  \\\n",
       "0                    0               1.0                      6   \n",
       "1                    1               6.0                      3   \n",
       "2                    3               5.0                      2   \n",
       "3                    3              13.0                      5   \n",
       "4                    2               9.0                      2   \n",
       "...                ...               ...                    ...   \n",
       "4405                 1              10.0                      5   \n",
       "4406                 0              10.0                      2   \n",
       "4407                 0               5.0                      4   \n",
       "4408                 1              10.0                      2   \n",
       "4409                 0               NaN                      6   \n",
       "\n",
       "      YearsAtCompany  YearsSinceLastPromotion  YearsWithCurrManager  \n",
       "0                  1                        0                     0  \n",
       "1                  5                        1                     4  \n",
       "2                  5                        0                     3  \n",
       "3                  8                        7                     5  \n",
       "4                  6                        0                     4  \n",
       "...              ...                      ...                   ...  \n",
       "4405               3                        0                     2  \n",
       "4406               3                        0                     2  \n",
       "4407               4                        1                     2  \n",
       "4408               9                        7                     8  \n",
       "4409              21                        3                     9  \n",
       "\n",
       "[4410 rows x 24 columns]"
      ]
     },
     "execution_count": 15,
     "metadata": {},
     "output_type": "execute_result"
    }
   ],
   "source": [
    "# Removing the null and the duplicated values\n",
    "dataset1.dropna()\n",
    "dataset1.drop_duplicates()"
   ]
  },
  {
   "cell_type": "markdown",
   "metadata": {},
   "source": [
    "## Step 3 : Univariate Ananlysis of The Dataset"
   ]
  },
  {
   "cell_type": "markdown",
   "metadata": {},
   "source": [
    "#### First we use describe() method to get the info on the different values of of the dataset"
   ]
  },
  {
   "cell_type": "code",
   "execution_count": 21,
   "metadata": {},
   "outputs": [
    {
     "data": {
      "text/html": [
       "<div>\n",
       "<style scoped>\n",
       "    .dataframe tbody tr th:only-of-type {\n",
       "        vertical-align: middle;\n",
       "    }\n",
       "\n",
       "    .dataframe tbody tr th {\n",
       "        vertical-align: top;\n",
       "    }\n",
       "\n",
       "    .dataframe thead th {\n",
       "        text-align: right;\n",
       "    }\n",
       "</style>\n",
       "<table border=\"1\" class=\"dataframe\">\n",
       "  <thead>\n",
       "    <tr style=\"text-align: right;\">\n",
       "      <th></th>\n",
       "      <th>Age</th>\n",
       "      <th>DistanceFromHome</th>\n",
       "      <th>Education</th>\n",
       "      <th>MonthlyIncome</th>\n",
       "      <th>NumCompaniesWorked</th>\n",
       "      <th>PercentSalaryHike</th>\n",
       "      <th>TotalWorkingYears</th>\n",
       "      <th>TrainingTimesLastYear</th>\n",
       "      <th>YearsAtCompany</th>\n",
       "      <th>YearsSinceLastPromotion</th>\n",
       "      <th>YearsWithCurrManager</th>\n",
       "    </tr>\n",
       "  </thead>\n",
       "  <tbody>\n",
       "    <tr>\n",
       "      <th>count</th>\n",
       "      <td>4410.000000</td>\n",
       "      <td>4410.000000</td>\n",
       "      <td>4410.000000</td>\n",
       "      <td>4410.000000</td>\n",
       "      <td>4391.000000</td>\n",
       "      <td>4410.000000</td>\n",
       "      <td>4401.000000</td>\n",
       "      <td>4410.000000</td>\n",
       "      <td>4410.000000</td>\n",
       "      <td>4410.000000</td>\n",
       "      <td>4410.000000</td>\n",
       "    </tr>\n",
       "    <tr>\n",
       "      <th>mean</th>\n",
       "      <td>36.923810</td>\n",
       "      <td>9.192517</td>\n",
       "      <td>2.912925</td>\n",
       "      <td>65029.312925</td>\n",
       "      <td>2.694830</td>\n",
       "      <td>15.209524</td>\n",
       "      <td>11.279936</td>\n",
       "      <td>2.799320</td>\n",
       "      <td>7.008163</td>\n",
       "      <td>2.187755</td>\n",
       "      <td>4.123129</td>\n",
       "    </tr>\n",
       "    <tr>\n",
       "      <th>std</th>\n",
       "      <td>9.133301</td>\n",
       "      <td>8.105026</td>\n",
       "      <td>1.023933</td>\n",
       "      <td>47068.888559</td>\n",
       "      <td>2.498887</td>\n",
       "      <td>3.659108</td>\n",
       "      <td>7.782222</td>\n",
       "      <td>1.288978</td>\n",
       "      <td>6.125135</td>\n",
       "      <td>3.221699</td>\n",
       "      <td>3.567327</td>\n",
       "    </tr>\n",
       "    <tr>\n",
       "      <th>min</th>\n",
       "      <td>18.000000</td>\n",
       "      <td>1.000000</td>\n",
       "      <td>1.000000</td>\n",
       "      <td>10090.000000</td>\n",
       "      <td>0.000000</td>\n",
       "      <td>11.000000</td>\n",
       "      <td>0.000000</td>\n",
       "      <td>0.000000</td>\n",
       "      <td>0.000000</td>\n",
       "      <td>0.000000</td>\n",
       "      <td>0.000000</td>\n",
       "    </tr>\n",
       "    <tr>\n",
       "      <th>25%</th>\n",
       "      <td>30.000000</td>\n",
       "      <td>2.000000</td>\n",
       "      <td>2.000000</td>\n",
       "      <td>29110.000000</td>\n",
       "      <td>1.000000</td>\n",
       "      <td>12.000000</td>\n",
       "      <td>6.000000</td>\n",
       "      <td>2.000000</td>\n",
       "      <td>3.000000</td>\n",
       "      <td>0.000000</td>\n",
       "      <td>2.000000</td>\n",
       "    </tr>\n",
       "    <tr>\n",
       "      <th>50%</th>\n",
       "      <td>36.000000</td>\n",
       "      <td>7.000000</td>\n",
       "      <td>3.000000</td>\n",
       "      <td>49190.000000</td>\n",
       "      <td>2.000000</td>\n",
       "      <td>14.000000</td>\n",
       "      <td>10.000000</td>\n",
       "      <td>3.000000</td>\n",
       "      <td>5.000000</td>\n",
       "      <td>1.000000</td>\n",
       "      <td>3.000000</td>\n",
       "    </tr>\n",
       "    <tr>\n",
       "      <th>75%</th>\n",
       "      <td>43.000000</td>\n",
       "      <td>14.000000</td>\n",
       "      <td>4.000000</td>\n",
       "      <td>83800.000000</td>\n",
       "      <td>4.000000</td>\n",
       "      <td>18.000000</td>\n",
       "      <td>15.000000</td>\n",
       "      <td>3.000000</td>\n",
       "      <td>9.000000</td>\n",
       "      <td>3.000000</td>\n",
       "      <td>7.000000</td>\n",
       "    </tr>\n",
       "    <tr>\n",
       "      <th>max</th>\n",
       "      <td>60.000000</td>\n",
       "      <td>29.000000</td>\n",
       "      <td>5.000000</td>\n",
       "      <td>199990.000000</td>\n",
       "      <td>9.000000</td>\n",
       "      <td>25.000000</td>\n",
       "      <td>40.000000</td>\n",
       "      <td>6.000000</td>\n",
       "      <td>40.000000</td>\n",
       "      <td>15.000000</td>\n",
       "      <td>17.000000</td>\n",
       "    </tr>\n",
       "  </tbody>\n",
       "</table>\n",
       "</div>"
      ],
      "text/plain": [
       "               Age  DistanceFromHome    Education  MonthlyIncome  \\\n",
       "count  4410.000000       4410.000000  4410.000000    4410.000000   \n",
       "mean     36.923810          9.192517     2.912925   65029.312925   \n",
       "std       9.133301          8.105026     1.023933   47068.888559   \n",
       "min      18.000000          1.000000     1.000000   10090.000000   \n",
       "25%      30.000000          2.000000     2.000000   29110.000000   \n",
       "50%      36.000000          7.000000     3.000000   49190.000000   \n",
       "75%      43.000000         14.000000     4.000000   83800.000000   \n",
       "max      60.000000         29.000000     5.000000  199990.000000   \n",
       "\n",
       "       NumCompaniesWorked  PercentSalaryHike  TotalWorkingYears  \\\n",
       "count         4391.000000        4410.000000        4401.000000   \n",
       "mean             2.694830          15.209524          11.279936   \n",
       "std              2.498887           3.659108           7.782222   \n",
       "min              0.000000          11.000000           0.000000   \n",
       "25%              1.000000          12.000000           6.000000   \n",
       "50%              2.000000          14.000000          10.000000   \n",
       "75%              4.000000          18.000000          15.000000   \n",
       "max              9.000000          25.000000          40.000000   \n",
       "\n",
       "       TrainingTimesLastYear  YearsAtCompany  YearsSinceLastPromotion  \\\n",
       "count            4410.000000     4410.000000              4410.000000   \n",
       "mean                2.799320        7.008163                 2.187755   \n",
       "std                 1.288978        6.125135                 3.221699   \n",
       "min                 0.000000        0.000000                 0.000000   \n",
       "25%                 2.000000        3.000000                 0.000000   \n",
       "50%                 3.000000        5.000000                 1.000000   \n",
       "75%                 3.000000        9.000000                 3.000000   \n",
       "max                 6.000000       40.000000                15.000000   \n",
       "\n",
       "       YearsWithCurrManager  \n",
       "count           4410.000000  \n",
       "mean               4.123129  \n",
       "std                3.567327  \n",
       "min                0.000000  \n",
       "25%                2.000000  \n",
       "50%                3.000000  \n",
       "75%                7.000000  \n",
       "max               17.000000  "
      ]
     },
     "execution_count": 21,
     "metadata": {},
     "output_type": "execute_result"
    }
   ],
   "source": [
    "dataset2=dataset1[['Age','DistanceFromHome','Education','MonthlyIncome', \n",
    "'NumCompaniesWorked', 'PercentSalaryHike','TotalWorkingYears', 'TrainingTimesLastYear', \n",
    "'YearsAtCompany','YearsSinceLastPromotion', \n",
    "'YearsWithCurrManager']].describe()\n",
    "dataset2"
   ]
  },
  {
   "cell_type": "markdown",
   "metadata": {},
   "source": [
    "#### For Mean of the features "
   ]
  },
  {
   "cell_type": "code",
   "execution_count": 80,
   "metadata": {},
   "outputs": [
    {
     "data": {
      "text/plain": [
       "Age                           36.923810\n",
       "DistanceFromHome               9.192517\n",
       "Education                      2.912925\n",
       "MonthlyIncome              65029.312925\n",
       "NumCompaniesWorked             2.694830\n",
       "PercentSalaryHike             15.209524\n",
       "TotalWorkingYears             11.279936\n",
       "TrainingTimesLastYear          2.799320\n",
       "YearsAtCompany                 7.008163\n",
       "YearsSinceLastPromotion        2.187755\n",
       "YearsWithCurrManager           4.123129\n",
       "dtype: float64"
      ]
     },
     "execution_count": 80,
     "metadata": {},
     "output_type": "execute_result"
    }
   ],
   "source": [
    "dataset2=dataset1[['Age','DistanceFromHome','Education','MonthlyIncome', \n",
    "'NumCompaniesWorked', 'PercentSalaryHike','TotalWorkingYears', 'TrainingTimesLastYear', \n",
    "'YearsAtCompany','YearsSinceLastPromotion', \n",
    "'YearsWithCurrManager']].mean()\n",
    "dataset2"
   ]
  },
  {
   "cell_type": "markdown",
   "metadata": {},
   "source": [
    "#### For Standard Deviation of the features"
   ]
  },
  {
   "cell_type": "code",
   "execution_count": 83,
   "metadata": {},
   "outputs": [
    {
     "data": {
      "text/plain": [
       "Age                            9.133301\n",
       "DistanceFromHome               8.105026\n",
       "Education                      1.023933\n",
       "MonthlyIncome              47068.888559\n",
       "NumCompaniesWorked             2.498887\n",
       "PercentSalaryHike              3.659108\n",
       "TotalWorkingYears              7.782222\n",
       "TrainingTimesLastYear          1.288978\n",
       "YearsAtCompany                 6.125135\n",
       "YearsSinceLastPromotion        3.221699\n",
       "YearsWithCurrManager           3.567327\n",
       "dtype: float64"
      ]
     },
     "execution_count": 83,
     "metadata": {},
     "output_type": "execute_result"
    }
   ],
   "source": [
    "dataset2=dataset1[['Age','DistanceFromHome','Education','MonthlyIncome', \n",
    "'NumCompaniesWorked', 'PercentSalaryHike','TotalWorkingYears', 'TrainingTimesLastYear', \n",
    "'YearsAtCompany','YearsSinceLastPromotion', \n",
    "'YearsWithCurrManager']].std()\n",
    "dataset2"
   ]
  },
  {
   "cell_type": "markdown",
   "metadata": {},
   "source": [
    "#### For the Median of the features"
   ]
  },
  {
   "cell_type": "code",
   "execution_count": 23,
   "metadata": {},
   "outputs": [
    {
     "data": {
      "text/plain": [
       "Age                           36.0\n",
       "DistanceFromHome               7.0\n",
       "Education                      3.0\n",
       "MonthlyIncome              49190.0\n",
       "NumCompaniesWorked             2.0\n",
       "PercentSalaryHike             14.0\n",
       "TotalWorkingYears             10.0\n",
       "TrainingTimesLastYear          3.0\n",
       "YearsAtCompany                 5.0\n",
       "YearsSinceLastPromotion        1.0\n",
       "YearsWithCurrManager           3.0\n",
       "dtype: float64"
      ]
     },
     "execution_count": 23,
     "metadata": {},
     "output_type": "execute_result"
    }
   ],
   "source": [
    "dataset2=dataset1[['Age','DistanceFromHome','Education','MonthlyIncome', \n",
    "'NumCompaniesWorked', 'PercentSalaryHike','TotalWorkingYears', 'TrainingTimesLastYear', \n",
    "'YearsAtCompany','YearsSinceLastPromotion', \n",
    "'YearsWithCurrManager']].median()\n",
    "dataset2"
   ]
  },
  {
   "cell_type": "markdown",
   "metadata": {},
   "source": [
    "#### For the mode of the features"
   ]
  },
  {
   "cell_type": "code",
   "execution_count": 29,
   "metadata": {},
   "outputs": [
    {
     "data": {
      "text/html": [
       "<div>\n",
       "<style scoped>\n",
       "    .dataframe tbody tr th:only-of-type {\n",
       "        vertical-align: middle;\n",
       "    }\n",
       "\n",
       "    .dataframe tbody tr th {\n",
       "        vertical-align: top;\n",
       "    }\n",
       "\n",
       "    .dataframe thead th {\n",
       "        text-align: right;\n",
       "    }\n",
       "</style>\n",
       "<table border=\"1\" class=\"dataframe\">\n",
       "  <thead>\n",
       "    <tr style=\"text-align: right;\">\n",
       "      <th></th>\n",
       "      <th>Age</th>\n",
       "      <th>DistanceFromHome</th>\n",
       "      <th>Education</th>\n",
       "      <th>MonthlyIncome</th>\n",
       "      <th>NumCompaniesWorked</th>\n",
       "      <th>PercentSalaryHike</th>\n",
       "      <th>TotalWorkingYears</th>\n",
       "      <th>TrainingTimesLastYear</th>\n",
       "      <th>YearsAtCompany</th>\n",
       "      <th>YearsSinceLastPromotion</th>\n",
       "      <th>YearsWithCurrManager</th>\n",
       "    </tr>\n",
       "  </thead>\n",
       "  <tbody>\n",
       "    <tr>\n",
       "      <th>0</th>\n",
       "      <td>35</td>\n",
       "      <td>2</td>\n",
       "      <td>3</td>\n",
       "      <td>23420</td>\n",
       "      <td>1.0</td>\n",
       "      <td>11</td>\n",
       "      <td>10.0</td>\n",
       "      <td>2</td>\n",
       "      <td>5</td>\n",
       "      <td>0</td>\n",
       "      <td>2</td>\n",
       "    </tr>\n",
       "  </tbody>\n",
       "</table>\n",
       "</div>"
      ],
      "text/plain": [
       "   Age  DistanceFromHome  Education  MonthlyIncome  NumCompaniesWorked  \\\n",
       "0   35                 2          3          23420                 1.0   \n",
       "\n",
       "   PercentSalaryHike  TotalWorkingYears  TrainingTimesLastYear  \\\n",
       "0                 11               10.0                      2   \n",
       "\n",
       "   YearsAtCompany  YearsSinceLastPromotion  YearsWithCurrManager  \n",
       "0               5                        0                     2  "
      ]
     },
     "execution_count": 29,
     "metadata": {},
     "output_type": "execute_result"
    }
   ],
   "source": [
    "# Mode\n",
    "dataset2=dataset1[['Age','DistanceFromHome','Education','MonthlyIncome', \n",
    "'NumCompaniesWorked', 'PercentSalaryHike','TotalWorkingYears', 'TrainingTimesLastYear', \n",
    "'YearsAtCompany','YearsSinceLastPromotion', \n",
    "'YearsWithCurrManager']].mode()\n",
    "dataset2"
   ]
  },
  {
   "cell_type": "markdown",
   "metadata": {},
   "source": [
    "#### For the Variance of the features"
   ]
  },
  {
   "cell_type": "code",
   "execution_count": 31,
   "metadata": {},
   "outputs": [
    {
     "data": {
      "text/plain": [
       "Age                        8.341719e+01\n",
       "DistanceFromHome           6.569144e+01\n",
       "Education                  1.048438e+00\n",
       "MonthlyIncome              2.215480e+09\n",
       "NumCompaniesWorked         6.244436e+00\n",
       "PercentSalaryHike          1.338907e+01\n",
       "TotalWorkingYears          6.056298e+01\n",
       "TrainingTimesLastYear      1.661465e+00\n",
       "YearsAtCompany             3.751728e+01\n",
       "YearsSinceLastPromotion    1.037935e+01\n",
       "YearsWithCurrManager       1.272582e+01\n",
       "dtype: float64"
      ]
     },
     "execution_count": 31,
     "metadata": {},
     "output_type": "execute_result"
    }
   ],
   "source": [
    "dataset2=dataset1[['Age','DistanceFromHome','Education','MonthlyIncome', \n",
    "'NumCompaniesWorked', 'PercentSalaryHike','TotalWorkingYears', 'TrainingTimesLastYear', \n",
    "'YearsAtCompany','YearsSinceLastPromotion', \n",
    "'YearsWithCurrManager']].var()\n",
    "dataset2"
   ]
  },
  {
   "cell_type": "markdown",
   "metadata": {},
   "source": [
    "#### For Skewness of the data"
   ]
  },
  {
   "cell_type": "code",
   "execution_count": 44,
   "metadata": {},
   "outputs": [
    {
     "data": {
      "text/plain": [
       "Age                        0.413005\n",
       "DistanceFromHome           0.957466\n",
       "Education                 -0.289484\n",
       "MonthlyIncome              1.368884\n",
       "NumCompaniesWorked         1.026767\n",
       "PercentSalaryHike          0.820569\n",
       "TotalWorkingYears          1.116832\n",
       "TrainingTimesLastYear      0.552748\n",
       "YearsAtCompany             1.763328\n",
       "YearsSinceLastPromotion    1.982939\n",
       "YearsWithCurrManager       0.832884\n",
       "dtype: float64"
      ]
     },
     "execution_count": 44,
     "metadata": {},
     "output_type": "execute_result"
    }
   ],
   "source": [
    "dataset2=dataset1[['Age','DistanceFromHome','Education','MonthlyIncome', \n",
    "'NumCompaniesWorked', 'PercentSalaryHike','TotalWorkingYears', 'TrainingTimesLastYear', \n",
    "'YearsAtCompany','YearsSinceLastPromotion', \n",
    "'YearsWithCurrManager']].skew()\n",
    "dataset2"
   ]
  },
  {
   "cell_type": "markdown",
   "metadata": {},
   "source": [
    "#### For Kurtosis of the Data"
   ]
  },
  {
   "cell_type": "code",
   "execution_count": 35,
   "metadata": {},
   "outputs": [
    {
     "data": {
      "text/plain": [
       "Age                       -0.405951\n",
       "DistanceFromHome          -0.227045\n",
       "Education                 -0.560569\n",
       "MonthlyIncome              1.000232\n",
       "NumCompaniesWorked         0.007287\n",
       "PercentSalaryHike         -0.302638\n",
       "TotalWorkingYears          0.912936\n",
       "TrainingTimesLastYear      0.491149\n",
       "YearsAtCompany             3.923864\n",
       "YearsSinceLastPromotion    3.601761\n",
       "YearsWithCurrManager       0.167949\n",
       "dtype: float64"
      ]
     },
     "execution_count": 35,
     "metadata": {},
     "output_type": "execute_result"
    }
   ],
   "source": [
    "dataset2=dataset1[['Age','DistanceFromHome','Education','MonthlyIncome', \n",
    "'NumCompaniesWorked', 'PercentSalaryHike','TotalWorkingYears', 'TrainingTimesLastYear', \n",
    "'YearsAtCompany','YearsSinceLastPromotion', \n",
    "'YearsWithCurrManager']].kurt()\n",
    "dataset2"
   ]
  },
  {
   "cell_type": "markdown",
   "metadata": {},
   "source": [
    "### Step 4 : Inference from the Univariate Analysis : \n",
    "- **Mean** is simply the measure of average\n",
    "\n",
    "- **Standard Deviation** is used to determine the spreadness of the data in accordance with the mean. It is the square root of variance. In our analysis we find *MonthlyIncome* is spread out over a very wide range and thus it might have a high number of outliers. The same goes for *YearAtCompany*, *YearsWithCurrManager*. ( I might be wrong here )  \n",
    "\n",
    "\n",
    "- **Variance** measures the variability between the different variables from the given dataset. It is the measure of the spreading of the given data variables from the original mean. In our analysis we find *Age*, *DistanceFromHome*, *NumCompaniesWorked*, *TotalWorkingYears* and *YearsAtCompany* to be having the highest variation witht all other variables being significantly less variant.\n",
    "\n",
    "- **Skewness** tells us how  the  data is symmetrically (lopsidedly)distributed across Mean | Noramal | Median. In our distributive analysis we find all variables except Education to be positively skewed, which means it is more leaned towards the median. \n",
    "\n",
    "- **Kurtosis** tells us whether the dataset is peaked (Tailedness ) towards the Mode or the Median. In our analysis we find *Age*, ,*DistanceFromHome*, *Education* and *PercentSalaryHike* to be Leptokurtic and other are Platykurtic. \n",
    "\n"
   ]
  },
  {
   "cell_type": "markdown",
   "metadata": {},
   "source": [
    "## Step 5 : Identifying and Removing the Outliers\n",
    "Here we use Boxplot from matplotlib library.\n",
    "( No regression found when plotting Age, MonthlyIncome, TotalWorkingHours, YearsAtCompany, etc, on a scatter plot ? )"
   ]
  },
  {
   "cell_type": "code",
   "execution_count": 55,
   "metadata": {
    "scrolled": true
   },
   "outputs": [
    {
     "data": {
      "text/plain": [
       "{'whiskers': [<matplotlib.lines.Line2D at 0x2c1d5c52388>,\n",
       "  <matplotlib.lines.Line2D at 0x2c1d5d61a08>],\n",
       " 'caps': [<matplotlib.lines.Line2D at 0x2c1d5d4ba48>,\n",
       "  <matplotlib.lines.Line2D at 0x2c1d5d4bf88>],\n",
       " 'boxes': [<matplotlib.lines.Line2D at 0x2c1d5d61848>],\n",
       " 'medians': [<matplotlib.lines.Line2D at 0x2c1d5d4bbc8>],\n",
       " 'fliers': [<matplotlib.lines.Line2D at 0x2c1d5d5ba88>],\n",
       " 'means': []}"
      ]
     },
     "execution_count": 55,
     "metadata": {},
     "output_type": "execute_result"
    },
    {
     "data": {
      "image/png": "[encoded data removed]",
      "text/plain": [
       "<Figure size 432x288 with 1 Axes>"
      ]
     },
     "metadata": {
      "needs_background": "light"
     },
     "output_type": "display_data"
    }
   ],
   "source": [
    "box_plot = dataset1.Age\n",
    "plt.boxplot(box_plot)"
   ]
  },
  {
   "cell_type": "markdown",
   "metadata": {},
   "source": [
    "We find ***Age*** to be normally distributed without any outliers."
   ]
  },
  {
   "cell_type": "code",
   "execution_count": 56,
   "metadata": {},
   "outputs": [
    {
     "data": {
      "text/plain": [
       "{'whiskers': [<matplotlib.lines.Line2D at 0x2c1d598e408>,\n",
       "  <matplotlib.lines.Line2D at 0x2c1d59b2f88>],\n",
       " 'caps': [<matplotlib.lines.Line2D at 0x2c1d59b2f48>,\n",
       "  <matplotlib.lines.Line2D at 0x2c1d59b5fc8>],\n",
       " 'boxes': [<matplotlib.lines.Line2D at 0x2c1d59add88>],\n",
       " 'medians': [<matplotlib.lines.Line2D at 0x2c1d59b99c8>],\n",
       " 'fliers': [<matplotlib.lines.Line2D at 0x2c1d59b9ac8>],\n",
       " 'means': []}"
      ]
     },
     "execution_count": 56,
     "metadata": {},
     "output_type": "execute_result"
    },
    {
     "data": {
      "image/png": "[encoded data removed]",
      "text/plain": [
       "<Figure size 432x288 with 1 Axes>"
      ]
     },
     "metadata": {
      "needs_background": "light"
     },
     "output_type": "display_data"
    }
   ],
   "source": [
    "box_plot = dataset1.MonthlyIncome\n",
    "plt.boxplot(box_plot)"
   ]
  },
  {
   "cell_type": "markdown",
   "metadata": {},
   "source": [
    "Here we find ***MonthyIncome*** as right skewed with several outliers"
   ]
  },
  {
   "cell_type": "code",
   "execution_count": 57,
   "metadata": {},
   "outputs": [
    {
     "data": {
      "text/plain": [
       "{'whiskers': [<matplotlib.lines.Line2D at 0x2c1d61ee788>,\n",
       "  <matplotlib.lines.Line2D at 0x2c1d61dab08>],\n",
       " 'caps': [<matplotlib.lines.Line2D at 0x2c1d60925c8>,\n",
       "  <matplotlib.lines.Line2D at 0x2c1d61e9648>],\n",
       " 'boxes': [<matplotlib.lines.Line2D at 0x2c1d61da548>],\n",
       " 'medians': [<matplotlib.lines.Line2D at 0x2c1d5ac6f88>],\n",
       " 'fliers': [<matplotlib.lines.Line2D at 0x2c1d6074ec8>],\n",
       " 'means': []}"
      ]
     },
     "execution_count": 57,
     "metadata": {},
     "output_type": "execute_result"
    },
    {
     "data": {
      "image/png": "[encoded data removed]",
      "text/plain": [
       "<Figure size 432x288 with 1 Axes>"
      ]
     },
     "metadata": {
      "needs_background": "light"
     },
     "output_type": "display_data"
    }
   ],
   "source": [
    "box_plot = dataset1.YearsAtCompany\n",
    "plt.boxplot(box_plot)"
   ]
  },
  {
   "cell_type": "markdown",
   "metadata": {},
   "source": [
    "***YearsAtCompany*** us also right skewed with several outliers"
   ]
  },
  {
   "cell_type": "code",
   "execution_count": 58,
   "metadata": {},
   "outputs": [
    {
     "data": {
      "text/plain": [
       "{'whiskers': [<matplotlib.lines.Line2D at 0x2c1d62e8608>,\n",
       "  <matplotlib.lines.Line2D at 0x2c1d6324f88>],\n",
       " 'caps': [<matplotlib.lines.Line2D at 0x2c1d6324c88>,\n",
       "  <matplotlib.lines.Line2D at 0x2c1d632ab88>],\n",
       " 'boxes': [<matplotlib.lines.Line2D at 0x2c1d6324488>],\n",
       " 'medians': [<matplotlib.lines.Line2D at 0x2c1d632ac88>],\n",
       " 'fliers': [<matplotlib.lines.Line2D at 0x2c1d632ad08>],\n",
       " 'means': []}"
      ]
     },
     "execution_count": 58,
     "metadata": {},
     "output_type": "execute_result"
    },
    {
     "data": {
      "image/png": "[encoded data removed]",
      "text/plain": [
       "<Figure size 432x288 with 1 Axes>"
      ]
     },
     "metadata": {
      "needs_background": "light"
     },
     "output_type": "display_data"
    }
   ],
   "source": [
    "box_plot = dataset1.DistanceFromHome\n",
    "plt.boxplot(box_plot)"
   ]
  },
  {
   "cell_type": "markdown",
   "metadata": {},
   "source": [
    "***DistanceFromHome*** is right skewed and no outliers."
   ]
  },
  {
   "cell_type": "code",
   "execution_count": 64,
   "metadata": {},
   "outputs": [
    {
     "data": {
      "text/plain": [
       "{'whiskers': [<matplotlib.lines.Line2D at 0x2c1d659d5c8>,\n",
       "  <matplotlib.lines.Line2D at 0x2c1d65b4a88>],\n",
       " 'caps': [<matplotlib.lines.Line2D at 0x2c1d65bbac8>,\n",
       "  <matplotlib.lines.Line2D at 0x2c1d65bbbc8>],\n",
       " 'boxes': [<matplotlib.lines.Line2D at 0x2c1d65b48c8>],\n",
       " 'medians': [<matplotlib.lines.Line2D at 0x2c1d65c1a48>],\n",
       " 'fliers': [<matplotlib.lines.Line2D at 0x2c1d65c1b48>],\n",
       " 'means': []}"
      ]
     },
     "execution_count": 64,
     "metadata": {},
     "output_type": "execute_result"
    },
    {
     "data": {
      "image/png": "[encoded data removed]",
      "text/plain": [
       "<Figure size 432x288 with 1 Axes>"
      ]
     },
     "metadata": {
      "needs_background": "light"
     },
     "output_type": "display_data"
    }
   ],
   "source": [
    "box_plot = dataset1.Education\n",
    "plt.boxplot(box_plot)"
   ]
  },
  {
   "cell_type": "markdown",
   "metadata": {},
   "source": [
    "Here we see ***Education*** as left skewed with no outliers."
   ]
  },
  {
   "cell_type": "code",
   "execution_count": 68,
   "metadata": {},
   "outputs": [
    {
     "data": {
      "text/plain": [
       "{'whiskers': [<matplotlib.lines.Line2D at 0x2c1d665a8c8>,\n",
       "  <matplotlib.lines.Line2D at 0x2c1d6704708>],\n",
       " 'caps': [<matplotlib.lines.Line2D at 0x2c1d6704508>,\n",
       "  <matplotlib.lines.Line2D at 0x2c1d66f18c8>],\n",
       " 'boxes': [<matplotlib.lines.Line2D at 0x2c1d6700ac8>],\n",
       " 'medians': [<matplotlib.lines.Line2D at 0x2c1d657f9c8>],\n",
       " 'fliers': [<matplotlib.lines.Line2D at 0x2c1d6709fc8>],\n",
       " 'means': []}"
      ]
     },
     "execution_count": 68,
     "metadata": {},
     "output_type": "execute_result"
    },
    {
     "data": {
      "image/png": "[encoded data removed]",
      "text/plain": [
       "<Figure size 432x288 with 1 Axes>"
      ]
     },
     "metadata": {
      "needs_background": "light"
     },
     "output_type": "display_data"
    }
   ],
   "source": [
    "box_plot = dataset1.PercentSalaryHike\n",
    "plt.boxplot(box_plot)"
   ]
  },
  {
   "cell_type": "markdown",
   "metadata": {},
   "source": [
    "***PercentSalaryHike*** is right skewed and has no outliers"
   ]
  },
  {
   "cell_type": "code",
   "execution_count": 70,
   "metadata": {},
   "outputs": [
    {
     "data": {
      "text/plain": [
       "{'whiskers': [<matplotlib.lines.Line2D at 0x2c1d67c4d88>,\n",
       "  <matplotlib.lines.Line2D at 0x2c1d67eae08>],\n",
       " 'caps': [<matplotlib.lines.Line2D at 0x2c1d67eaf08>,\n",
       "  <matplotlib.lines.Line2D at 0x2c1d67eaf88>],\n",
       " 'boxes': [<matplotlib.lines.Line2D at 0x2c1d67ea288>],\n",
       " 'medians': [<matplotlib.lines.Line2D at 0x2c1d67f1e88>],\n",
       " 'fliers': [<matplotlib.lines.Line2D at 0x2c1d67f1f88>],\n",
       " 'means': []}"
      ]
     },
     "execution_count": 70,
     "metadata": {},
     "output_type": "execute_result"
    },
    {
     "data": {
      "image/png": "[encoded data removed]",
      "text/plain": [
       "<Figure size 432x288 with 1 Axes>"
      ]
     },
     "metadata": {
      "needs_background": "light"
     },
     "output_type": "display_data"
    }
   ],
   "source": [
    "box_plot = dataset1.TrainingTimesLastYear\n",
    "plt.boxplot(box_plot)"
   ]
  },
  {
   "cell_type": "markdown",
   "metadata": {},
   "source": [
    "***TrainingTimeLastYear*** is left skewed with outliers both above the MAX limit and below the MIN limit"
   ]
  },
  {
   "cell_type": "code",
   "execution_count": 73,
   "metadata": {},
   "outputs": [
    {
     "data": {
      "text/plain": [
       "{'whiskers': [<matplotlib.lines.Line2D at 0x2c1d68fa848>,\n",
       "  <matplotlib.lines.Line2D at 0x2c1d6919f88>],\n",
       " 'caps': [<matplotlib.lines.Line2D at 0x2c1d6919c48>,\n",
       "  <matplotlib.lines.Line2D at 0x2c1d691eb08>],\n",
       " 'boxes': [<matplotlib.lines.Line2D at 0x2c1d69194c8>],\n",
       " 'medians': [<matplotlib.lines.Line2D at 0x2c1d691ef88>],\n",
       " 'fliers': [<matplotlib.lines.Line2D at 0x2c1d691ec88>],\n",
       " 'means': []}"
      ]
     },
     "execution_count": 73,
     "metadata": {},
     "output_type": "execute_result"
    },
    {
     "data": {
      "image/png": "[encoded data removed]",
      "text/plain": [
       "<Figure size 432x288 with 1 Axes>"
      ]
     },
     "metadata": {
      "needs_background": "light"
     },
     "output_type": "display_data"
    }
   ],
   "source": [
    "box_plot = dataset1.YearsSinceLastPromotion\n",
    "plt.boxplot(box_plot)"
   ]
  },
  {
   "cell_type": "markdown",
   "metadata": {},
   "source": [
    "***YearsSinceLastPromotion** is right skewed with several outliers above max"
   ]
  },
  {
   "cell_type": "code",
   "execution_count": 74,
   "metadata": {},
   "outputs": [
    {
     "data": {
      "text/plain": [
       "{'whiskers': [<matplotlib.lines.Line2D at 0x2c1d696a088>,\n",
       "  <matplotlib.lines.Line2D at 0x2c1d6993c08>],\n",
       " 'caps': [<matplotlib.lines.Line2D at 0x2c1d6993d08>,\n",
       "  <matplotlib.lines.Line2D at 0x2c1d6993d88>],\n",
       " 'boxes': [<matplotlib.lines.Line2D at 0x2c1d6972f88>],\n",
       " 'medians': [<matplotlib.lines.Line2D at 0x2c1d699ac88>],\n",
       " 'fliers': [<matplotlib.lines.Line2D at 0x2c1d699ad88>],\n",
       " 'means': []}"
      ]
     },
     "execution_count": 74,
     "metadata": {},
     "output_type": "execute_result"
    },
    {
     "data": {
      "image/png": "[encoded data removed]",
      "text/plain": [
       "<Figure size 432x288 with 1 Axes>"
      ]
     },
     "metadata": {
      "needs_background": "light"
     },
     "output_type": "display_data"
    }
   ],
   "source": [
    "box_plot = dataset1.YearsWithCurrManager\n",
    "plt.boxplot(box_plot)"
   ]
  },
  {
   "cell_type": "markdown",
   "metadata": {},
   "source": [
    "***YearsWithCurrManager*** is right skewed with 3 outliers."
   ]
  },
  {
   "cell_type": "markdown",
   "metadata": {},
   "source": [
    "On plotting ***TotalWorkingYears*** and ***NumCompaniesWorked*** we get an empty boxplot which i do not understand why. "
   ]
  },
  {
   "cell_type": "markdown",
   "metadata": {},
   "source": []
  },
  {
   "cell_type": "code",
   "execution_count": null,
   "metadata": {},
   "outputs": [],
   "source": []
  }
 ],
 "metadata": {
  "kernelspec": {
   "display_name": "Python 3",
   "language": "python",
   "name": "python3"
  },
  "language_info": {
   "codemirror_mode": {
    "name": "ipython",
    "version": 3
   },
   "file_extension": ".py",
   "mimetype": "text/x-python",
   "name": "python",
   "nbconvert_exporter": "python",
   "pygments_lexer": "ipython3",
   "version": "3.7.6"
  }
 },
 "nbformat": 4,
 "nbformat_minor": 4
}
