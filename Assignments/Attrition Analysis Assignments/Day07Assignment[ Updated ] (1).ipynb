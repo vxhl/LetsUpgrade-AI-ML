{
 "cells": [
  {
   "cell_type": "markdown",
   "metadata": {},
   "source": [
    "# Question 1 (From Day 7 Assignment): \n",
    "Attach the dataset and mentioned problem statement below.\n",
    "- A sizable department has to be maintained, for the purpose of recruiting new talent\n",
    "- More often than not, the new employees have to be trained for the job and/or given time to acclimatize themselves to the company.\n",
    "- Hence, the management has contracted an HR analytics firm to understand what factors they should focus on, in order to curb attrition.\n",
    "- In other words they want to know what changes they should make to their workplace, in order to get most of their emoployees to stay.\n",
    "- Also, they want to know which of these varibales is most important and needs to be addressed right away."
   ]
  },
  {
   "cell_type": "markdown",
   "metadata": {},
   "source": [
    "\n",
    "## Step 1 : Importing the Dataset and the Libraries \n",
    "We import the different libraries for handling and visualising the dataset and import the dataset we are to analyse for the projcet."
   ]
  },
  {
   "cell_type": "code",
   "execution_count": 45,
   "metadata": {},
   "outputs": [],
   "source": [
    "# Importing the libraries\n",
    "import pandas as pd \n",
    "import numpy as np\n",
    "import matplotlib.pyplot as plt"
   ]
  },
  {
   "cell_type": "code",
   "execution_count": 6,
   "metadata": {},
   "outputs": [
    {
     "data": {
      "text/html": [
       "<div>\n",
       "<style scoped>\n",
       "    .dataframe tbody tr th:only-of-type {\n",
       "        vertical-align: middle;\n",
       "    }\n",
       "\n",
       "    .dataframe tbody tr th {\n",
       "        vertical-align: top;\n",
       "    }\n",
       "\n",
       "    .dataframe thead th {\n",
       "        text-align: right;\n",
       "    }\n",
       "</style>\n",
       "<table border=\"1\" class=\"dataframe\">\n",
       "  <thead>\n",
       "    <tr style=\"text-align: right;\">\n",
       "      <th></th>\n",
       "      <th>Age</th>\n",
       "      <th>Attrition</th>\n",
       "      <th>BusinessTravel</th>\n",
       "      <th>Department</th>\n",
       "      <th>DistanceFromHome</th>\n",
       "      <th>Education</th>\n",
       "      <th>EducationField</th>\n",
       "      <th>EmployeeCount</th>\n",
       "      <th>EmployeeID</th>\n",
       "      <th>Gender</th>\n",
       "      <th>...</th>\n",
       "      <th>NumCompaniesWorked</th>\n",
       "      <th>Over18</th>\n",
       "      <th>PercentSalaryHike</th>\n",
       "      <th>StandardHours</th>\n",
       "      <th>StockOptionLevel</th>\n",
       "      <th>TotalWorkingYears</th>\n",
       "      <th>TrainingTimesLastYear</th>\n",
       "      <th>YearsAtCompany</th>\n",
       "      <th>YearsSinceLastPromotion</th>\n",
       "      <th>YearsWithCurrManager</th>\n",
       "    </tr>\n",
       "  </thead>\n",
       "  <tbody>\n",
       "    <tr>\n",
       "      <th>0</th>\n",
       "      <td>51</td>\n",
       "      <td>No</td>\n",
       "      <td>Travel_Rarely</td>\n",
       "      <td>Sales</td>\n",
       "      <td>6</td>\n",
       "      <td>2</td>\n",
       "      <td>Life Sciences</td>\n",
       "      <td>1</td>\n",
       "      <td>1</td>\n",
       "      <td>Female</td>\n",
       "      <td>...</td>\n",
       "      <td>1.0</td>\n",
       "      <td>Y</td>\n",
       "      <td>11</td>\n",
       "      <td>8</td>\n",
       "      <td>0</td>\n",
       "      <td>1.0</td>\n",
       "      <td>6</td>\n",
       "      <td>1</td>\n",
       "      <td>0</td>\n",
       "      <td>0</td>\n",
       "    </tr>\n",
       "    <tr>\n",
       "      <th>1</th>\n",
       "      <td>31</td>\n",
       "      <td>Yes</td>\n",
       "      <td>Travel_Frequently</td>\n",
       "      <td>Research &amp; Development</td>\n",
       "      <td>10</td>\n",
       "      <td>1</td>\n",
       "      <td>Life Sciences</td>\n",
       "      <td>1</td>\n",
       "      <td>2</td>\n",
       "      <td>Female</td>\n",
       "      <td>...</td>\n",
       "      <td>0.0</td>\n",
       "      <td>Y</td>\n",
       "      <td>23</td>\n",
       "      <td>8</td>\n",
       "      <td>1</td>\n",
       "      <td>6.0</td>\n",
       "      <td>3</td>\n",
       "      <td>5</td>\n",
       "      <td>1</td>\n",
       "      <td>4</td>\n",
       "    </tr>\n",
       "    <tr>\n",
       "      <th>2</th>\n",
       "      <td>32</td>\n",
       "      <td>No</td>\n",
       "      <td>Travel_Frequently</td>\n",
       "      <td>Research &amp; Development</td>\n",
       "      <td>17</td>\n",
       "      <td>4</td>\n",
       "      <td>Other</td>\n",
       "      <td>1</td>\n",
       "      <td>3</td>\n",
       "      <td>Male</td>\n",
       "      <td>...</td>\n",
       "      <td>1.0</td>\n",
       "      <td>Y</td>\n",
       "      <td>15</td>\n",
       "      <td>8</td>\n",
       "      <td>3</td>\n",
       "      <td>5.0</td>\n",
       "      <td>2</td>\n",
       "      <td>5</td>\n",
       "      <td>0</td>\n",
       "      <td>3</td>\n",
       "    </tr>\n",
       "    <tr>\n",
       "      <th>3</th>\n",
       "      <td>38</td>\n",
       "      <td>No</td>\n",
       "      <td>Non-Travel</td>\n",
       "      <td>Research &amp; Development</td>\n",
       "      <td>2</td>\n",
       "      <td>5</td>\n",
       "      <td>Life Sciences</td>\n",
       "      <td>1</td>\n",
       "      <td>4</td>\n",
       "      <td>Male</td>\n",
       "      <td>...</td>\n",
       "      <td>3.0</td>\n",
       "      <td>Y</td>\n",
       "      <td>11</td>\n",
       "      <td>8</td>\n",
       "      <td>3</td>\n",
       "      <td>13.0</td>\n",
       "      <td>5</td>\n",
       "      <td>8</td>\n",
       "      <td>7</td>\n",
       "      <td>5</td>\n",
       "    </tr>\n",
       "    <tr>\n",
       "      <th>4</th>\n",
       "      <td>32</td>\n",
       "      <td>No</td>\n",
       "      <td>Travel_Rarely</td>\n",
       "      <td>Research &amp; Development</td>\n",
       "      <td>10</td>\n",
       "      <td>1</td>\n",
       "      <td>Medical</td>\n",
       "      <td>1</td>\n",
       "      <td>5</td>\n",
       "      <td>Male</td>\n",
       "      <td>...</td>\n",
       "      <td>4.0</td>\n",
       "      <td>Y</td>\n",
       "      <td>12</td>\n",
       "      <td>8</td>\n",
       "      <td>2</td>\n",
       "      <td>9.0</td>\n",
       "      <td>2</td>\n",
       "      <td>6</td>\n",
       "      <td>0</td>\n",
       "      <td>4</td>\n",
       "    </tr>\n",
       "  </tbody>\n",
       "</table>\n",
       "<p>5 rows × 24 columns</p>\n",
       "</div>"
      ],
      "text/plain": [
       "   Age Attrition     BusinessTravel              Department  DistanceFromHome  \\\n",
       "0   51        No      Travel_Rarely                   Sales                 6   \n",
       "1   31       Yes  Travel_Frequently  Research & Development                10   \n",
       "2   32        No  Travel_Frequently  Research & Development                17   \n",
       "3   38        No         Non-Travel  Research & Development                 2   \n",
       "4   32        No      Travel_Rarely  Research & Development                10   \n",
       "\n",
       "   Education EducationField  EmployeeCount  EmployeeID  Gender  ...  \\\n",
       "0          2  Life Sciences              1           1  Female  ...   \n",
       "1          1  Life Sciences              1           2  Female  ...   \n",
       "2          4          Other              1           3    Male  ...   \n",
       "3          5  Life Sciences              1           4    Male  ...   \n",
       "4          1        Medical              1           5    Male  ...   \n",
       "\n",
       "   NumCompaniesWorked Over18 PercentSalaryHike  StandardHours  \\\n",
       "0                 1.0      Y                11              8   \n",
       "1                 0.0      Y                23              8   \n",
       "2                 1.0      Y                15              8   \n",
       "3                 3.0      Y                11              8   \n",
       "4                 4.0      Y                12              8   \n",
       "\n",
       "   StockOptionLevel TotalWorkingYears  TrainingTimesLastYear  YearsAtCompany  \\\n",
       "0                 0               1.0                      6               1   \n",
       "1                 1               6.0                      3               5   \n",
       "2                 3               5.0                      2               5   \n",
       "3                 3              13.0                      5               8   \n",
       "4                 2               9.0                      2               6   \n",
       "\n",
       "   YearsSinceLastPromotion  YearsWithCurrManager  \n",
       "0                        0                     0  \n",
       "1                        1                     4  \n",
       "2                        0                     3  \n",
       "3                        7                     5  \n",
       "4                        0                     4  \n",
       "\n",
       "[5 rows x 24 columns]"
      ]
     },
     "execution_count": 6,
     "metadata": {},
     "output_type": "execute_result"
    }
   ],
   "source": [
    "# Importing the dataset\n",
    "dataset1 = pd.read_csv(\"general_data.csv\")\n",
    "dataset1.head() # This gives us the first five entries for the dataset"
   ]
  },
  {
   "cell_type": "markdown",
   "metadata": {},
   "source": [
    "## Step 2 : Data Preprocessing Phase\n",
    "Here we check the dataset for null values and duplicates that might hinder with our analysis and remove them accordingly."
   ]
  },
  {
   "cell_type": "code",
   "execution_count": 10,
   "metadata": {},
   "outputs": [
    {
     "data": {
      "text/html": [
       "<div>\n",
       "<style scoped>\n",
       "    .dataframe tbody tr th:only-of-type {\n",
       "        vertical-align: middle;\n",
       "    }\n",
       "\n",
       "    .dataframe tbody tr th {\n",
       "        vertical-align: top;\n",
       "    }\n",
       "\n",
       "    .dataframe thead th {\n",
       "        text-align: right;\n",
       "    }\n",
       "</style>\n",
       "<table border=\"1\" class=\"dataframe\">\n",
       "  <thead>\n",
       "    <tr style=\"text-align: right;\">\n",
       "      <th></th>\n",
       "      <th>Age</th>\n",
       "      <th>Attrition</th>\n",
       "      <th>BusinessTravel</th>\n",
       "      <th>Department</th>\n",
       "      <th>DistanceFromHome</th>\n",
       "      <th>Education</th>\n",
       "      <th>EducationField</th>\n",
       "      <th>EmployeeCount</th>\n",
       "      <th>EmployeeID</th>\n",
       "      <th>Gender</th>\n",
       "      <th>...</th>\n",
       "      <th>NumCompaniesWorked</th>\n",
       "      <th>Over18</th>\n",
       "      <th>PercentSalaryHike</th>\n",
       "      <th>StandardHours</th>\n",
       "      <th>StockOptionLevel</th>\n",
       "      <th>TotalWorkingYears</th>\n",
       "      <th>TrainingTimesLastYear</th>\n",
       "      <th>YearsAtCompany</th>\n",
       "      <th>YearsSinceLastPromotion</th>\n",
       "      <th>YearsWithCurrManager</th>\n",
       "    </tr>\n",
       "  </thead>\n",
       "  <tbody>\n",
       "    <tr>\n",
       "      <th>0</th>\n",
       "      <td>False</td>\n",
       "      <td>False</td>\n",
       "      <td>False</td>\n",
       "      <td>False</td>\n",
       "      <td>False</td>\n",
       "      <td>False</td>\n",
       "      <td>False</td>\n",
       "      <td>False</td>\n",
       "      <td>False</td>\n",
       "      <td>False</td>\n",
       "      <td>...</td>\n",
       "      <td>False</td>\n",
       "      <td>False</td>\n",
       "      <td>False</td>\n",
       "      <td>False</td>\n",
       "      <td>False</td>\n",
       "      <td>False</td>\n",
       "      <td>False</td>\n",
       "      <td>False</td>\n",
       "      <td>False</td>\n",
       "      <td>False</td>\n",
       "    </tr>\n",
       "    <tr>\n",
       "      <th>1</th>\n",
       "      <td>False</td>\n",
       "      <td>False</td>\n",
       "      <td>False</td>\n",
       "      <td>False</td>\n",
       "      <td>False</td>\n",
       "      <td>False</td>\n",
       "      <td>False</td>\n",
       "      <td>False</td>\n",
       "      <td>False</td>\n",
       "      <td>False</td>\n",
       "      <td>...</td>\n",
       "      <td>False</td>\n",
       "      <td>False</td>\n",
       "      <td>False</td>\n",
       "      <td>False</td>\n",
       "      <td>False</td>\n",
       "      <td>False</td>\n",
       "      <td>False</td>\n",
       "      <td>False</td>\n",
       "      <td>False</td>\n",
       "      <td>False</td>\n",
       "    </tr>\n",
       "    <tr>\n",
       "      <th>2</th>\n",
       "      <td>False</td>\n",
       "      <td>False</td>\n",
       "      <td>False</td>\n",
       "      <td>False</td>\n",
       "      <td>False</td>\n",
       "      <td>False</td>\n",
       "      <td>False</td>\n",
       "      <td>False</td>\n",
       "      <td>False</td>\n",
       "      <td>False</td>\n",
       "      <td>...</td>\n",
       "      <td>False</td>\n",
       "      <td>False</td>\n",
       "      <td>False</td>\n",
       "      <td>False</td>\n",
       "      <td>False</td>\n",
       "      <td>False</td>\n",
       "      <td>False</td>\n",
       "      <td>False</td>\n",
       "      <td>False</td>\n",
       "      <td>False</td>\n",
       "    </tr>\n",
       "    <tr>\n",
       "      <th>3</th>\n",
       "      <td>False</td>\n",
       "      <td>False</td>\n",
       "      <td>False</td>\n",
       "      <td>False</td>\n",
       "      <td>False</td>\n",
       "      <td>False</td>\n",
       "      <td>False</td>\n",
       "      <td>False</td>\n",
       "      <td>False</td>\n",
       "      <td>False</td>\n",
       "      <td>...</td>\n",
       "      <td>False</td>\n",
       "      <td>False</td>\n",
       "      <td>False</td>\n",
       "      <td>False</td>\n",
       "      <td>False</td>\n",
       "      <td>False</td>\n",
       "      <td>False</td>\n",
       "      <td>False</td>\n",
       "      <td>False</td>\n",
       "      <td>False</td>\n",
       "    </tr>\n",
       "    <tr>\n",
       "      <th>4</th>\n",
       "      <td>False</td>\n",
       "      <td>False</td>\n",
       "      <td>False</td>\n",
       "      <td>False</td>\n",
       "      <td>False</td>\n",
       "      <td>False</td>\n",
       "      <td>False</td>\n",
       "      <td>False</td>\n",
       "      <td>False</td>\n",
       "      <td>False</td>\n",
       "      <td>...</td>\n",
       "      <td>False</td>\n",
       "      <td>False</td>\n",
       "      <td>False</td>\n",
       "      <td>False</td>\n",
       "      <td>False</td>\n",
       "      <td>False</td>\n",
       "      <td>False</td>\n",
       "      <td>False</td>\n",
       "      <td>False</td>\n",
       "      <td>False</td>\n",
       "    </tr>\n",
       "    <tr>\n",
       "      <th>...</th>\n",
       "      <td>...</td>\n",
       "      <td>...</td>\n",
       "      <td>...</td>\n",
       "      <td>...</td>\n",
       "      <td>...</td>\n",
       "      <td>...</td>\n",
       "      <td>...</td>\n",
       "      <td>...</td>\n",
       "      <td>...</td>\n",
       "      <td>...</td>\n",
       "      <td>...</td>\n",
       "      <td>...</td>\n",
       "      <td>...</td>\n",
       "      <td>...</td>\n",
       "      <td>...</td>\n",
       "      <td>...</td>\n",
       "      <td>...</td>\n",
       "      <td>...</td>\n",
       "      <td>...</td>\n",
       "      <td>...</td>\n",
       "      <td>...</td>\n",
       "    </tr>\n",
       "    <tr>\n",
       "      <th>4405</th>\n",
       "      <td>False</td>\n",
       "      <td>False</td>\n",
       "      <td>False</td>\n",
       "      <td>False</td>\n",
       "      <td>False</td>\n",
       "      <td>False</td>\n",
       "      <td>False</td>\n",
       "      <td>False</td>\n",
       "      <td>False</td>\n",
       "      <td>False</td>\n",
       "      <td>...</td>\n",
       "      <td>False</td>\n",
       "      <td>False</td>\n",
       "      <td>False</td>\n",
       "      <td>False</td>\n",
       "      <td>False</td>\n",
       "      <td>False</td>\n",
       "      <td>False</td>\n",
       "      <td>False</td>\n",
       "      <td>False</td>\n",
       "      <td>False</td>\n",
       "    </tr>\n",
       "    <tr>\n",
       "      <th>4406</th>\n",
       "      <td>False</td>\n",
       "      <td>False</td>\n",
       "      <td>False</td>\n",
       "      <td>False</td>\n",
       "      <td>False</td>\n",
       "      <td>False</td>\n",
       "      <td>False</td>\n",
       "      <td>False</td>\n",
       "      <td>False</td>\n",
       "      <td>False</td>\n",
       "      <td>...</td>\n",
       "      <td>False</td>\n",
       "      <td>False</td>\n",
       "      <td>False</td>\n",
       "      <td>False</td>\n",
       "      <td>False</td>\n",
       "      <td>False</td>\n",
       "      <td>False</td>\n",
       "      <td>False</td>\n",
       "      <td>False</td>\n",
       "      <td>False</td>\n",
       "    </tr>\n",
       "    <tr>\n",
       "      <th>4407</th>\n",
       "      <td>False</td>\n",
       "      <td>False</td>\n",
       "      <td>False</td>\n",
       "      <td>False</td>\n",
       "      <td>False</td>\n",
       "      <td>False</td>\n",
       "      <td>False</td>\n",
       "      <td>False</td>\n",
       "      <td>False</td>\n",
       "      <td>False</td>\n",
       "      <td>...</td>\n",
       "      <td>False</td>\n",
       "      <td>False</td>\n",
       "      <td>False</td>\n",
       "      <td>False</td>\n",
       "      <td>False</td>\n",
       "      <td>False</td>\n",
       "      <td>False</td>\n",
       "      <td>False</td>\n",
       "      <td>False</td>\n",
       "      <td>False</td>\n",
       "    </tr>\n",
       "    <tr>\n",
       "      <th>4408</th>\n",
       "      <td>False</td>\n",
       "      <td>False</td>\n",
       "      <td>False</td>\n",
       "      <td>False</td>\n",
       "      <td>False</td>\n",
       "      <td>False</td>\n",
       "      <td>False</td>\n",
       "      <td>False</td>\n",
       "      <td>False</td>\n",
       "      <td>False</td>\n",
       "      <td>...</td>\n",
       "      <td>False</td>\n",
       "      <td>False</td>\n",
       "      <td>False</td>\n",
       "      <td>False</td>\n",
       "      <td>False</td>\n",
       "      <td>False</td>\n",
       "      <td>False</td>\n",
       "      <td>False</td>\n",
       "      <td>False</td>\n",
       "      <td>False</td>\n",
       "    </tr>\n",
       "    <tr>\n",
       "      <th>4409</th>\n",
       "      <td>False</td>\n",
       "      <td>False</td>\n",
       "      <td>False</td>\n",
       "      <td>False</td>\n",
       "      <td>False</td>\n",
       "      <td>False</td>\n",
       "      <td>False</td>\n",
       "      <td>False</td>\n",
       "      <td>False</td>\n",
       "      <td>False</td>\n",
       "      <td>...</td>\n",
       "      <td>False</td>\n",
       "      <td>False</td>\n",
       "      <td>False</td>\n",
       "      <td>False</td>\n",
       "      <td>False</td>\n",
       "      <td>True</td>\n",
       "      <td>False</td>\n",
       "      <td>False</td>\n",
       "      <td>False</td>\n",
       "      <td>False</td>\n",
       "    </tr>\n",
       "  </tbody>\n",
       "</table>\n",
       "<p>4410 rows × 24 columns</p>\n",
       "</div>"
      ],
      "text/plain": [
       "        Age  Attrition  BusinessTravel  Department  DistanceFromHome  \\\n",
       "0     False      False           False       False             False   \n",
       "1     False      False           False       False             False   \n",
       "2     False      False           False       False             False   \n",
       "3     False      False           False       False             False   \n",
       "4     False      False           False       False             False   \n",
       "...     ...        ...             ...         ...               ...   \n",
       "4405  False      False           False       False             False   \n",
       "4406  False      False           False       False             False   \n",
       "4407  False      False           False       False             False   \n",
       "4408  False      False           False       False             False   \n",
       "4409  False      False           False       False             False   \n",
       "\n",
       "      Education  EducationField  EmployeeCount  EmployeeID  Gender  ...  \\\n",
       "0         False           False          False       False   False  ...   \n",
       "1         False           False          False       False   False  ...   \n",
       "2         False           False          False       False   False  ...   \n",
       "3         False           False          False       False   False  ...   \n",
       "4         False           False          False       False   False  ...   \n",
       "...         ...             ...            ...         ...     ...  ...   \n",
       "4405      False           False          False       False   False  ...   \n",
       "4406      False           False          False       False   False  ...   \n",
       "4407      False           False          False       False   False  ...   \n",
       "4408      False           False          False       False   False  ...   \n",
       "4409      False           False          False       False   False  ...   \n",
       "\n",
       "      NumCompaniesWorked  Over18  PercentSalaryHike  StandardHours  \\\n",
       "0                  False   False              False          False   \n",
       "1                  False   False              False          False   \n",
       "2                  False   False              False          False   \n",
       "3                  False   False              False          False   \n",
       "4                  False   False              False          False   \n",
       "...                  ...     ...                ...            ...   \n",
       "4405               False   False              False          False   \n",
       "4406               False   False              False          False   \n",
       "4407               False   False              False          False   \n",
       "4408               False   False              False          False   \n",
       "4409               False   False              False          False   \n",
       "\n",
       "      StockOptionLevel  TotalWorkingYears  TrainingTimesLastYear  \\\n",
       "0                False              False                  False   \n",
       "1                False              False                  False   \n",
       "2                False              False                  False   \n",
       "3                False              False                  False   \n",
       "4                False              False                  False   \n",
       "...                ...                ...                    ...   \n",
       "4405             False              False                  False   \n",
       "4406             False              False                  False   \n",
       "4407             False              False                  False   \n",
       "4408             False              False                  False   \n",
       "4409             False               True                  False   \n",
       "\n",
       "      YearsAtCompany  YearsSinceLastPromotion  YearsWithCurrManager  \n",
       "0              False                    False                 False  \n",
       "1              False                    False                 False  \n",
       "2              False                    False                 False  \n",
       "3              False                    False                 False  \n",
       "4              False                    False                 False  \n",
       "...              ...                      ...                   ...  \n",
       "4405           False                    False                 False  \n",
       "4406           False                    False                 False  \n",
       "4407           False                    False                 False  \n",
       "4408           False                    False                 False  \n",
       "4409           False                    False                 False  \n",
       "\n",
       "[4410 rows x 24 columns]"
      ]
     },
     "execution_count": 10,
     "metadata": {},
     "output_type": "execute_result"
    }
   ],
   "source": [
    "dataset1.isnull() # For revealing all null values if any"
   ]
  },
  {
   "cell_type": "code",
   "execution_count": 14,
   "metadata": {},
   "outputs": [
    {
     "data": {
      "text/plain": [
       "0       False\n",
       "1       False\n",
       "2       False\n",
       "3       False\n",
       "4       False\n",
       "        ...  \n",
       "4405    False\n",
       "4406    False\n",
       "4407    False\n",
       "4408    False\n",
       "4409    False\n",
       "Length: 4410, dtype: bool"
      ]
     },
     "execution_count": 14,
     "metadata": {},
     "output_type": "execute_result"
    }
   ],
   "source": [
    "dataset1.duplicated() # For revealing all duplicated values if any"
   ]
  },
  {
   "cell_type": "code",
   "execution_count": 87,
   "metadata": {},
   "outputs": [],
   "source": [
    "# Removing the null and the duplicated values\n",
    "dataset2 = dataset1.dropna()"
   ]
  },
  {
   "cell_type": "code",
   "execution_count": 90,
   "metadata": {},
   "outputs": [
    {
     "data": {
      "text/html": [
       "<div>\n",
       "<style scoped>\n",
       "    .dataframe tbody tr th:only-of-type {\n",
       "        vertical-align: middle;\n",
       "    }\n",
       "\n",
       "    .dataframe tbody tr th {\n",
       "        vertical-align: top;\n",
       "    }\n",
       "\n",
       "    .dataframe thead th {\n",
       "        text-align: right;\n",
       "    }\n",
       "</style>\n",
       "<table border=\"1\" class=\"dataframe\">\n",
       "  <thead>\n",
       "    <tr style=\"text-align: right;\">\n",
       "      <th></th>\n",
       "      <th>Age</th>\n",
       "      <th>Attrition</th>\n",
       "      <th>BusinessTravel</th>\n",
       "      <th>Department</th>\n",
       "      <th>DistanceFromHome</th>\n",
       "      <th>Education</th>\n",
       "      <th>EducationField</th>\n",
       "      <th>EmployeeCount</th>\n",
       "      <th>EmployeeID</th>\n",
       "      <th>Gender</th>\n",
       "      <th>...</th>\n",
       "      <th>NumCompaniesWorked</th>\n",
       "      <th>Over18</th>\n",
       "      <th>PercentSalaryHike</th>\n",
       "      <th>StandardHours</th>\n",
       "      <th>StockOptionLevel</th>\n",
       "      <th>TotalWorkingYears</th>\n",
       "      <th>TrainingTimesLastYear</th>\n",
       "      <th>YearsAtCompany</th>\n",
       "      <th>YearsSinceLastPromotion</th>\n",
       "      <th>YearsWithCurrManager</th>\n",
       "    </tr>\n",
       "  </thead>\n",
       "  <tbody>\n",
       "    <tr>\n",
       "      <th>0</th>\n",
       "      <td>False</td>\n",
       "      <td>False</td>\n",
       "      <td>False</td>\n",
       "      <td>False</td>\n",
       "      <td>False</td>\n",
       "      <td>False</td>\n",
       "      <td>False</td>\n",
       "      <td>False</td>\n",
       "      <td>False</td>\n",
       "      <td>False</td>\n",
       "      <td>...</td>\n",
       "      <td>False</td>\n",
       "      <td>False</td>\n",
       "      <td>False</td>\n",
       "      <td>False</td>\n",
       "      <td>False</td>\n",
       "      <td>False</td>\n",
       "      <td>False</td>\n",
       "      <td>False</td>\n",
       "      <td>False</td>\n",
       "      <td>False</td>\n",
       "    </tr>\n",
       "    <tr>\n",
       "      <th>1</th>\n",
       "      <td>False</td>\n",
       "      <td>False</td>\n",
       "      <td>False</td>\n",
       "      <td>False</td>\n",
       "      <td>False</td>\n",
       "      <td>False</td>\n",
       "      <td>False</td>\n",
       "      <td>False</td>\n",
       "      <td>False</td>\n",
       "      <td>False</td>\n",
       "      <td>...</td>\n",
       "      <td>False</td>\n",
       "      <td>False</td>\n",
       "      <td>False</td>\n",
       "      <td>False</td>\n",
       "      <td>False</td>\n",
       "      <td>False</td>\n",
       "      <td>False</td>\n",
       "      <td>False</td>\n",
       "      <td>False</td>\n",
       "      <td>False</td>\n",
       "    </tr>\n",
       "    <tr>\n",
       "      <th>2</th>\n",
       "      <td>False</td>\n",
       "      <td>False</td>\n",
       "      <td>False</td>\n",
       "      <td>False</td>\n",
       "      <td>False</td>\n",
       "      <td>False</td>\n",
       "      <td>False</td>\n",
       "      <td>False</td>\n",
       "      <td>False</td>\n",
       "      <td>False</td>\n",
       "      <td>...</td>\n",
       "      <td>False</td>\n",
       "      <td>False</td>\n",
       "      <td>False</td>\n",
       "      <td>False</td>\n",
       "      <td>False</td>\n",
       "      <td>False</td>\n",
       "      <td>False</td>\n",
       "      <td>False</td>\n",
       "      <td>False</td>\n",
       "      <td>False</td>\n",
       "    </tr>\n",
       "    <tr>\n",
       "      <th>3</th>\n",
       "      <td>False</td>\n",
       "      <td>False</td>\n",
       "      <td>False</td>\n",
       "      <td>False</td>\n",
       "      <td>False</td>\n",
       "      <td>False</td>\n",
       "      <td>False</td>\n",
       "      <td>False</td>\n",
       "      <td>False</td>\n",
       "      <td>False</td>\n",
       "      <td>...</td>\n",
       "      <td>False</td>\n",
       "      <td>False</td>\n",
       "      <td>False</td>\n",
       "      <td>False</td>\n",
       "      <td>False</td>\n",
       "      <td>False</td>\n",
       "      <td>False</td>\n",
       "      <td>False</td>\n",
       "      <td>False</td>\n",
       "      <td>False</td>\n",
       "    </tr>\n",
       "    <tr>\n",
       "      <th>4</th>\n",
       "      <td>False</td>\n",
       "      <td>False</td>\n",
       "      <td>False</td>\n",
       "      <td>False</td>\n",
       "      <td>False</td>\n",
       "      <td>False</td>\n",
       "      <td>False</td>\n",
       "      <td>False</td>\n",
       "      <td>False</td>\n",
       "      <td>False</td>\n",
       "      <td>...</td>\n",
       "      <td>False</td>\n",
       "      <td>False</td>\n",
       "      <td>False</td>\n",
       "      <td>False</td>\n",
       "      <td>False</td>\n",
       "      <td>False</td>\n",
       "      <td>False</td>\n",
       "      <td>False</td>\n",
       "      <td>False</td>\n",
       "      <td>False</td>\n",
       "    </tr>\n",
       "    <tr>\n",
       "      <th>...</th>\n",
       "      <td>...</td>\n",
       "      <td>...</td>\n",
       "      <td>...</td>\n",
       "      <td>...</td>\n",
       "      <td>...</td>\n",
       "      <td>...</td>\n",
       "      <td>...</td>\n",
       "      <td>...</td>\n",
       "      <td>...</td>\n",
       "      <td>...</td>\n",
       "      <td>...</td>\n",
       "      <td>...</td>\n",
       "      <td>...</td>\n",
       "      <td>...</td>\n",
       "      <td>...</td>\n",
       "      <td>...</td>\n",
       "      <td>...</td>\n",
       "      <td>...</td>\n",
       "      <td>...</td>\n",
       "      <td>...</td>\n",
       "      <td>...</td>\n",
       "    </tr>\n",
       "    <tr>\n",
       "      <th>4404</th>\n",
       "      <td>False</td>\n",
       "      <td>False</td>\n",
       "      <td>False</td>\n",
       "      <td>False</td>\n",
       "      <td>False</td>\n",
       "      <td>False</td>\n",
       "      <td>False</td>\n",
       "      <td>False</td>\n",
       "      <td>False</td>\n",
       "      <td>False</td>\n",
       "      <td>...</td>\n",
       "      <td>False</td>\n",
       "      <td>False</td>\n",
       "      <td>False</td>\n",
       "      <td>False</td>\n",
       "      <td>False</td>\n",
       "      <td>False</td>\n",
       "      <td>False</td>\n",
       "      <td>False</td>\n",
       "      <td>False</td>\n",
       "      <td>False</td>\n",
       "    </tr>\n",
       "    <tr>\n",
       "      <th>4405</th>\n",
       "      <td>False</td>\n",
       "      <td>False</td>\n",
       "      <td>False</td>\n",
       "      <td>False</td>\n",
       "      <td>False</td>\n",
       "      <td>False</td>\n",
       "      <td>False</td>\n",
       "      <td>False</td>\n",
       "      <td>False</td>\n",
       "      <td>False</td>\n",
       "      <td>...</td>\n",
       "      <td>False</td>\n",
       "      <td>False</td>\n",
       "      <td>False</td>\n",
       "      <td>False</td>\n",
       "      <td>False</td>\n",
       "      <td>False</td>\n",
       "      <td>False</td>\n",
       "      <td>False</td>\n",
       "      <td>False</td>\n",
       "      <td>False</td>\n",
       "    </tr>\n",
       "    <tr>\n",
       "      <th>4406</th>\n",
       "      <td>False</td>\n",
       "      <td>False</td>\n",
       "      <td>False</td>\n",
       "      <td>False</td>\n",
       "      <td>False</td>\n",
       "      <td>False</td>\n",
       "      <td>False</td>\n",
       "      <td>False</td>\n",
       "      <td>False</td>\n",
       "      <td>False</td>\n",
       "      <td>...</td>\n",
       "      <td>False</td>\n",
       "      <td>False</td>\n",
       "      <td>False</td>\n",
       "      <td>False</td>\n",
       "      <td>False</td>\n",
       "      <td>False</td>\n",
       "      <td>False</td>\n",
       "      <td>False</td>\n",
       "      <td>False</td>\n",
       "      <td>False</td>\n",
       "    </tr>\n",
       "    <tr>\n",
       "      <th>4407</th>\n",
       "      <td>False</td>\n",
       "      <td>False</td>\n",
       "      <td>False</td>\n",
       "      <td>False</td>\n",
       "      <td>False</td>\n",
       "      <td>False</td>\n",
       "      <td>False</td>\n",
       "      <td>False</td>\n",
       "      <td>False</td>\n",
       "      <td>False</td>\n",
       "      <td>...</td>\n",
       "      <td>False</td>\n",
       "      <td>False</td>\n",
       "      <td>False</td>\n",
       "      <td>False</td>\n",
       "      <td>False</td>\n",
       "      <td>False</td>\n",
       "      <td>False</td>\n",
       "      <td>False</td>\n",
       "      <td>False</td>\n",
       "      <td>False</td>\n",
       "    </tr>\n",
       "    <tr>\n",
       "      <th>4408</th>\n",
       "      <td>False</td>\n",
       "      <td>False</td>\n",
       "      <td>False</td>\n",
       "      <td>False</td>\n",
       "      <td>False</td>\n",
       "      <td>False</td>\n",
       "      <td>False</td>\n",
       "      <td>False</td>\n",
       "      <td>False</td>\n",
       "      <td>False</td>\n",
       "      <td>...</td>\n",
       "      <td>False</td>\n",
       "      <td>False</td>\n",
       "      <td>False</td>\n",
       "      <td>False</td>\n",
       "      <td>False</td>\n",
       "      <td>False</td>\n",
       "      <td>False</td>\n",
       "      <td>False</td>\n",
       "      <td>False</td>\n",
       "      <td>False</td>\n",
       "    </tr>\n",
       "  </tbody>\n",
       "</table>\n",
       "<p>4382 rows × 24 columns</p>\n",
       "</div>"
      ],
      "text/plain": [
       "        Age  Attrition  BusinessTravel  Department  DistanceFromHome  \\\n",
       "0     False      False           False       False             False   \n",
       "1     False      False           False       False             False   \n",
       "2     False      False           False       False             False   \n",
       "3     False      False           False       False             False   \n",
       "4     False      False           False       False             False   \n",
       "...     ...        ...             ...         ...               ...   \n",
       "4404  False      False           False       False             False   \n",
       "4405  False      False           False       False             False   \n",
       "4406  False      False           False       False             False   \n",
       "4407  False      False           False       False             False   \n",
       "4408  False      False           False       False             False   \n",
       "\n",
       "      Education  EducationField  EmployeeCount  EmployeeID  Gender  ...  \\\n",
       "0         False           False          False       False   False  ...   \n",
       "1         False           False          False       False   False  ...   \n",
       "2         False           False          False       False   False  ...   \n",
       "3         False           False          False       False   False  ...   \n",
       "4         False           False          False       False   False  ...   \n",
       "...         ...             ...            ...         ...     ...  ...   \n",
       "4404      False           False          False       False   False  ...   \n",
       "4405      False           False          False       False   False  ...   \n",
       "4406      False           False          False       False   False  ...   \n",
       "4407      False           False          False       False   False  ...   \n",
       "4408      False           False          False       False   False  ...   \n",
       "\n",
       "      NumCompaniesWorked  Over18  PercentSalaryHike  StandardHours  \\\n",
       "0                  False   False              False          False   \n",
       "1                  False   False              False          False   \n",
       "2                  False   False              False          False   \n",
       "3                  False   False              False          False   \n",
       "4                  False   False              False          False   \n",
       "...                  ...     ...                ...            ...   \n",
       "4404               False   False              False          False   \n",
       "4405               False   False              False          False   \n",
       "4406               False   False              False          False   \n",
       "4407               False   False              False          False   \n",
       "4408               False   False              False          False   \n",
       "\n",
       "      StockOptionLevel  TotalWorkingYears  TrainingTimesLastYear  \\\n",
       "0                False              False                  False   \n",
       "1                False              False                  False   \n",
       "2                False              False                  False   \n",
       "3                False              False                  False   \n",
       "4                False              False                  False   \n",
       "...                ...                ...                    ...   \n",
       "4404             False              False                  False   \n",
       "4405             False              False                  False   \n",
       "4406             False              False                  False   \n",
       "4407             False              False                  False   \n",
       "4408             False              False                  False   \n",
       "\n",
       "      YearsAtCompany  YearsSinceLastPromotion  YearsWithCurrManager  \n",
       "0              False                    False                 False  \n",
       "1              False                    False                 False  \n",
       "2              False                    False                 False  \n",
       "3              False                    False                 False  \n",
       "4              False                    False                 False  \n",
       "...              ...                      ...                   ...  \n",
       "4404           False                    False                 False  \n",
       "4405           False                    False                 False  \n",
       "4406           False                    False                 False  \n",
       "4407           False                    False                 False  \n",
       "4408           False                    False                 False  \n",
       "\n",
       "[4382 rows x 24 columns]"
      ]
     },
     "execution_count": 90,
     "metadata": {},
     "output_type": "execute_result"
    }
   ],
   "source": [
    "dataset3 = dataset2.drop_duplicates()\n",
    "dataset3.isnull()"
   ]
  },
  {
   "cell_type": "markdown",
   "metadata": {},
   "source": [
    "## Step 3 : Univariate Ananlysis of The Dataset"
   ]
  },
  {
   "cell_type": "markdown",
   "metadata": {},
   "source": [
    "#### First we use describe() method to get the info on the different values of of the dataset"
   ]
  },
  {
   "cell_type": "code",
   "execution_count": 91,
   "metadata": {},
   "outputs": [
    {
     "data": {
      "text/html": [
       "<div>\n",
       "<style scoped>\n",
       "    .dataframe tbody tr th:only-of-type {\n",
       "        vertical-align: middle;\n",
       "    }\n",
       "\n",
       "    .dataframe tbody tr th {\n",
       "        vertical-align: top;\n",
       "    }\n",
       "\n",
       "    .dataframe thead th {\n",
       "        text-align: right;\n",
       "    }\n",
       "</style>\n",
       "<table border=\"1\" class=\"dataframe\">\n",
       "  <thead>\n",
       "    <tr style=\"text-align: right;\">\n",
       "      <th></th>\n",
       "      <th>Age</th>\n",
       "      <th>DistanceFromHome</th>\n",
       "      <th>Education</th>\n",
       "      <th>MonthlyIncome</th>\n",
       "      <th>NumCompaniesWorked</th>\n",
       "      <th>PercentSalaryHike</th>\n",
       "      <th>TotalWorkingYears</th>\n",
       "      <th>TrainingTimesLastYear</th>\n",
       "      <th>YearsAtCompany</th>\n",
       "      <th>YearsSinceLastPromotion</th>\n",
       "      <th>YearsWithCurrManager</th>\n",
       "    </tr>\n",
       "  </thead>\n",
       "  <tbody>\n",
       "    <tr>\n",
       "      <th>count</th>\n",
       "      <td>4382.000000</td>\n",
       "      <td>4382.000000</td>\n",
       "      <td>4382.000000</td>\n",
       "      <td>4382.000000</td>\n",
       "      <td>4382.000000</td>\n",
       "      <td>4382.000000</td>\n",
       "      <td>4382.000000</td>\n",
       "      <td>4382.000000</td>\n",
       "      <td>4382.000000</td>\n",
       "      <td>4382.000000</td>\n",
       "      <td>4382.000000</td>\n",
       "    </tr>\n",
       "    <tr>\n",
       "      <th>mean</th>\n",
       "      <td>36.933364</td>\n",
       "      <td>9.198996</td>\n",
       "      <td>2.912369</td>\n",
       "      <td>65061.702419</td>\n",
       "      <td>2.693291</td>\n",
       "      <td>15.210634</td>\n",
       "      <td>11.290278</td>\n",
       "      <td>2.798266</td>\n",
       "      <td>7.010497</td>\n",
       "      <td>2.191693</td>\n",
       "      <td>4.126198</td>\n",
       "    </tr>\n",
       "    <tr>\n",
       "      <th>std</th>\n",
       "      <td>9.137272</td>\n",
       "      <td>8.105396</td>\n",
       "      <td>1.024728</td>\n",
       "      <td>47142.310175</td>\n",
       "      <td>2.497832</td>\n",
       "      <td>3.663007</td>\n",
       "      <td>7.785717</td>\n",
       "      <td>1.289402</td>\n",
       "      <td>6.129351</td>\n",
       "      <td>3.224994</td>\n",
       "      <td>3.569674</td>\n",
       "    </tr>\n",
       "    <tr>\n",
       "      <th>min</th>\n",
       "      <td>18.000000</td>\n",
       "      <td>1.000000</td>\n",
       "      <td>1.000000</td>\n",
       "      <td>10090.000000</td>\n",
       "      <td>0.000000</td>\n",
       "      <td>11.000000</td>\n",
       "      <td>0.000000</td>\n",
       "      <td>0.000000</td>\n",
       "      <td>0.000000</td>\n",
       "      <td>0.000000</td>\n",
       "      <td>0.000000</td>\n",
       "    </tr>\n",
       "    <tr>\n",
       "      <th>25%</th>\n",
       "      <td>30.000000</td>\n",
       "      <td>2.000000</td>\n",
       "      <td>2.000000</td>\n",
       "      <td>29110.000000</td>\n",
       "      <td>1.000000</td>\n",
       "      <td>12.000000</td>\n",
       "      <td>6.000000</td>\n",
       "      <td>2.000000</td>\n",
       "      <td>3.000000</td>\n",
       "      <td>0.000000</td>\n",
       "      <td>2.000000</td>\n",
       "    </tr>\n",
       "    <tr>\n",
       "      <th>50%</th>\n",
       "      <td>36.000000</td>\n",
       "      <td>7.000000</td>\n",
       "      <td>3.000000</td>\n",
       "      <td>49190.000000</td>\n",
       "      <td>2.000000</td>\n",
       "      <td>14.000000</td>\n",
       "      <td>10.000000</td>\n",
       "      <td>3.000000</td>\n",
       "      <td>5.000000</td>\n",
       "      <td>1.000000</td>\n",
       "      <td>3.000000</td>\n",
       "    </tr>\n",
       "    <tr>\n",
       "      <th>75%</th>\n",
       "      <td>43.000000</td>\n",
       "      <td>14.000000</td>\n",
       "      <td>4.000000</td>\n",
       "      <td>83790.000000</td>\n",
       "      <td>4.000000</td>\n",
       "      <td>18.000000</td>\n",
       "      <td>15.000000</td>\n",
       "      <td>3.000000</td>\n",
       "      <td>9.000000</td>\n",
       "      <td>3.000000</td>\n",
       "      <td>7.000000</td>\n",
       "    </tr>\n",
       "    <tr>\n",
       "      <th>max</th>\n",
       "      <td>60.000000</td>\n",
       "      <td>29.000000</td>\n",
       "      <td>5.000000</td>\n",
       "      <td>199990.000000</td>\n",
       "      <td>9.000000</td>\n",
       "      <td>25.000000</td>\n",
       "      <td>40.000000</td>\n",
       "      <td>6.000000</td>\n",
       "      <td>40.000000</td>\n",
       "      <td>15.000000</td>\n",
       "      <td>17.000000</td>\n",
       "    </tr>\n",
       "  </tbody>\n",
       "</table>\n",
       "</div>"
      ],
      "text/plain": [
       "               Age  DistanceFromHome    Education  MonthlyIncome  \\\n",
       "count  4382.000000       4382.000000  4382.000000    4382.000000   \n",
       "mean     36.933364          9.198996     2.912369   65061.702419   \n",
       "std       9.137272          8.105396     1.024728   47142.310175   \n",
       "min      18.000000          1.000000     1.000000   10090.000000   \n",
       "25%      30.000000          2.000000     2.000000   29110.000000   \n",
       "50%      36.000000          7.000000     3.000000   49190.000000   \n",
       "75%      43.000000         14.000000     4.000000   83790.000000   \n",
       "max      60.000000         29.000000     5.000000  199990.000000   \n",
       "\n",
       "       NumCompaniesWorked  PercentSalaryHike  TotalWorkingYears  \\\n",
       "count         4382.000000        4382.000000        4382.000000   \n",
       "mean             2.693291          15.210634          11.290278   \n",
       "std              2.497832           3.663007           7.785717   \n",
       "min              0.000000          11.000000           0.000000   \n",
       "25%              1.000000          12.000000           6.000000   \n",
       "50%              2.000000          14.000000          10.000000   \n",
       "75%              4.000000          18.000000          15.000000   \n",
       "max              9.000000          25.000000          40.000000   \n",
       "\n",
       "       TrainingTimesLastYear  YearsAtCompany  YearsSinceLastPromotion  \\\n",
       "count            4382.000000     4382.000000              4382.000000   \n",
       "mean                2.798266        7.010497                 2.191693   \n",
       "std                 1.289402        6.129351                 3.224994   \n",
       "min                 0.000000        0.000000                 0.000000   \n",
       "25%                 2.000000        3.000000                 0.000000   \n",
       "50%                 3.000000        5.000000                 1.000000   \n",
       "75%                 3.000000        9.000000                 3.000000   \n",
       "max                 6.000000       40.000000                15.000000   \n",
       "\n",
       "       YearsWithCurrManager  \n",
       "count           4382.000000  \n",
       "mean               4.126198  \n",
       "std                3.569674  \n",
       "min                0.000000  \n",
       "25%                2.000000  \n",
       "50%                3.000000  \n",
       "75%                7.000000  \n",
       "max               17.000000  "
      ]
     },
     "execution_count": 91,
     "metadata": {},
     "output_type": "execute_result"
    }
   ],
   "source": [
    "dataset4=dataset3[['Age','DistanceFromHome','Education','MonthlyIncome', \n",
    "'NumCompaniesWorked', 'PercentSalaryHike','TotalWorkingYears', 'TrainingTimesLastYear', \n",
    "'YearsAtCompany','YearsSinceLastPromotion', \n",
    "'YearsWithCurrManager']].describe()\n",
    "dataset4"
   ]
  },
  {
   "cell_type": "markdown",
   "metadata": {},
   "source": [
    "#### For Mean of the features "
   ]
  },
  {
   "cell_type": "code",
   "execution_count": 92,
   "metadata": {},
   "outputs": [
    {
     "data": {
      "text/plain": [
       "Age                           36.933364\n",
       "DistanceFromHome               9.198996\n",
       "Education                      2.912369\n",
       "MonthlyIncome              65061.702419\n",
       "NumCompaniesWorked             2.693291\n",
       "PercentSalaryHike             15.210634\n",
       "TotalWorkingYears             11.290278\n",
       "TrainingTimesLastYear          2.798266\n",
       "YearsAtCompany                 7.010497\n",
       "YearsSinceLastPromotion        2.191693\n",
       "YearsWithCurrManager           4.126198\n",
       "dtype: float64"
      ]
     },
     "execution_count": 92,
     "metadata": {},
     "output_type": "execute_result"
    }
   ],
   "source": [
    "dataset4=dataset3[['Age','DistanceFromHome','Education','MonthlyIncome', \n",
    "'NumCompaniesWorked', 'PercentSalaryHike','TotalWorkingYears', 'TrainingTimesLastYear', \n",
    "'YearsAtCompany','YearsSinceLastPromotion', \n",
    "'YearsWithCurrManager']].mean()\n",
    "dataset4"
   ]
  },
  {
   "cell_type": "markdown",
   "metadata": {},
   "source": [
    "#### For Standard Deviation of the features"
   ]
  },
  {
   "cell_type": "code",
   "execution_count": 93,
   "metadata": {},
   "outputs": [
    {
     "data": {
      "text/plain": [
       "Age                            9.137272\n",
       "DistanceFromHome               8.105396\n",
       "Education                      1.024728\n",
       "MonthlyIncome              47142.310175\n",
       "NumCompaniesWorked             2.497832\n",
       "PercentSalaryHike              3.663007\n",
       "TotalWorkingYears              7.785717\n",
       "TrainingTimesLastYear          1.289402\n",
       "YearsAtCompany                 6.129351\n",
       "YearsSinceLastPromotion        3.224994\n",
       "YearsWithCurrManager           3.569674\n",
       "dtype: float64"
      ]
     },
     "execution_count": 93,
     "metadata": {},
     "output_type": "execute_result"
    }
   ],
   "source": [
    "dataset4=dataset3[['Age','DistanceFromHome','Education','MonthlyIncome', \n",
    "'NumCompaniesWorked', 'PercentSalaryHike','TotalWorkingYears', 'TrainingTimesLastYear', \n",
    "'YearsAtCompany','YearsSinceLastPromotion', \n",
    "'YearsWithCurrManager']].std()\n",
    "dataset4"
   ]
  },
  {
   "cell_type": "markdown",
   "metadata": {},
   "source": [
    "#### For the Median of the features"
   ]
  },
  {
   "cell_type": "code",
   "execution_count": 94,
   "metadata": {},
   "outputs": [
    {
     "data": {
      "text/plain": [
       "Age                           36.0\n",
       "DistanceFromHome               7.0\n",
       "Education                      3.0\n",
       "MonthlyIncome              49190.0\n",
       "NumCompaniesWorked             2.0\n",
       "PercentSalaryHike             14.0\n",
       "TotalWorkingYears             10.0\n",
       "TrainingTimesLastYear          3.0\n",
       "YearsAtCompany                 5.0\n",
       "YearsSinceLastPromotion        1.0\n",
       "YearsWithCurrManager           3.0\n",
       "dtype: float64"
      ]
     },
     "execution_count": 94,
     "metadata": {},
     "output_type": "execute_result"
    }
   ],
   "source": [
    "dataset4=dataset3[['Age','DistanceFromHome','Education','MonthlyIncome', \n",
    "'NumCompaniesWorked', 'PercentSalaryHike','TotalWorkingYears', 'TrainingTimesLastYear', \n",
    "'YearsAtCompany','YearsSinceLastPromotion', \n",
    "'YearsWithCurrManager']].median()\n",
    "dataset4"
   ]
  },
  {
   "cell_type": "markdown",
   "metadata": {},
   "source": [
    "#### For the mode of the features"
   ]
  },
  {
   "cell_type": "code",
   "execution_count": 95,
   "metadata": {},
   "outputs": [
    {
     "data": {
      "text/html": [
       "<div>\n",
       "<style scoped>\n",
       "    .dataframe tbody tr th:only-of-type {\n",
       "        vertical-align: middle;\n",
       "    }\n",
       "\n",
       "    .dataframe tbody tr th {\n",
       "        vertical-align: top;\n",
       "    }\n",
       "\n",
       "    .dataframe thead th {\n",
       "        text-align: right;\n",
       "    }\n",
       "</style>\n",
       "<table border=\"1\" class=\"dataframe\">\n",
       "  <thead>\n",
       "    <tr style=\"text-align: right;\">\n",
       "      <th></th>\n",
       "      <th>Age</th>\n",
       "      <th>DistanceFromHome</th>\n",
       "      <th>Education</th>\n",
       "      <th>MonthlyIncome</th>\n",
       "      <th>NumCompaniesWorked</th>\n",
       "      <th>PercentSalaryHike</th>\n",
       "      <th>TotalWorkingYears</th>\n",
       "      <th>TrainingTimesLastYear</th>\n",
       "      <th>YearsAtCompany</th>\n",
       "      <th>YearsSinceLastPromotion</th>\n",
       "      <th>YearsWithCurrManager</th>\n",
       "    </tr>\n",
       "  </thead>\n",
       "  <tbody>\n",
       "    <tr>\n",
       "      <th>0</th>\n",
       "      <td>35</td>\n",
       "      <td>2</td>\n",
       "      <td>3</td>\n",
       "      <td>23420</td>\n",
       "      <td>1.0</td>\n",
       "      <td>11</td>\n",
       "      <td>10.0</td>\n",
       "      <td>2</td>\n",
       "      <td>5</td>\n",
       "      <td>0</td>\n",
       "      <td>2</td>\n",
       "    </tr>\n",
       "  </tbody>\n",
       "</table>\n",
       "</div>"
      ],
      "text/plain": [
       "   Age  DistanceFromHome  Education  MonthlyIncome  NumCompaniesWorked  \\\n",
       "0   35                 2          3          23420                 1.0   \n",
       "\n",
       "   PercentSalaryHike  TotalWorkingYears  TrainingTimesLastYear  \\\n",
       "0                 11               10.0                      2   \n",
       "\n",
       "   YearsAtCompany  YearsSinceLastPromotion  YearsWithCurrManager  \n",
       "0               5                        0                     2  "
      ]
     },
     "execution_count": 95,
     "metadata": {},
     "output_type": "execute_result"
    }
   ],
   "source": [
    "# Mode\n",
    "dataset4=dataset3[['Age','DistanceFromHome','Education','MonthlyIncome', \n",
    "'NumCompaniesWorked', 'PercentSalaryHike','TotalWorkingYears', 'TrainingTimesLastYear', \n",
    "'YearsAtCompany','YearsSinceLastPromotion', \n",
    "'YearsWithCurrManager']].mode()\n",
    "dataset4"
   ]
  },
  {
   "cell_type": "markdown",
   "metadata": {},
   "source": [
    "#### For the Variance of the features"
   ]
  },
  {
   "cell_type": "code",
   "execution_count": 96,
   "metadata": {},
   "outputs": [
    {
     "data": {
      "text/plain": [
       "Age                        8.348974e+01\n",
       "DistanceFromHome           6.569744e+01\n",
       "Education                  1.050068e+00\n",
       "MonthlyIncome              2.222397e+09\n",
       "NumCompaniesWorked         6.239165e+00\n",
       "PercentSalaryHike          1.341762e+01\n",
       "TotalWorkingYears          6.061739e+01\n",
       "TrainingTimesLastYear      1.662558e+00\n",
       "YearsAtCompany             3.756894e+01\n",
       "YearsSinceLastPromotion    1.040059e+01\n",
       "YearsWithCurrManager       1.274257e+01\n",
       "dtype: float64"
      ]
     },
     "execution_count": 96,
     "metadata": {},
     "output_type": "execute_result"
    }
   ],
   "source": [
    "dataset4=dataset3[['Age','DistanceFromHome','Education','MonthlyIncome', \n",
    "'NumCompaniesWorked', 'PercentSalaryHike','TotalWorkingYears', 'TrainingTimesLastYear', \n",
    "'YearsAtCompany','YearsSinceLastPromotion', \n",
    "'YearsWithCurrManager']].var()\n",
    "dataset4"
   ]
  },
  {
   "cell_type": "markdown",
   "metadata": {},
   "source": [
    "#### For Skewness of the data"
   ]
  },
  {
   "cell_type": "code",
   "execution_count": 97,
   "metadata": {},
   "outputs": [
    {
     "data": {
      "text/plain": [
       "Age                        0.413048\n",
       "DistanceFromHome           0.955517\n",
       "Education                 -0.288977\n",
       "MonthlyIncome              1.367457\n",
       "NumCompaniesWorked         1.029174\n",
       "PercentSalaryHike          0.819510\n",
       "TotalWorkingYears          1.115419\n",
       "TrainingTimesLastYear      0.551818\n",
       "YearsAtCompany             1.764619\n",
       "YearsSinceLastPromotion    1.980992\n",
       "YearsWithCurrManager       0.834277\n",
       "dtype: float64"
      ]
     },
     "execution_count": 97,
     "metadata": {},
     "output_type": "execute_result"
    }
   ],
   "source": [
    "dataset4=dataset3[['Age','DistanceFromHome','Education','MonthlyIncome', \n",
    "'NumCompaniesWorked', 'PercentSalaryHike','TotalWorkingYears', 'TrainingTimesLastYear', \n",
    "'YearsAtCompany','YearsSinceLastPromotion', \n",
    "'YearsWithCurrManager']].skew()\n",
    "dataset4"
   ]
  },
  {
   "cell_type": "markdown",
   "metadata": {},
   "source": [
    "#### For Kurtosis of the Data"
   ]
  },
  {
   "cell_type": "code",
   "execution_count": 98,
   "metadata": {},
   "outputs": [
    {
     "data": {
      "text/plain": [
       "Age                       -0.409517\n",
       "DistanceFromHome          -0.230691\n",
       "Education                 -0.565008\n",
       "MonthlyIncome              0.990836\n",
       "NumCompaniesWorked         0.014307\n",
       "PercentSalaryHike         -0.306951\n",
       "TotalWorkingYears          0.909316\n",
       "TrainingTimesLastYear      0.494215\n",
       "YearsAtCompany             3.930726\n",
       "YearsSinceLastPromotion    3.592162\n",
       "YearsWithCurrManager       0.170703\n",
       "dtype: float64"
      ]
     },
     "execution_count": 98,
     "metadata": {},
     "output_type": "execute_result"
    }
   ],
   "source": [
    "dataset4=dataset3[['Age','DistanceFromHome','Education','MonthlyIncome', \n",
    "'NumCompaniesWorked', 'PercentSalaryHike','TotalWorkingYears', 'TrainingTimesLastYear', \n",
    "'YearsAtCompany','YearsSinceLastPromotion', \n",
    "'YearsWithCurrManager']].kurt()\n",
    "dataset4"
   ]
  },
  {
   "cell_type": "markdown",
   "metadata": {},
   "source": [
    "### Step 4 : Inference from the Univariate Analysis : \n",
    "- **Mean** is simply the measure of average\n",
    "\n",
    "- **Standard Deviation** is used to determine the spreadness of the data in accordance with the mean. It is the square root of variance. In our analysis we find *MonthlyIncome* is spread out over a very wide range and thus it might have a high number of outliers. The same goes for *YearAtCompany*, *YearsWithCurrManager*. ( I might be wrong here )  \n",
    "\n",
    "\n",
    "- **Variance** measures the variability between the different variables from the given dataset. It is the measure of the spreading of the given data variables from the original mean. In our analysis we find *Age*, *DistanceFromHome*, *NumCompaniesWorked*, *TotalWorkingYears* and *YearsAtCompany* to be having the highest variation witht all other variables being significantly less variant.\n",
    "\n",
    "- **Skewness** tells us how  the  data is symmetrically (lopsidedly)distributed across Mean | Noramal | Median. In our distributive analysis we find all variables except Education to be positively skewed, which means it is more leaned towards the median. \n",
    "\n",
    "- **Kurtosis** tells us whether the dataset is peaked (Tailedness ) towards the Mode or the Median. In our analysis we find *Age*, ,*DistanceFromHome*, *Education* and *PercentSalaryHike* to be Leptokurtic and other are Platykurtic. \n",
    "\n"
   ]
  },
  {
   "cell_type": "markdown",
   "metadata": {},
   "source": [
    "## Step 5 : Identifying and Removing the Outliers\n",
    "Here we use Boxplot from matplotlib library.\n",
    "( No regression found when plotting Age, MonthlyIncome, TotalWorkingHours, YearsAtCompany, etc, on a scatter plot ? )"
   ]
  },
  {
   "cell_type": "code",
   "execution_count": 100,
   "metadata": {
    "scrolled": true
   },
   "outputs": [
    {
     "data": {
      "text/plain": [
       "{'whiskers': [<matplotlib.lines.Line2D at 0x2c1d8364c88>,\n",
       "  <matplotlib.lines.Line2D at 0x2c1d83b2b48>],\n",
       " 'caps': [<matplotlib.lines.Line2D at 0x2c1d83b6a88>,\n",
       "  <matplotlib.lines.Line2D at 0x2c1d83b6b88>],\n",
       " 'boxes': [<matplotlib.lines.Line2D at 0x2c1d83b2148>],\n",
       " 'medians': [<matplotlib.lines.Line2D at 0x2c1d83bbb88>],\n",
       " 'fliers': [<matplotlib.lines.Line2D at 0x2c1d83bbc88>],\n",
       " 'means': []}"
      ]
     },
     "execution_count": 100,
     "metadata": {},
     "output_type": "execute_result"
    },
    {
     "data": {
      "image/png": "[encoded data removed]",
      "text/plain": [
       "<Figure size 432x288 with 1 Axes>"
      ]
     },
     "metadata": {
      "needs_background": "light"
     },
     "output_type": "display_data"
    }
   ],
   "source": [
    "box_plot = dataset3.Age\n",
    "plt.boxplot(box_plot)"
   ]
  },
  {
   "cell_type": "markdown",
   "metadata": {},
   "source": [
    "We find ***Age*** to be normally distributed without any outliers."
   ]
  },
  {
   "cell_type": "code",
   "execution_count": 101,
   "metadata": {},
   "outputs": [
    {
     "data": {
      "text/plain": [
       "{'whiskers': [<matplotlib.lines.Line2D at 0x2c1d8427dc8>,\n",
       "  <matplotlib.lines.Line2D at 0x2c1d8424348>],\n",
       " 'caps': [<matplotlib.lines.Line2D at 0x2c1d8424048>,\n",
       "  <matplotlib.lines.Line2D at 0x2c1d841e148>],\n",
       " 'boxes': [<matplotlib.lines.Line2D at 0x2c1d8424908>],\n",
       " 'medians': [<matplotlib.lines.Line2D at 0x2c1d841e9c8>],\n",
       " 'fliers': [<matplotlib.lines.Line2D at 0x2c1d841a748>],\n",
       " 'means': []}"
      ]
     },
     "execution_count": 101,
     "metadata": {},
     "output_type": "execute_result"
    },
    {
     "data": {
      "image/png": "[encoded data removed]",
      "text/plain": [
       "<Figure size 432x288 with 1 Axes>"
      ]
     },
     "metadata": {
      "needs_background": "light"
     },
     "output_type": "display_data"
    }
   ],
   "source": [
    "box_plot = dataset3.MonthlyIncome\n",
    "plt.boxplot(box_plot)"
   ]
  },
  {
   "cell_type": "markdown",
   "metadata": {},
   "source": [
    "Here we find ***MonthyIncome*** as right skewed with several outliers"
   ]
  },
  {
   "cell_type": "code",
   "execution_count": 102,
   "metadata": {},
   "outputs": [
    {
     "data": {
      "text/plain": [
       "{'whiskers': [<matplotlib.lines.Line2D at 0x2c1d835c688>,\n",
       "  <matplotlib.lines.Line2D at 0x2c1d8463f48>],\n",
       " 'caps': [<matplotlib.lines.Line2D at 0x2c1d848de08>,\n",
       "  <matplotlib.lines.Line2D at 0x2c1d848df08>],\n",
       " 'boxes': [<matplotlib.lines.Line2D at 0x2c1d845ff88>],\n",
       " 'medians': [<matplotlib.lines.Line2D at 0x2c1d8493d88>],\n",
       " 'fliers': [<matplotlib.lines.Line2D at 0x2c1d8493e88>],\n",
       " 'means': []}"
      ]
     },
     "execution_count": 102,
     "metadata": {},
     "output_type": "execute_result"
    },
    {
     "data": {
      "image/png": "[encoded data removed]",
      "text/plain": [
       "<Figure size 432x288 with 1 Axes>"
      ]
     },
     "metadata": {
      "needs_background": "light"
     },
     "output_type": "display_data"
    }
   ],
   "source": [
    "box_plot = dataset3.YearsAtCompany\n",
    "plt.boxplot(box_plot)"
   ]
  },
  {
   "cell_type": "markdown",
   "metadata": {},
   "source": [
    "***YearsAtCompany*** us also right skewed with several outliers"
   ]
  },
  {
   "cell_type": "code",
   "execution_count": 103,
   "metadata": {},
   "outputs": [
    {
     "data": {
      "text/plain": [
       "{'whiskers': [<matplotlib.lines.Line2D at 0x2c1d83cc508>,\n",
       "  <matplotlib.lines.Line2D at 0x2c1d84fbac8>],\n",
       " 'caps': [<matplotlib.lines.Line2D at 0x2c1d84fe988>,\n",
       "  <matplotlib.lines.Line2D at 0x2c1d84fea88>],\n",
       " 'boxes': [<matplotlib.lines.Line2D at 0x2c1d84f4f88>],\n",
       " 'medians': [<matplotlib.lines.Line2D at 0x2c1d8503908>],\n",
       " 'fliers': [<matplotlib.lines.Line2D at 0x2c1d8503f88>],\n",
       " 'means': []}"
      ]
     },
     "execution_count": 103,
     "metadata": {},
     "output_type": "execute_result"
    },
    {
     "data": {
      "image/png": "[encoded data removed]",
      "text/plain": [
       "<Figure size 432x288 with 1 Axes>"
      ]
     },
     "metadata": {
      "needs_background": "light"
     },
     "output_type": "display_data"
    }
   ],
   "source": [
    "box_plot = dataset3.DistanceFromHome\n",
    "plt.boxplot(box_plot)"
   ]
  },
  {
   "cell_type": "markdown",
   "metadata": {},
   "source": [
    "***DistanceFromHome*** is right skewed and no outliers."
   ]
  },
  {
   "cell_type": "code",
   "execution_count": 104,
   "metadata": {},
   "outputs": [
    {
     "data": {
      "text/plain": [
       "{'whiskers': [<matplotlib.lines.Line2D at 0x2c1d845a108>,\n",
       "  <matplotlib.lines.Line2D at 0x2c1d8564ac8>],\n",
       " 'caps': [<matplotlib.lines.Line2D at 0x2c1d8568988>,\n",
       "  <matplotlib.lines.Line2D at 0x2c1d8568a88>],\n",
       " 'boxes': [<matplotlib.lines.Line2D at 0x2c1d855cfc8>],\n",
       " 'medians': [<matplotlib.lines.Line2D at 0x2c1d856d908>],\n",
       " 'fliers': [<matplotlib.lines.Line2D at 0x2c1d856df88>],\n",
       " 'means': []}"
      ]
     },
     "execution_count": 104,
     "metadata": {},
     "output_type": "execute_result"
    },
    {
     "data": {
      "image/png": "[encoded data removed]",
      "text/plain": [
       "<Figure size 432x288 with 1 Axes>"
      ]
     },
     "metadata": {
      "needs_background": "light"
     },
     "output_type": "display_data"
    }
   ],
   "source": [
    "box_plot = dataset3.Education\n",
    "plt.boxplot(box_plot)"
   ]
  },
  {
   "cell_type": "markdown",
   "metadata": {},
   "source": [
    "Here we see ***Education*** as left skewed with no outliers."
   ]
  },
  {
   "cell_type": "code",
   "execution_count": 105,
   "metadata": {},
   "outputs": [
    {
     "data": {
      "text/plain": [
       "{'whiskers': [<matplotlib.lines.Line2D at 0x2c1d8458988>,\n",
       "  <matplotlib.lines.Line2D at 0x2c1d85d1cc8>],\n",
       " 'caps': [<matplotlib.lines.Line2D at 0x2c1d85d4b88>,\n",
       "  <matplotlib.lines.Line2D at 0x2c1d85d4c88>],\n",
       " 'boxes': [<matplotlib.lines.Line2D at 0x2c1d85d12c8>],\n",
       " 'medians': [<matplotlib.lines.Line2D at 0x2c1d85dab08>],\n",
       " 'fliers': [<matplotlib.lines.Line2D at 0x2c1d85dac08>],\n",
       " 'means': []}"
      ]
     },
     "execution_count": 105,
     "metadata": {},
     "output_type": "execute_result"
    },
    {
     "data": {
      "image/png": "[encoded data removed]",
      "text/plain": [
       "<Figure size 432x288 with 1 Axes>"
      ]
     },
     "metadata": {
      "needs_background": "light"
     },
     "output_type": "display_data"
    }
   ],
   "source": [
    "box_plot = dataset3.PercentSalaryHike\n",
    "plt.boxplot(box_plot)"
   ]
  },
  {
   "cell_type": "markdown",
   "metadata": {},
   "source": [
    "***PercentSalaryHike*** is right skewed and has no outliers"
   ]
  },
  {
   "cell_type": "code",
   "execution_count": 106,
   "metadata": {},
   "outputs": [
    {
     "data": {
      "text/plain": [
       "{'whiskers': [<matplotlib.lines.Line2D at 0x2c1d853ca48>,\n",
       "  <matplotlib.lines.Line2D at 0x2c1d863cf08>],\n",
       " 'caps': [<matplotlib.lines.Line2D at 0x2c1d8640dc8>,\n",
       "  <matplotlib.lines.Line2D at 0x2c1d8640ec8>],\n",
       " 'boxes': [<matplotlib.lines.Line2D at 0x2c1d863c508>],\n",
       " 'medians': [<matplotlib.lines.Line2D at 0x2c1d8644d48>],\n",
       " 'fliers': [<matplotlib.lines.Line2D at 0x2c1d8644e48>],\n",
       " 'means': []}"
      ]
     },
     "execution_count": 106,
     "metadata": {},
     "output_type": "execute_result"
    },
    {
     "data": {
      "image/png": "[encoded data removed]",
      "text/plain": [
       "<Figure size 432x288 with 1 Axes>"
      ]
     },
     "metadata": {
      "needs_background": "light"
     },
     "output_type": "display_data"
    }
   ],
   "source": [
    "box_plot = dataset3.TrainingTimesLastYear\n",
    "plt.boxplot(box_plot)"
   ]
  },
  {
   "cell_type": "markdown",
   "metadata": {},
   "source": [
    "***TrainingTimeLastYear*** is left skewed with outliers both above the MAX limit and below the MIN limit"
   ]
  },
  {
   "cell_type": "code",
   "execution_count": 107,
   "metadata": {},
   "outputs": [
    {
     "data": {
      "text/plain": [
       "{'whiskers': [<matplotlib.lines.Line2D at 0x2c1d85a78c8>,\n",
       "  <matplotlib.lines.Line2D at 0x2c1d86a9c48>],\n",
       " 'caps': [<matplotlib.lines.Line2D at 0x2c1d86afac8>,\n",
       "  <matplotlib.lines.Line2D at 0x2c1d86afbc8>],\n",
       " 'boxes': [<matplotlib.lines.Line2D at 0x2c1d86a9248>],\n",
       " 'medians': [<matplotlib.lines.Line2D at 0x2c1d86b3a48>],\n",
       " 'fliers': [<matplotlib.lines.Line2D at 0x2c1d86b3b48>],\n",
       " 'means': []}"
      ]
     },
     "execution_count": 107,
     "metadata": {},
     "output_type": "execute_result"
    },
    {
     "data": {
      "image/png": "[encoded data removed]",
      "text/plain": [
       "<Figure size 432x288 with 1 Axes>"
      ]
     },
     "metadata": {
      "needs_background": "light"
     },
     "output_type": "display_data"
    }
   ],
   "source": [
    "box_plot = dataset3.YearsSinceLastPromotion\n",
    "plt.boxplot(box_plot)"
   ]
  },
  {
   "cell_type": "markdown",
   "metadata": {},
   "source": [
    "***YearsSinceLastPromotion** is right skewed with several outliers above max"
   ]
  },
  {
   "cell_type": "code",
   "execution_count": 108,
   "metadata": {},
   "outputs": [
    {
     "data": {
      "text/plain": [
       "{'whiskers': [<matplotlib.lines.Line2D at 0x2c1d8616fc8>,\n",
       "  <matplotlib.lines.Line2D at 0x2c1d8718a48>],\n",
       " 'caps': [<matplotlib.lines.Line2D at 0x2c1d8718b48>,\n",
       "  <matplotlib.lines.Line2D at 0x2c1d871c9c8>],\n",
       " 'boxes': [<matplotlib.lines.Line2D at 0x2c1d8714948>],\n",
       " 'medians': [<matplotlib.lines.Line2D at 0x2c1d871cac8>],\n",
       " 'fliers': [<matplotlib.lines.Line2D at 0x2c1d8721948>],\n",
       " 'means': []}"
      ]
     },
     "execution_count": 108,
     "metadata": {},
     "output_type": "execute_result"
    },
    {
     "data": {
      "image/png": "[encoded data removed]",
      "text/plain": [
       "<Figure size 432x288 with 1 Axes>"
      ]
     },
     "metadata": {
      "needs_background": "light"
     },
     "output_type": "display_data"
    }
   ],
   "source": [
    "box_plot = dataset3.YearsWithCurrManager\n",
    "plt.boxplot(box_plot)"
   ]
  },
  {
   "cell_type": "markdown",
   "metadata": {},
   "source": [
    "***YearsWithCurrManager*** is right skewed with 3 outliers."
   ]
  },
  {
   "cell_type": "code",
   "execution_count": 109,
   "metadata": {},
   "outputs": [
    {
     "data": {
      "text/plain": [
       "{'whiskers': [<matplotlib.lines.Line2D at 0x2c1d86f24c8>,\n",
       "  <matplotlib.lines.Line2D at 0x2c1d8759c08>],\n",
       " 'caps': [<matplotlib.lines.Line2D at 0x2c1d8759d08>,\n",
       "  <matplotlib.lines.Line2D at 0x2c1d8759d88>],\n",
       " 'boxes': [<matplotlib.lines.Line2D at 0x2c1d8750f88>],\n",
       " 'medians': [<matplotlib.lines.Line2D at 0x2c1d8760c88>],\n",
       " 'fliers': [<matplotlib.lines.Line2D at 0x2c1d8760d88>],\n",
       " 'means': []}"
      ]
     },
     "execution_count": 109,
     "metadata": {},
     "output_type": "execute_result"
    },
    {
     "data": {
      "image/png": "[encoded data removed]",
      "text/plain": [
       "<Figure size 432x288 with 1 Axes>"
      ]
     },
     "metadata": {
      "needs_background": "light"
     },
     "output_type": "display_data"
    }
   ],
   "source": [
    "box_plot = dataset3.TotalWorkingYears\n",
    "plt.boxplot(box_plot)"
   ]
  },
  {
   "cell_type": "markdown",
   "metadata": {},
   "source": [
    "***TotalWorkingYears*** Right skewed with several outliers.`"
   ]
  },
  {
   "cell_type": "code",
   "execution_count": 110,
   "metadata": {},
   "outputs": [
    {
     "data": {
      "text/plain": [
       "{'whiskers': [<matplotlib.lines.Line2D at 0x2c1d87a9708>,\n",
       "  <matplotlib.lines.Line2D at 0x2c1d878c0c8>],\n",
       " 'caps': [<matplotlib.lines.Line2D at 0x2c1d87d4e48>,\n",
       "  <matplotlib.lines.Line2D at 0x2c1d87d4ec8>],\n",
       " 'boxes': [<matplotlib.lines.Line2D at 0x2c1d87d4148>],\n",
       " 'medians': [<matplotlib.lines.Line2D at 0x2c1d87d8dc8>],\n",
       " 'fliers': [<matplotlib.lines.Line2D at 0x2c1d87d8ec8>],\n",
       " 'means': []}"
      ]
     },
     "execution_count": 110,
     "metadata": {},
     "output_type": "execute_result"
    },
    {
     "data": {
      "image/png": "[encoded data removed]",
      "text/plain": [
       "<Figure size 432x288 with 1 Axes>"
      ]
     },
     "metadata": {
      "needs_background": "light"
     },
     "output_type": "display_data"
    }
   ],
   "source": [
    "box_plot = dataset3.NumCompaniesWorked\n",
    "plt.boxplot(box_plot)"
   ]
  },
  {
   "cell_type": "markdown",
   "metadata": {},
   "source": [
    "***NumCompaniesWorked*** Right skewed with one outlier."
   ]
  }
 ],
 "metadata": {
  "kernelspec": {
   "display_name": "Python 3",
   "language": "python",
   "name": "python3"
  },
  "language_info": {
   "codemirror_mode": {
    "name": "ipython",
    "version": 3
   },
   "file_extension": ".py",
   "mimetype": "text/x-python",
   "name": "python",
   "nbconvert_exporter": "python",
   "pygments_lexer": "ipython3",
   "version": "3.7.6"
  }
 },
 "nbformat": 4,
 "nbformat_minor": 4
}
