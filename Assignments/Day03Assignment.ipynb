{
  "nbformat": 4,
  "nbformat_minor": 0,
  "metadata": {
    "colab": {
      "name": "Day03Assignment.ipynb",
      "provenance": [],
      "collapsed_sections": []
    },
    "kernelspec": {
      "name": "python3",
      "display_name": "Python 3"
    }
  },
  "cells": [
    {
      "cell_type": "code",
      "metadata": {
        "id": "BbvMXV1X4qQc",
        "colab_type": "code",
        "colab": {
          "base_uri": "https://localhost:8080/",
          "height": 34
        },
        "outputId": "e89c272a-9635-4a48-dcc6-1c3f1690c3e0"
      },
      "source": [
        "# Write a program to subtract two complex numbers\n",
        "\n",
        "def subComplex(x,y):\n",
        "  result = x-y\n",
        "  return result\n",
        "x = complex(2,3)\n",
        "y = complex(7,8)\n",
        "print(subComplex(x,y))"
      ],
      "execution_count": 3,
      "outputs": [
        {
          "output_type": "stream",
          "text": [
            "(-5-5j)\n"
          ],
          "name": "stdout"
        }
      ]
    },
    {
      "cell_type": "code",
      "metadata": {
        "id": "x1UUGmmN8zFC",
        "colab_type": "code",
        "colab": {
          "base_uri": "https://localhost:8080/",
          "height": 34
        },
        "outputId": "868007f0-5167-4170-eebe-9d9d1d016ddf"
      },
      "source": [
        "# Program to find the fourth root of a number\n",
        "\n",
        "def fourthroot(x):\n",
        "  return x**(1/4)\n",
        "print(fourthroot(16))"
      ],
      "execution_count": 7,
      "outputs": [
        {
          "output_type": "stream",
          "text": [
            "2.0\n"
          ],
          "name": "stdout"
        }
      ]
    },
    {
      "cell_type": "code",
      "metadata": {
        "id": "z5vfyaSt9b0t",
        "colab_type": "code",
        "colab": {
          "base_uri": "https://localhost:8080/",
          "height": 51
        },
        "outputId": "21ffe04e-7fc9-4ba1-cdba-d7f9db6a7c84"
      },
      "source": [
        "# Swap two numbers with Temporary Variable\n",
        "\n",
        "def tempSwap (x,y):\n",
        "  temp = x\n",
        "  x = y\n",
        "  y = temp\n",
        "  return (x,y)\n",
        "x = 13\n",
        "y = 12\n",
        "print(\"Before Swapping\",x,y)\n",
        "print(\"After Swapping\",tempSwap(x,y))\n"
      ],
      "execution_count": 9,
      "outputs": [
        {
          "output_type": "stream",
          "text": [
            "Before Swapping 13 12\n",
            "After Swapping (12, 13)\n"
          ],
          "name": "stdout"
        }
      ]
    },
    {
      "cell_type": "code",
      "metadata": {
        "id": "xLhuVdBn-sij",
        "colab_type": "code",
        "colab": {
          "base_uri": "https://localhost:8080/",
          "height": 51
        },
        "outputId": "356d890f-0f1a-4f4c-8743-d6e0a8596ff8"
      },
      "source": [
        "# Swap two numbers without temporary variable\n",
        "\n",
        "def noTempSwap(x,y):\n",
        "  x,y = y,x\n",
        "  return x,y\n",
        "x = 10\n",
        "y = 30\n",
        "print(\"Before Swapping\", x,y)\n",
        "print(\"After Swapping\", noTempSwap(x,y))"
      ],
      "execution_count": 10,
      "outputs": [
        {
          "output_type": "stream",
          "text": [
            "Before Swapping 10 30\n",
            "After Swapping (30, 10)\n"
          ],
          "name": "stdout"
        }
      ]
    },
    {
      "cell_type": "code",
      "metadata": {
        "id": "F6p1zq3fAan5",
        "colab_type": "code",
        "colab": {
          "base_uri": "https://localhost:8080/",
          "height": 51
        },
        "outputId": "1952eac4-6f1f-425a-fbf9-484f3b9d7078"
      },
      "source": [
        "# Program to convert fahrenheit to Kelvin and Celcius\n",
        "def fahtoKelCel(x):\n",
        "  y = int(input())\n",
        "  if y==1: # Convertion for Celsius\n",
        "      x = (x-32)*(5/9)\n",
        "      return x\n",
        "  else:\n",
        "    x = ((x-32)*(5/9)) + 273.17\n",
        "    return x\n",
        "print(fahtoKelCel(300))\n",
        "\n",
        "\n",
        "\n",
        "\n"
      ],
      "execution_count": 12,
      "outputs": [
        {
          "output_type": "stream",
          "text": [
            "1\n",
            "148.88888888888889\n"
          ],
          "name": "stdout"
        }
      ]
    },
    {
      "cell_type": "code",
      "metadata": {
        "id": "NPl1LdSOFGdr",
        "colab_type": "code",
        "colab": {
          "base_uri": "https://localhost:8080/",
          "height": 51
        },
        "outputId": "cc6faa9a-9347-4407-ce5e-06dcc1a914df"
      },
      "source": [
        "# Program to Demonstrate all the available data types in python\n",
        "print(\"The Different data types in python are: \")\n",
        "x = 100\n",
        "y = 100.888\n",
        "z = \"Arigato gozaimasu sensei\"\n",
        "a = [1,2,3]\n",
        "b = (1,2,3)\n",
        "c = {5,7,8}\n",
        "d = (2+4j)\n",
        "print(type(x),type(y),type(z),type(a),type(b),type(c),type(d))\n"
      ],
      "execution_count": 15,
      "outputs": [
        {
          "output_type": "stream",
          "text": [
            "The Different data types in python are: \n",
            "<class 'int'> <class 'float'> <class 'str'> <class 'list'> <class 'tuple'> <class 'set'> <class 'complex'>\n"
          ],
          "name": "stdout"
        }
      ]
    },
    {
      "cell_type": "markdown",
      "metadata": {
        "id": "NK_iZSU0G3MI",
        "colab_type": "text"
      },
      "source": [
        "# Github Assignment Submission Steps\n",
        "> *Here we will discuss the steps in which we need to submit our coding assignments in our github profile*\n",
        "\n",
        "- First we create a Github profile if we do not already have one.\n",
        "\n",
        "> *GitHub is a useful platform which different software companies often use to asses the project exposure experience of the different software candidates. So it is advisable to be building the profile as well as we can from our first year of college*.\n",
        "\n",
        "- Next we go on to create a new public repository and name it as **LetsUpgrade-AI-ML** ( initialise with a readme )\n",
        "- After creating it we make a new folder inside it and name it as **Assignments** (Similarly we will be creating a folder named projects when thety come up )\n",
        "- Then we open the folder and drag and drop our .ipynb assignment file naming it as **DayXAssignment** accordingly to the day the assignment was given.\n",
        "- After successfully pushing the file into our repository we copy the address of the file from the web address bar.\n",
        "- Then we open the assignment link provided by the **letsupgrade** team and fill in the details and paste the assignment address link in the Answer.\n",
        "****************************************\n"
      ]
    }
  ]
}