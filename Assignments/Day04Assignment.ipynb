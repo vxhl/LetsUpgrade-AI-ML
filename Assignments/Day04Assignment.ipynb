{
  "nbformat": 4,
  "nbformat_minor": 0,
  "metadata": {
    "colab": {
      "name": "Day04Assignment.ipynb",
      "provenance": [],
      "collapsed_sections": []
    },
    "kernelspec": {
      "name": "python3",
      "display_name": "Python 3"
    }
  },
  "cells": [
    {
      "cell_type": "markdown",
      "metadata": {
        "id": "tlSteN08I2a1",
        "colab_type": "text"
      },
      "source": [
        ">*Question 1. Research on whether addition, subtraction, multiplication, division, floor division and modulo operations be performed on complex numbers. Based on study employ a python program to demonstrate.*\n",
        "\n",
        "- Addition, subtraction, multiplication, divison can be performed on complex numbers. The following figure demonstrates the same :\n",
        "![alt text](https://drive.google.com/uc?export=view&id=160qxt6Hhp6erH6NqUXReF_GF4_KS6cDF)\n",
        "- However the same cannot be said for floor division and modulo operations as any operations between complex numbers always throw  around a complex number.\n",
        "Sources : [W3Resources](https://w3resources.com)"
      ]
    },
    {
      "cell_type": "code",
      "metadata": {
        "id": "80OpjNN8Xyf6",
        "colab_type": "code",
        "colab": {
          "base_uri": "https://localhost:8080/",
          "height": 282
        },
        "outputId": "aa938a0a-42c7-4a41-b184-02f0c8204851"
      },
      "source": [
        "# Python example for Complex number operations\n",
        "# We see that modulo and floor division operations throw an error\n",
        "print(\"Addition of two complex numbers : \",(4+3j)+(3-7j))\n",
        "print(\"Subtraction of two complex numbers : \",(4+3j)-(3-7j))\n",
        "print(\"Multiplication of two complex numbers : \",(4+3j)*(3-7j))\n",
        "print(\"Division of two complex numbers : \",(4+3j)/(3-7j))\n",
        "print(\"Floor Division of two complex numbers : \",(4+3j)//(3-7j))\n",
        "print(\"Modulo Operation of two complex numbers : \",(4+3j)%(3-7j))"
      ],
      "execution_count": 3,
      "outputs": [
        {
          "output_type": "stream",
          "text": [
            "Addition of two complex numbers :  (7-4j)\n",
            "Subtraction of two complex numbers :  (1+10j)\n",
            "Multiplication of two complex numbers :  (33-19j)\n",
            "Division of two complex numbers :  (-0.15517241379310348+0.6379310344827587j)\n"
          ],
          "name": "stdout"
        },
        {
          "output_type": "error",
          "ename": "TypeError",
          "evalue": "ignored",
          "traceback": [
            "\u001b[0;31m---------------------------------------------------------------------------\u001b[0m",
            "\u001b[0;31mTypeError\u001b[0m                                 Traceback (most recent call last)",
            "\u001b[0;32m<ipython-input-3-27bc5531995a>\u001b[0m in \u001b[0;36m<module>\u001b[0;34m()\u001b[0m\n\u001b[1;32m      5\u001b[0m \u001b[0mprint\u001b[0m\u001b[0;34m(\u001b[0m\u001b[0;34m\"Multiplication of two complex numbers : \"\u001b[0m\u001b[0;34m,\u001b[0m\u001b[0;34m(\u001b[0m\u001b[0;36m4\u001b[0m\u001b[0;34m+\u001b[0m\u001b[0;36m3j\u001b[0m\u001b[0;34m)\u001b[0m\u001b[0;34m*\u001b[0m\u001b[0;34m(\u001b[0m\u001b[0;36m3\u001b[0m\u001b[0;34m-\u001b[0m\u001b[0;36m7j\u001b[0m\u001b[0;34m)\u001b[0m\u001b[0;34m)\u001b[0m\u001b[0;34m\u001b[0m\u001b[0;34m\u001b[0m\u001b[0m\n\u001b[1;32m      6\u001b[0m \u001b[0mprint\u001b[0m\u001b[0;34m(\u001b[0m\u001b[0;34m\"Division of two complex numbers : \"\u001b[0m\u001b[0;34m,\u001b[0m\u001b[0;34m(\u001b[0m\u001b[0;36m4\u001b[0m\u001b[0;34m+\u001b[0m\u001b[0;36m3j\u001b[0m\u001b[0;34m)\u001b[0m\u001b[0;34m/\u001b[0m\u001b[0;34m(\u001b[0m\u001b[0;36m3\u001b[0m\u001b[0;34m-\u001b[0m\u001b[0;36m7j\u001b[0m\u001b[0;34m)\u001b[0m\u001b[0;34m)\u001b[0m\u001b[0;34m\u001b[0m\u001b[0;34m\u001b[0m\u001b[0m\n\u001b[0;32m----> 7\u001b[0;31m \u001b[0mprint\u001b[0m\u001b[0;34m(\u001b[0m\u001b[0;34m\"Floor Division of two complex numbers : \"\u001b[0m\u001b[0;34m,\u001b[0m\u001b[0;34m(\u001b[0m\u001b[0;36m4\u001b[0m\u001b[0;34m+\u001b[0m\u001b[0;36m3j\u001b[0m\u001b[0;34m)\u001b[0m\u001b[0;34m//\u001b[0m\u001b[0;34m(\u001b[0m\u001b[0;36m3\u001b[0m\u001b[0;34m-\u001b[0m\u001b[0;36m7j\u001b[0m\u001b[0;34m)\u001b[0m\u001b[0;34m)\u001b[0m\u001b[0;34m\u001b[0m\u001b[0;34m\u001b[0m\u001b[0m\n\u001b[0m\u001b[1;32m      8\u001b[0m \u001b[0mprint\u001b[0m\u001b[0;34m(\u001b[0m\u001b[0;34m\"Modulo Operation of two complex numbers : \"\u001b[0m\u001b[0;34m,\u001b[0m\u001b[0;34m(\u001b[0m\u001b[0;36m4\u001b[0m\u001b[0;34m+\u001b[0m\u001b[0;36m3j\u001b[0m\u001b[0;34m)\u001b[0m\u001b[0;34m%\u001b[0m\u001b[0;34m(\u001b[0m\u001b[0;36m3\u001b[0m\u001b[0;34m-\u001b[0m\u001b[0;36m7j\u001b[0m\u001b[0;34m)\u001b[0m\u001b[0;34m)\u001b[0m\u001b[0;34m\u001b[0m\u001b[0;34m\u001b[0m\u001b[0m\n",
            "\u001b[0;31mTypeError\u001b[0m: can't take floor of complex number."
          ]
        }
      ]
    },
    {
      "cell_type": "markdown",
      "metadata": {
        "id": "gm0PmApDfVg_",
        "colab_type": "text"
      },
      "source": [
        "> *Question 2. Research on range() functions and its parameters. Create a markdown cell and write in your own words (no copy-paste from google please) what you understand about it. Implement a small program of your choice on the same.*\n",
        "\n",
        "- The **range()** function is a built-in function in python. It generates the integer numbers between the given start integer and the stop integer. \n",
        "- It is typically used along with the **for** loop. Using for loop we can iterate over a sequence of numbers produced by the *range()* function.\n",
        "- *range()* only works with int data types. \n",
        "- syntax for range :\n",
        "```\n",
        "range(start,stop,step)\n",
        "```\n",
        "\n",
        "1. start : starting number of the sequence\n",
        "\n",
        "2. stop : generates number upto this number other than the stop integer itself.\n",
        "\n",
        "3. step : difference between each numbers in the result.\n",
        "- We can also only set the stop index for the parameter value. This will start from 0 to uptil the stop value other than the stop value.\n",
        "- range() can also be used to covert range output to list along with the list/tuple/set classes.\n",
        "\n"
      ]
    },
    {
      "cell_type": "code",
      "metadata": {
        "id": "6e-MJznFuxA2",
        "colab_type": "code",
        "colab": {
          "base_uri": "https://localhost:8080/",
          "height": 496
        },
        "outputId": "8197c2c0-34b1-4c7a-f72f-ee319fbe85d2"
      },
      "source": [
        "# Examples of Range implemenetation\n",
        "print(\"The result on using with list/set/tuple classes\")\n",
        "list1 = list(range(1,10))\n",
        "set1 = set(range(1,10))\n",
        "tuple1 = tuple(range(1,10))\n",
        "print(list1,set1,tuple1)\n",
        "\n",
        "print(\"Using with for loop :  start and stop\")\n",
        "for i in range(1,10):\n",
        "  print(i * \"*\")\n",
        "print(\"Using only stop index\")\n",
        "for i in range(8):\n",
        "  print(i*\"+\")\n",
        "print(\"Using start, stop and step\")\n",
        "for i in range(1,10,2):\n",
        "  print(i*\"@\")\n",
        "\n",
        "\n"
      ],
      "execution_count": 5,
      "outputs": [
        {
          "output_type": "stream",
          "text": [
            "The result on using with list/set/tuple classes\n",
            "[1, 2, 3, 4, 5, 6, 7, 8, 9] {1, 2, 3, 4, 5, 6, 7, 8, 9} (1, 2, 3, 4, 5, 6, 7, 8, 9)\n",
            "Using with for loop :  start and stop\n",
            "*\n",
            "**\n",
            "***\n",
            "****\n",
            "*****\n",
            "******\n",
            "*******\n",
            "********\n",
            "*********\n",
            "Using only stop index\n",
            "\n",
            "+\n",
            "++\n",
            "+++\n",
            "++++\n",
            "+++++\n",
            "++++++\n",
            "+++++++\n",
            "Using start, stop and step\n",
            "@\n",
            "@@@\n",
            "@@@@@\n",
            "@@@@@@@\n",
            "@@@@@@@@@\n"
          ],
          "name": "stdout"
        }
      ]
    },
    {
      "cell_type": "code",
      "metadata": {
        "id": "376hOkpByPS7",
        "colab_type": "code",
        "colab": {
          "base_uri": "https://localhost:8080/",
          "height": 68
        },
        "outputId": "1eb7090d-ba6d-4702-f1ea-d7931d3e4c0a"
      },
      "source": [
        "# Question 3 : Consider two numbers.\n",
        "# Perform subtraction \n",
        "# If result>25 print their multiplication else do division\n",
        "x  = int(input(\"Enter the 1st number: \"))\n",
        "y = int(input(\"Enter the 2nd number: \"))\n",
        "res = abs(x-y)\n",
        "if res>25:\n",
        "  print(\"Multiplication result: \",x*y)\n",
        "else:\n",
        "  print(\"Division result: \",x/y)"
      ],
      "execution_count": 8,
      "outputs": [
        {
          "output_type": "stream",
          "text": [
            "Enter the 1st number: 100\n",
            "Enter the 2nd number: 50\n",
            "Multiplication result:  5000\n"
          ],
          "name": "stdout"
        }
      ]
    },
    {
      "cell_type": "code",
      "metadata": {
        "id": "F3rgIapw0WeH",
        "colab_type": "code",
        "colab": {
          "base_uri": "https://localhost:8080/",
          "height": 34
        },
        "outputId": "f669e0e1-e8c1-4feb-993f-5bc66761ac3b"
      },
      "source": [
        "# Question 4 : Consider a list of 10 elements of integer values.\n",
        "# If number in list div by 2, print the result as : Square of that number minus 2\n",
        "l1 = [1,2,3,4,5,6,7,8,9,10,11]\n",
        "for i in l1:\n",
        "  if i%2==0:\n",
        "    result = (i**2)-2\n",
        "    print(result, end = \" \")\n"
      ],
      "execution_count": 14,
      "outputs": [
        {
          "output_type": "stream",
          "text": [
            "2  14  34  62  98  "
          ],
          "name": "stdout"
        }
      ]
    },
    {
      "cell_type": "code",
      "metadata": {
        "id": "4zjQZH9q3aMT",
        "colab_type": "code",
        "colab": {
          "base_uri": "https://localhost:8080/",
          "height": 34
        },
        "outputId": "f506d719-f549-4255-f8ba-f78b653c0441"
      },
      "source": [
        "# Question 5 : Consider a list of 10 elements of integer values.\n",
        "# Print elements in list which are greater than 7 when that number is divided by 2\n",
        "l2 = [11,12,13,14,15,17,18]\n",
        "l3 = []\n",
        "for i in l2:\n",
        "  if (i/2)>7:\n",
        "    l3.append(i)\n",
        "print(l3)\n"
      ],
      "execution_count": 16,
      "outputs": [
        {
          "output_type": "stream",
          "text": [
            "[15, 17, 18]\n"
          ],
          "name": "stdout"
        }
      ]
    }
  ]
}