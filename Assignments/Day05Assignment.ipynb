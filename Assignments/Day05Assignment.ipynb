{
 "cells": [
  {
   "cell_type": "code",
   "execution_count": 8,
   "metadata": {},
   "outputs": [
    {
     "name": "stdout",
     "output_type": "stream",
     "text": [
      "Enter the number of prime numbers to be printed: 20\n",
      "The series of first 20 non-even prime numbers are : \n",
      "3 5 7 11 13 17 19 23 29 31 37 41 43 47 53 59 61 67 71 73 "
     ]
    }
   ],
   "source": [
    "# Question 1 : Pyhton program for first 20 non-even prime numbers\n",
    "n = int(input(\"Enter the number of prime numbers to be printed: \"))\n",
    "prime  = []\n",
    "for num in range(1,n*10):\n",
    "    if num>2 and len(prime)<=n-1:\n",
    "        for i in range(2, num):\n",
    "            if (num%i)==0:\n",
    "                break\n",
    "        else:\n",
    "            prime.append(num)\n",
    "print(\"The series of first\",n,\"non-even prime numbers are : \")\n",
    "for i in prime:\n",
    "    print(i, end = \" \")\n",
    "    \n",
    "                "
   ]
  },
  {
   "cell_type": "code",
   "execution_count": 55,
   "metadata": {},
   "outputs": [
    {
     "name": "stdout",
     "output_type": "stream",
     "text": [
      "1. capitalise(s) :  Learning ai and ml with letsupgrade {year:}\n",
      "2. casefold(s) :  learning ai and ml with letsupgrade {year:}\n",
      "3. s.count(lets): 0\n",
      "4. s.islower():  True\n",
      "5. s.isupper():  False\n",
      "6. join():  l*e*a*r*n*i*n*g* *a*i* *a*n*d* *m*l* *w*i*t*h* *l*e*t*s*u*p*g*r*a*d*e* *{*y*e*a*r*:*}\n",
      "7. upper() :  LEARNING AI AND ML WITH LETSUPGRADE {YEAR:}\n",
      "8. lower() :  learning ai and ml with letsupgrade {year:}\n",
      "9. rpartition() : ('learning ai ', 'and', ' ml with letsupgrade {year:}')\n",
      "10. replace() : learning artificial intelligence and ml with letsupgrade {year:}\n",
      "11. istitle() :  False\n",
      "12. find() :  19\n",
      "13. txt() : 24\n",
      "14. format() : learning ai and ml with letsupgrade 2020\n",
      "15. isalpha() :  False\n"
     ]
    }
   ],
   "source": [
    "# Question 2 :Implemenet 15 functions of a string\\n\n",
    "s = \"learning ai and ml with letsupgrade {year:}\"\n",
    "print(\"1. capitalise(s) : \", s.capitalize())\n",
    "print(\"2. casefold(s) : \", s.casefold())\n",
    "print(\"3. s.count(lets):\" ,s.count('L'))\n",
    "print(\"4. s.islower(): \", s.islower())\n",
    "print(\"5. s.isupper(): \", s.isupper())\n",
    "print(\"6. join(): \", \"*\".join(s))\n",
    "print(\"7. upper() : \", s.upper())\n",
    "print(\"8. lower() : \",s.lower())\n",
    "print('9. rpartition() :',s.rpartition(\"and\"))\n",
    "print(\"10. replace() :\",s.replace(\"ai\",\"artificial intelligence\"))\n",
    "print(\"11. istitle() : \",s.istitle())\n",
    "print(\"12. find() : \", s.find(\"with\"))\n",
    "print(\"13. txt() :\",  s.index(\"letsupgrade\"))\n",
    "print(\"14. format() :\", s.format(year = 2020))\n",
    "print(\"15. isalpha() : \",s.isalpha())\n",
    "\n"
   ]
  },
  {
   "cell_type": "code",
   "execution_count": 68,
   "metadata": {},
   "outputs": [
    {
     "name": "stdout",
     "output_type": "stream",
     "text": [
      "Enter the string : lamina\n",
      "lamina is not a palindrome string\n",
      "Enter the string to check anagram against: animal\n",
      "lamina and animal are Anagrams of each other\n"
     ]
    }
   ],
   "source": [
    "# Question 3 : Program to check if a given string is Palindrome or Anagram\n",
    "str1 = input(\"Enter the string : \") # Enter the original given string\n",
    "rev_str1 = str1[::-1] # Then we reverse the string\n",
    "if rev_str1==str1: # Then we check if reverse = the orignal\n",
    "    print(str1, \"is a palindrome string\")\n",
    "else:\n",
    "    print(str1, \"is not a palindrome string\")\n",
    "str2 = input(\"Enter the string to check anagram against: \")\n",
    "\n",
    "if sorted(str1)==sorted(str2):\n",
    "    print(str1,\"and\",str2,\"are Anagrams of each other\")\n",
    "else: \n",
    "    print(str1,'and',str2,'are not Anagrams')\n",
    "\n"
   ]
  },
  {
   "cell_type": "code",
   "execution_count": 3,
   "metadata": {},
   "outputs": [
    {
     "name": "stdout",
     "output_type": "stream",
     "text": [
      "The string to be formatted :  Dr. Darshan Ingle @AI-ML Trainer\n",
      "After removing sepecial characters and spaces \n",
      "The resultant list :  drdarshaningleaimltrainer\n"
     ]
    }
   ],
   "source": [
    "# Write a python user-defined function taht removes all additional \n",
    "# characters from the string and converts it finally to lower case\n",
    "# using built-in lower().\n",
    "def replace_spechar(s1):\n",
    "    spechar = ['!','@','#','$','%','^','&','*','(','.',')','-','_','+','=',' ']\n",
    "    for i in spechar:\n",
    "        s1 = s1.replace(i,'')\n",
    "        s1 = s1.lower()\n",
    "    print(\"After removing sepecial characters and spaces \")\n",
    "    print(\"The resultant list : \", s1)\n",
    "s1 = \"Dr. Darshan Ingle @AI-ML Trainer\"\n",
    "print(\"The string to be formatted : \" , s1)\n",
    "replace_spechar(s1)\n",
    "\n",
    "\n"
   ]
  }
 ],
 "metadata": {
  "kernelspec": {
   "display_name": "Python 3",
   "language": "python",
   "name": "python3"
  },
  "language_info": {
   "codemirror_mode": {
    "name": "ipython",
    "version": 3
   },
   "file_extension": ".py",
   "mimetype": "text/x-python",
   "name": "python",
   "nbconvert_exporter": "python",
   "pygments_lexer": "ipython3",
   "version": "3.7.6"
  }
 },
 "nbformat": 4,
 "nbformat_minor": 4
}
