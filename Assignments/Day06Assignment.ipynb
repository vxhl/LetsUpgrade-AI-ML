{
 "cells": [
  {
   "cell_type": "markdown",
   "metadata": {},
   "source": [
    "# Question 1 : \n",
    "Assuming that we have some email addresses in the \"username@companyname.com\" format, please write program\n",
    "to print the company name of a given email address. Both user names and company names are composed of letters only.\n",
    "\n",
    "Input Format:\n",
    "The first line of the input contains an email address.\n",
    " \n",
    "Output Format:\n",
    "Print the company name in single line.\n",
    " \n",
    "Example;\n",
    "\n",
    "Input:\n",
    "john@google.com\n",
    "\n",
    "Output:\n",
    "google"
   ]
  },
  {
   "cell_type": "code",
   "execution_count": 1,
   "metadata": {},
   "outputs": [
    {
     "data": {
      "text/plain": [
       "'google'"
      ]
     },
     "execution_count": 1,
     "metadata": {},
     "output_type": "execute_result"
    }
   ],
   "source": [
    "def dom_name(x): # Here x is a string\n",
    "    i1 = x.index(\"@\")\n",
    "    i2 = x.index(\".\")\n",
    "    return (x[i1+1:i2])\n",
    "x = \"moharibishal@google.com\"\n",
    "dom_name(x)    "
   ]
  },
  {
   "cell_type": "markdown",
   "metadata": {},
   "source": [
    "# Question 2:\n",
    "Write a program that accepts a comma-separated sequence of words as input and prints the words in a comma\n",
    "separated sequence after sorting them alphabetically.\n",
    "\n",
    "Input Format:\n",
    "The first line of input contains words separated by the comma.\n",
    " \n",
    "Output Format:\n",
    "Print the sorted words separated by the comma.\n",
    "Example:\n",
    "\n",
    "Input:\n",
    "without,hello,bag,world\n",
    "\n",
    "Output:\n",
    "bag,hello,without,world\n",
    "\n",
    "#### Ans:"
   ]
  },
  {
   "cell_type": "code",
   "execution_count": 6,
   "metadata": {},
   "outputs": [
    {
     "name": "stdout",
     "output_type": "stream",
     "text": [
      "Enter sequence of words : without,hello,bag,world\n",
      "['without', 'hello', 'bag', 'world']\n",
      "Sorted sequence of words are : bag,hello,without,world\n"
     ]
    }
   ],
   "source": [
    "names = input(\"Enter sequence of words : \")\n",
    "words = list(map(lambda x:x,names.split(',')))\n",
    "words.sort()\n",
    "print(\"Sorted sequence of words are :\", ','.join(words))"
   ]
  },
  {
   "cell_type": "markdown",
   "metadata": {},
   "source": [
    "# Question 3:\n",
    " \n",
    "Create your own Jupyter Notebook for Sets.\n",
    " \n",
    "Reference link: https://www.w3schools.com/python/python_sets.asp"
   ]
  },
  {
   "cell_type": "markdown",
   "metadata": {},
   "source": [
    "#### Ans : \n",
    "# Sets\n",
    "Sets are a type of array data structure that are unordered and immutable. They are denoted with curly braces.\n",
    "#### Syntax :  variable_name = { ele 1, ele2 , ele3,....,eleN}\n",
    "## Accesing elements :\n",
    "We cannot access items in a set in the same way we do with Lists since sets are unordered and do not have indices that we can call upon. This also applies to sets slicing.\n",
    "However we can loop through the elements in a set and ask if a specified element is present in a set or not.\n",
    "#### Example : \n",
    "** Printing the values of the set and checking for values**"
   ]
  },
  {
   "cell_type": "code",
   "execution_count": 12,
   "metadata": {},
   "outputs": [
    {
     "name": "stdout",
     "output_type": "stream",
     "text": [
      "The elements of the set are : \n",
      "America\n",
      "China\n",
      "India\n",
      "Checking for existence : \n",
      "True\n"
     ]
    }
   ],
   "source": [
    "set1 = {'India','America','China'}\n",
    "print('The elements of the set are : ')\n",
    "for i in set1:\n",
    "    print(i)\n",
    "print(\"Checking for existence : \")\n",
    "print(\"China\" in set1) # If true China is in the set."
   ]
  },
  {
   "cell_type": "markdown",
   "metadata": {},
   "source": [
    "## Changing Items\n",
    "As it has been said, the **Sets** are immutable so it is not possible to change the elements in the set once it has been created.\n",
    "## Adding Items\n",
    "To add one item we can use the `add()` method\n",
    "To add multiple items we can use the `update()` method\n",
    "Examples : "
   ]
  },
  {
   "cell_type": "code",
   "execution_count": 14,
   "metadata": {},
   "outputs": [
    {
     "name": "stdout",
     "output_type": "stream",
     "text": [
      "The add() operation :  {'apple', 'cherry', 'orange', 'banana'}\n",
      "The update() operation :  {'cherry', 'mango', 'orange', 'banana', 'apple', 'grapes'}\n"
     ]
    }
   ],
   "source": [
    "thisset = {\"apple\", \"banana\", \"cherry\"}\n",
    "thisset.add(\"orange\")\n",
    "print(\"The add() operation : \", thisset)\n",
    "thisset.update([\"orange\", \"mango\", \"grapes\"])\n",
    "print(\"The update() operation : \",thisset)"
   ]
  },
  {
   "cell_type": "markdown",
   "metadata": {},
   "source": [
    "## Getting the lenghth\n",
    "We simply use the `len()` method.\n",
    "Example : "
   ]
  },
  {
   "cell_type": "code",
   "execution_count": null,
   "metadata": {},
   "outputs": [],
   "source": [
    "set3 = {1,2,3,4,5,6,7}\n",
    "print(len(set3))"
   ]
  },
  {
   "cell_type": "markdown",
   "metadata": {},
   "source": [
    "## Removing an item \n",
    "To remove an item we either use the `remove()` or `discard()` method.\n",
    "The difference between the two is that unlike in remove, if the item does not exist when using `discard()` and error will not be raised.\n",
    "We can also use the pop() method to remove only the last item in the set.\n",
    "On the other hand the `clear()` method empties all the elements from the set but the `del()` method deletes the set completely and gives `None`\n",
    "Example : "
   ]
  },
  {
   "cell_type": "code",
   "execution_count": 21,
   "metadata": {},
   "outputs": [
    {
     "name": "stdout",
     "output_type": "stream",
     "text": [
      "The discard() and remove operations on set4 :  {1, 4, 5, 6, 7, 8}\n",
      "The pop() operation removes the last element from the set :  {4, 5, 6, 7, 8}\n",
      "The set is now empty set()\n",
      "del set4 will raise an error as the set no longer exists\n"
     ]
    }
   ],
   "source": [
    "set4 = {1,2.3,4,5,6,7,8,9}\n",
    "set4.discard(2.3)\n",
    "set4.remove(9)\n",
    "print(\"The discard() and remove operations on set4 : \",set4)\n",
    "set4.pop()\n",
    "print(\"The pop() operation removes the last element from the set : \", set4)\n",
    "set4.clear() \n",
    "print(\"The set is now empty\", set4)\n",
    "del set4\n",
    "print(\"printing del set4 will raise an error as the set no longer exists\")\n"
   ]
  },
  {
   "cell_type": "markdown",
   "metadata": {},
   "source": [
    "## Joining Two Sets\n",
    "The `union()` or the `update()` can be used to join two sets.\n",
    "`union()` returns a new set with elements from both sets\n",
    "`update()` inserts all elements from one set to another\n",
    "Example : "
   ]
  },
  {
   "cell_type": "code",
   "execution_count": 22,
   "metadata": {},
   "outputs": [
    {
     "name": "stdout",
     "output_type": "stream",
     "text": [
      "New set with elements from both set ->> union_set :  {1, 2, 3, 'a', 'c', 'b'}\n",
      "set1 updated with set2 elements :  {1, 2, 3, 'a', 'c', 'b'}\n"
     ]
    }
   ],
   "source": [
    "set1 = {\"a\", \"b\" , \"c\"}\n",
    "set2 = {1, 2, 3}\n",
    "union_set = set1.union(set2)\n",
    "set1.update(set2)\n",
    "print(\"New set with elements from both set ->> union_set : \", union_set)\n",
    "print(\"set1 updated with set2 elements : \", set1)"
   ]
  },
  {
   "cell_type": "markdown",
   "metadata": {},
   "source": [
    "## The set() Constructor\n",
    "The `set()` constructor is a method that takes in different elements and adds them to a newly devised set.\n",
    "Example: "
   ]
  },
  {
   "cell_type": "code",
   "execution_count": 24,
   "metadata": {},
   "outputs": [
    {
     "name": "stdout",
     "output_type": "stream",
     "text": [
      "{1, 2, 3, 4, 5, 6, 7, 8, 9}\n"
     ]
    }
   ],
   "source": [
    "setc = set(range(1,10))\n",
    "print(setc)"
   ]
  },
  {
   "cell_type": "markdown",
   "metadata": {},
   "source": [
    "## Set Methods :\n",
    "**Below we have shortly discussed the different types of set methods**\n",
    "\n",
    "Method |\tDescription\n",
    "\n",
    "`add()`\tAdds an element to the set\n",
    "\n",
    "`clear()`\tRemoves all the elements from the set\n",
    "\n",
    "`copy()`\tReturns a copy of the set\n",
    "\n",
    "`difference()`\tReturns a set containing the difference between two or more sets\n",
    "\n",
    "`difference_update()`\tRemoves the items in this set that are also included in another, specified set\n",
    "\n",
    "`discard()`\tRemove the specified item\n",
    "\n",
    "`intersection()`\tReturns a set, that is the intersection of two other sets\n",
    "\n",
    "`intersection_update()`\tRemoves the items in this set that are not present in other, specified set(s)\n",
    "\n",
    "`isdisjoint()`\tReturns whether two sets have a intersection or not\n",
    "\n",
    "`issubset()`\tReturns whether another set contains this set or not\n",
    "\n",
    "`issuperset()`\tReturns whether this set contains another set or not\n",
    "\n",
    "`pop()`\tRemoves an element from the set\n",
    "\n",
    "`remove()`\tRemoves the specified element\n",
    "\n",
    "`symmetric_difference()`\tReturns a set with the symmetric differences of two sets\n",
    "\n",
    "`symmetric_difference_update()`\tinserts the symmetric differences from this set and another\n",
    "\n",
    "`union()`\tReturn a set containing the union of sets\n",
    "\n",
    "`update()`\tUpdate the set with the union of this set and others\n",
    "\n"
   ]
  },
  {
   "cell_type": "markdown",
   "metadata": {},
   "source": [
    "# Question 4 :\n",
    "Given a list of n-1 numbers ranging from 1 to n, your task is to find the missing number. There are no duplicates.\n",
    " \n",
    " \n",
    "Input Format:\n",
    "The first line contains n-1 numbers with each number separated by a space.\n",
    " \n",
    "Output Format:\n",
    "Print the missing number\n",
    " \n",
    "Example:\n",
    " \n",
    "Input:1 2 4 6 3 7 8\n",
    " \n",
    "Output:5\n",
    "  \n",
    "Explanation:\n",
    "In the above list of numbers 5 is missing and hence 5 is the input"
   ]
  },
  {
   "cell_type": "code",
   "execution_count": 33,
   "metadata": {},
   "outputs": [
    {
     "name": "stdout",
     "output_type": "stream",
     "text": [
      "The missing number is :  7.0\n"
     ]
    }
   ],
   "source": [
    "def missing_number(x): # x is the list of numbers\n",
    "    n = x[-1]\n",
    "    sum = 0\n",
    "    for i in x:\n",
    "        sum += i\n",
    "    mn = (n*(n+1))/2 - sum\n",
    "    return mn\n",
    "x = [1,2,3,4,5,6,8,9]\n",
    "print(\"The missing number is : \", missing_number(x))\n",
    "    "
   ]
  },
  {
   "cell_type": "markdown",
   "metadata": {},
   "source": [
    "# Question 5 :\n",
    "With a given list L, write a program to print this list L after removing all duplicate values with original order reserved.\n",
    " \n",
    " \n",
    "Example:\n",
    " \n",
    "If the input list is\n",
    "12 24 35 24 88 120 155 88 120 155\n",
    " \n",
    "Then the output should be\n",
    "12 24 35 88 120 155\n",
    " \n",
    "Explanation:\n",
    "Third, seventh and ninth element of the list L has been removed because it was already present.\n",
    " \n",
    "Input Format:\n",
    "In one line take the elements of the list L with each element separated by a space.\n",
    " \n",
    "Output Format:\n",
    "Print the elements of the modified list in one line with each element separated by a space.\n",
    " \n",
    "Example:\n",
    "Input: 12 24 35 24\n",
    " \n",
    "Output: 12 24 35\n"
   ]
  },
  {
   "cell_type": "code",
   "execution_count": 39,
   "metadata": {},
   "outputs": [
    {
     "name": "stdout",
     "output_type": "stream",
     "text": [
      "Now printing the duplication purified list elements with original order reversed : \n",
      "155 120 88 35 24 12 "
     ]
    }
   ],
   "source": [
    "# Is it a mistype? The original order reversed thing?\n",
    "L = [12,24 ,35, 24, 88, 120, 155, 88, 120 ,155]\n",
    "L2 = []\n",
    "for i in L:\n",
    "    if i not in L2:\n",
    "        L2.append(i)\n",
    "print(\"Now printing the duplication purified list elements with original order reversed : \")\n",
    "for i in L2[::-1]:\n",
    "    print(i, end = \" \")"
   ]
  },
  {
   "cell_type": "code",
   "execution_count": null,
   "metadata": {},
   "outputs": [],
   "source": []
  }
 ],
 "metadata": {
  "kernelspec": {
   "display_name": "Python 3",
   "language": "python",
   "name": "python3"
  },
  "language_info": {
   "codemirror_mode": {
    "name": "ipython",
    "version": 3
   },
   "file_extension": ".py",
   "mimetype": "text/x-python",
   "name": "python",
   "nbconvert_exporter": "python",
   "pygments_lexer": "ipython3",
   "version": "3.7.6"
  }
 },
 "nbformat": 4,
 "nbformat_minor": 4
}
