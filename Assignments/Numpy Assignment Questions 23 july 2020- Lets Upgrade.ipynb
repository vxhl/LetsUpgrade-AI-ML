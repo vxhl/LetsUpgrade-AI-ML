{
 "cells": [
  {
   "cell_type": "markdown",
   "metadata": {},
   "source": [
    "# 1. Create a 3x3x3 array with random values "
   ]
  },
  {
   "cell_type": "code",
   "execution_count": 8,
   "metadata": {},
   "outputs": [
    {
     "data": {
      "text/plain": [
       "array([[[ 9, 10, 11],\n",
       "        [12, 13, 14],\n",
       "        [15, 16, 17]],\n",
       "\n",
       "       [[ 1,  2,  3],\n",
       "        [ 3,  4,  5],\n",
       "        [ 6,  7,  8]]])"
      ]
     },
     "execution_count": 8,
     "metadata": {},
     "output_type": "execute_result"
    }
   ],
   "source": [
    "## We import the numpy library\n",
    "import numpy as np\n",
    "td_array = np.array([[[9,10,11],[12,13,14],[15,16,17]],[[1,2,3],[3,4,5],[6,7,8]]])\n",
    "td_array"
   ]
  },
  {
   "cell_type": "markdown",
   "metadata": {},
   "source": [
    "# 2.Create a 5x5 matrix with values 1,2,3,4 just below the diagonal"
   ]
  },
  {
   "cell_type": "code",
   "execution_count": 13,
   "metadata": {},
   "outputs": [
    {
     "data": {
      "text/plain": [
       "array([[0, 0, 0, 0, 0, 0],\n",
       "       [0, 0, 0, 0, 0, 0],\n",
       "       [0, 1, 0, 0, 0, 0],\n",
       "       [0, 0, 2, 0, 0, 0],\n",
       "       [0, 0, 0, 3, 0, 0],\n",
       "       [0, 0, 0, 0, 4, 0]])"
      ]
     },
     "execution_count": 13,
     "metadata": {},
     "output_type": "execute_result"
    }
   ],
   "source": [
    "fmatrix = np.diag(np.arange(5),-1) # This will give the elements 0,1,2,3,4 just below the main diagonal \n",
    "fmatrix"
   ]
  },
  {
   "cell_type": "markdown",
   "metadata": {},
   "source": [
    "# 3.Create a 8x8 matrix and fill it with a checkerboard pattern"
   ]
  },
  {
   "cell_type": "code",
   "execution_count": 18,
   "metadata": {},
   "outputs": [
    {
     "data": {
      "text/plain": [
       "array([[0., 1., 0., 1., 0., 1., 0., 1.],\n",
       "       [1., 0., 1., 0., 1., 0., 1., 0.],\n",
       "       [0., 1., 0., 1., 0., 1., 0., 1.],\n",
       "       [1., 0., 1., 0., 1., 0., 1., 0.],\n",
       "       [0., 1., 0., 1., 0., 1., 0., 1.],\n",
       "       [1., 0., 1., 0., 1., 0., 1., 0.],\n",
       "       [0., 1., 0., 1., 0., 1., 0., 1.],\n",
       "       [1., 0., 1., 0., 1., 0., 1., 0.]])"
      ]
     },
     "execution_count": 18,
     "metadata": {},
     "output_type": "execute_result"
    }
   ],
   "source": [
    "# We get the checkerboard pattern for a matrix by taking 0s as black and 1s as whites\n",
    "import numpy as np\n",
    "# First we initialise a 8x8 matrix with 0 values all over\n",
    "cb = np.zeros((8,8))\n",
    "cb[1::2, ::2] = 1 #  First we access the alternate matrices and fill them with alternate 1s\n",
    "cb[::2, 1::2] = 1 # This does the same for the remaining matrices\n",
    "cb\n",
    "\n"
   ]
  },
  {
   "cell_type": "markdown",
   "metadata": {},
   "source": [
    "# 4. Normalize a 5x5 random matrix"
   ]
  },
  {
   "cell_type": "code",
   "execution_count": 23,
   "metadata": {},
   "outputs": [
    {
     "name": "stdout",
     "output_type": "stream",
     "text": [
      "The original 2D array : \n",
      "[[0.80620486 0.4042034  0.18403207 0.34047949 0.0112195 ]\n",
      " [0.81134573 0.42312719 0.53802267 0.95076309 0.8927723 ]\n",
      " [0.19877383 0.76513955 0.22840778 0.40746535 0.37147817]\n",
      " [0.53762922 0.91150026 0.65315776 0.76425733 0.76078198]\n",
      " [0.14313198 0.86596177 0.47062621 0.87763047 0.03634445]]\n",
      "After normalization:\n",
      "[[0.84613994 0.41827106 0.18393247 0.35044674 0.        ]\n",
      " [0.85161161 0.43841253 0.56070115 1.         0.9382777 ]\n",
      " [0.1996228  0.80243222 0.23116361 0.42174291 0.38344008]\n",
      " [0.56028238 0.95821073 0.68324479 0.80149323 0.79779426]\n",
      " [0.1404006  0.909742   0.48896796 0.92216154 0.02674165]]\n"
     ]
    }
   ],
   "source": [
    "x= np.random.random((5,5))\n",
    "print(\"The original 2D array : \")\n",
    "print(x)\n",
    "xmax, xmin = x.max(), x.min()\n",
    "x = (x - xmin)/(xmax - xmin) # The formula for normalizatiom\n",
    "print(\"After normalization:\")\n",
    "print(x)"
   ]
  },
  {
   "cell_type": "markdown",
   "metadata": {},
   "source": [
    "# 5.  How to find common values between two arrays?"
   ]
  },
  {
   "cell_type": "code",
   "execution_count": 24,
   "metadata": {},
   "outputs": [
    {
     "name": "stdout",
     "output_type": "stream",
     "text": [
      "The common element is :  3\n"
     ]
    }
   ],
   "source": [
    "x1 = np.array([1,2,3,4,5])\n",
    "x2 = np.array([6,7,8,3,10])\n",
    "for i in x2:\n",
    "    if i in x1:\n",
    "        print(\"The common element is : \", i)"
   ]
  },
  {
   "cell_type": "markdown",
   "metadata": {},
   "source": [
    "# 6.How to get the dates of yesterday, today and tomorrow?"
   ]
  },
  {
   "cell_type": "code",
   "execution_count": 25,
   "metadata": {},
   "outputs": [
    {
     "name": "stdout",
     "output_type": "stream",
     "text": [
      "Yestraday:  2020-07-27\n",
      "Today:  2020-07-28\n",
      "Tomorrow:  2020-07-29\n"
     ]
    }
   ],
   "source": [
    "# For this problem we use the numpy datetime64() and timedelta64() from numpy\n",
    "yesterday = np.datetime64('today', 'D') - np.timedelta64(1, 'D')\n",
    "print(\"Yestraday: \",yesterday)\n",
    "today     = np.datetime64('today', 'D')\n",
    "print(\"Today: \",today)\n",
    "tomorrow  = np.datetime64('today', 'D') + np.timedelta64(1, 'D')\n",
    "print(\"Tomorrow: \",tomorrow)"
   ]
  },
  {
   "cell_type": "markdown",
   "metadata": {},
   "source": [
    "# 7. Consider two random array A and B, check if they are equal"
   ]
  },
  {
   "cell_type": "code",
   "execution_count": 3,
   "metadata": {},
   "outputs": [
    {
     "name": "stdout",
     "output_type": "stream",
     "text": [
      "First array:\n",
      "[0 1 0 0 1 1]\n",
      "Second array:\n",
      "[1 0 0 1 1 0]\n",
      "Test above two arrays are equal or not!\n",
      "False\n"
     ]
    }
   ],
   "source": [
    "A = np.random.randint(0,2,6)\n",
    "print(\"First array:\")\n",
    "print(A)\n",
    "B = np.random.randint(0,2,6)\n",
    "print(\"Second array:\")\n",
    "print(B)\n",
    "print(\"Test above two arrays are equal or not!\")\n",
    "array_equal = np.allclose(A, B)\n",
    "print(array_equal)"
   ]
  },
  {
   "cell_type": "markdown",
   "metadata": {},
   "source": [
    "# 8.Create random vector of size 10 and replace the maximum value by 0 "
   ]
  },
  {
   "cell_type": "code",
   "execution_count": 4,
   "metadata": {},
   "outputs": [
    {
     "name": "stdout",
     "output_type": "stream",
     "text": [
      "Original array:\n",
      "[0.59800206 0.53977592 0.12068063 0.8650653  0.40575316 0.57049029\n",
      " 0.2175149  0.46057848 0.69848194 0.53526413]\n",
      "Maximum value replaced by 0:\n",
      "[0.59800206 0.53977592 0.12068063 0.         0.40575316 0.57049029\n",
      " 0.2175149  0.46057848 0.69848194 0.53526413]\n"
     ]
    }
   ],
   "source": [
    "x = np.random.random(10)\n",
    "print(\"Original array:\")\n",
    "print(x)\n",
    "x[x.argmax()] = 0\n",
    "print(\"Maximum value replaced by 0:\")\n",
    "print(x)\n"
   ]
  },
  {
   "cell_type": "markdown",
   "metadata": {},
   "source": [
    "# 9. How to print all the values of an array?"
   ]
  },
  {
   "cell_type": "code",
   "execution_count": 9,
   "metadata": {},
   "outputs": [
    {
     "name": "stdout",
     "output_type": "stream",
     "text": [
      "0.137976406211192 0.36908133543342425 0.3069941777297541 0.5560066948113048 0.04954125131365961 0.5927917315550737 0.5105138675024095 0.511734094877637 0.7279945583939333 0.2820337392477008 "
     ]
    }
   ],
   "source": [
    "x = np.random.random(10)\n",
    "for i in range(len(x)):\n",
    "    print(x[i], end = \" \")"
   ]
  },
  {
   "cell_type": "markdown",
   "metadata": {},
   "source": [
    "# 10.Subtract the mean of each row of a matrix"
   ]
  },
  {
   "cell_type": "code",
   "execution_count": 10,
   "metadata": {},
   "outputs": [
    {
     "name": "stdout",
     "output_type": "stream",
     "text": [
      "Original matrix:\n",
      "\n",
      "[[0.5078569  0.0764664  0.30757686 0.98912541 0.68838132 0.33587967\n",
      "  0.89572109 0.26462343 0.50292331 0.80328734]\n",
      " [0.84412443 0.26682788 0.88974143 0.46765934 0.47297429 0.1758702\n",
      "  0.31726229 0.93969414 0.4227162  0.0612002 ]\n",
      " [0.67437694 0.07282862 0.26999717 0.42249506 0.92774911 0.27763312\n",
      "  0.66642696 0.40917869 0.94801301 0.39634809]\n",
      " [0.96856066 0.832564   0.22470215 0.33781591 0.864928   0.57579485\n",
      "  0.99257165 0.79072038 0.34776313 0.35500301]\n",
      " [0.37691039 0.46052195 0.83736734 0.24223934 0.7839127  0.41688202\n",
      "  0.90189746 0.49780496 0.19028034 0.25237397]]\n",
      "\n",
      " Subtract the mean of each row of the said matrix:\n",
      "\n",
      "[[-0.02305456 -0.45444507 -0.2233346   0.45821394  0.15746986 -0.1950318\n",
      "   0.36480963 -0.26628803 -0.02798815  0.27237588]\n",
      " [ 0.31321297 -0.26408358  0.35882997 -0.06325213 -0.05793717 -0.35504127\n",
      "  -0.21364918  0.40878267 -0.10819526 -0.46971126]\n",
      " [ 0.14346548 -0.45808284 -0.26091429 -0.10841641  0.39683765 -0.25327834\n",
      "   0.1355155  -0.12173277  0.41710155 -0.13456338]\n",
      " [ 0.4376492   0.30165254 -0.30620931 -0.19309555  0.33401654  0.04488339\n",
      "   0.46166019  0.25980892 -0.18314833 -0.17590846]\n",
      " [-0.15400108 -0.07038951  0.30645588 -0.28867213  0.25300124 -0.11402944\n",
      "   0.370986   -0.0331065  -0.34063113 -0.2785375 ]]\n"
     ]
    }
   ],
   "source": [
    "import numpy as np\n",
    "print(\"Original matrix:\\n\")\n",
    "X = np.random.rand(5, 10)\n",
    "print(X)\n",
    "print(\"\\n Subtract the mean of each row of the said matrix:\\n\")\n",
    "Y = X - X.mean()\n",
    "print(Y)"
   ]
  },
  {
   "cell_type": "markdown",
   "metadata": {},
   "source": [
    "# 11.Consider a given vector, how to add 1 to each element indexed by a second vector (be careful with repeated indices)? "
   ]
  },
  {
   "cell_type": "code",
   "execution_count": null,
   "metadata": {},
   "outputs": [],
   "source": []
  },
  {
   "cell_type": "markdown",
   "metadata": {},
   "source": [
    "# 12.How to get the diagonal of a dot product?"
   ]
  },
  {
   "cell_type": "code",
   "execution_count": null,
   "metadata": {},
   "outputs": [],
   "source": [
    "result=np.empty([n,], dtype=A.dtype )\n",
    "for i in xrange(n):\n",
    "    result[i]=A[i,:].dot(B).dot(A[i,:])"
   ]
  },
  {
   "cell_type": "markdown",
   "metadata": {},
   "source": [
    "# 13.How to find the most frequent value in an array?"
   ]
  },
  {
   "cell_type": "code",
   "execution_count": 17,
   "metadata": {},
   "outputs": [
    {
     "name": "stdout",
     "output_type": "stream",
     "text": [
      "Original array:\n",
      "[0 0 7 5 0 9 3 5 6 4 5 6 6 5 7 7 2 1 0 4 7 9 1 5 8 5 8 1 1 2 0 2 5 7 7 7 3\n",
      " 7 9 9]\n",
      "Most frequent value in the above array:\n",
      "7\n"
     ]
    }
   ],
   "source": [
    "import numpy as np\n",
    "x = np.random.randint(0, 10, 40)\n",
    "print(\"Original array:\")\n",
    "print(x)\n",
    "print(\"Most frequent value in the above array:\")\n",
    "print(np.bincount(x).argmax())"
   ]
  },
  {
   "cell_type": "markdown",
   "metadata": {},
   "source": [
    "# 14.How to get the n largest values of an array"
   ]
  },
  {
   "cell_type": "code",
   "execution_count": 21,
   "metadata": {},
   "outputs": [
    {
     "name": "stdout",
     "output_type": "stream",
     "text": [
      "Original array:\n",
      "[0 1 2 3 4 5 6 7 8 9]\n",
      "Enter the number of largest values : 3\n",
      "[7 8 9]\n"
     ]
    }
   ],
   "source": [
    "import numpy as np\n",
    "x = np.arange(10)\n",
    "print(\"Original array:\")\n",
    "print(x)\n",
    "np.random.shuffle(x)\n",
    "n = int(input(\"Enter the number of largest values : \"))\n",
    "print (x[np.argsort(x)[-n:]])"
   ]
  },
  {
   "cell_type": "markdown",
   "metadata": {},
   "source": [
    "# 15.How to create a record array from a regular array?"
   ]
  },
  {
   "cell_type": "code",
   "execution_count": 22,
   "metadata": {},
   "outputs": [
    {
     "name": "stdout",
     "output_type": "stream",
     "text": [
      "(1, 'Red', 12.2)\n",
      "(2, 'Green', 15.)\n",
      "(3, 'White', 20.)\n"
     ]
    }
   ],
   "source": [
    "import numpy as np\n",
    "a1=np.array([1,2,3,4])\n",
    "a2=np.array(['Red','Green','White','Orange'])\n",
    "a3=np.array([12.20,15,20,40])\n",
    "result= np.core.records.fromarrays([a1, a2, a3],names='a,b,c')\n",
    "print(result[0])\n",
    "print(result[1])\n",
    "print(result[2])"
   ]
  },
  {
   "cell_type": "code",
   "execution_count": null,
   "metadata": {},
   "outputs": [],
   "source": []
  }
 ],
 "metadata": {
  "kernelspec": {
   "display_name": "Python 3",
   "language": "python",
   "name": "python3"
  },
  "language_info": {
   "codemirror_mode": {
    "name": "ipython",
    "version": 3
   },
   "file_extension": ".py",
   "mimetype": "text/x-python",
   "name": "python",
   "nbconvert_exporter": "python",
   "pygments_lexer": "ipython3",
   "version": "3.7.6"
  }
 },
 "nbformat": 4,
 "nbformat_minor": 2
}
