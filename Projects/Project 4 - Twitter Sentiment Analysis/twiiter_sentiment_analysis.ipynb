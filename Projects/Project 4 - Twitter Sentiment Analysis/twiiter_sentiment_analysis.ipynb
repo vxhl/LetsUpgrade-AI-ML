{
 "cells": [
  {
   "cell_type": "markdown",
   "metadata": {},
   "source": [
    "**We will collect text data using Twitter API.**"
   ]
  },
  {
   "cell_type": "raw",
   "metadata": {},
   "source": [
    "!pip install tweepy"
   ]
  },
  {
   "cell_type": "raw",
   "metadata": {},
   "source": [
    "!pip install openpyxl"
   ]
  },
  {
   "cell_type": "code",
   "execution_count": 1,
   "metadata": {},
   "outputs": [],
   "source": [
    "import numpy as np\n",
    "import pandas as pd\n",
    "import tweepy\n",
    "import json\n",
    "from tweepy import OAuthHandler"
   ]
  },
  {
   "cell_type": "markdown",
   "metadata": {},
   "source": [
    "## Initializing Twitter API"
   ]
  },
  {
   "cell_type": "code",
   "execution_count": 2,
   "metadata": {},
   "outputs": [],
   "source": [
    "consumer_key = \"DreBJqr1OxQZGAuMJIS3kaeTL\"\n",
    "consumer_secret = \"5dMdE5ptm468W5o5vQf48AMShNnYGQDvtRkuhcIyycz4wBGKIj\"\n",
    "access_token = \"1322035865615556609-z6ZRy7ZJFgNNNleEE4u6zRZ7pNTvTm\"\n",
    "access_token_secret = \"Ty0OUxG0ng1YvqihRiDFmhAvOH7j2QhNBbUzWbBi07CH9\""
   ]
  },
  {
   "cell_type": "code",
   "execution_count": 3,
   "metadata": {},
   "outputs": [],
   "source": [
    "auth = tweepy.OAuthHandler( consumer_key , consumer_secret )\n",
    "auth.set_access_token( access_token , access_token_secret )\n",
    "api = tweepy.API(auth)"
   ]
  },
  {
   "cell_type": "code",
   "execution_count": 4,
   "metadata": {},
   "outputs": [],
   "source": [
    "query = \"Narendra Modi Prime Minister\""
   ]
  },
  {
   "cell_type": "code",
   "execution_count": 5,
   "metadata": {},
   "outputs": [],
   "source": [
    "Tweets = api.search( query , count=10 , lang='en' , exclude='retweets' , tweet_mode='extended' )\n",
    "# tweet_mode='extended'\n",
    "# tweet_mode='compat'\n",
    "\n",
    "# for tweet in Tweets:\n",
    "#     print(tweet,\"\\n\")\n",
    "#     print(\".....................................\\n\")"
   ]
  },
  {
   "cell_type": "markdown",
   "metadata": {},
   "source": [
    "## Creating Dataframe by fetching data using tweepy"
   ]
  },
  {
   "cell_type": "code",
   "execution_count": 6,
   "metadata": {},
   "outputs": [
    {
     "name": "stdout",
     "output_type": "stream",
     "text": [
      "Empty DataFrame\n",
      "Columns: [Tweets, User, User_statuses_count, user_followers, User_location, User_verified, fav_count, rt_count, tweet_date]\n",
      "Index: []\n"
     ]
    }
   ],
   "source": [
    "df = pd.DataFrame(columns = ['Tweets' , 'User' , 'User_statuses_count' , \n",
    "                            'user_followers' , 'User_location' , 'User_verified' ,\n",
    "                            'fav_count' , 'rt_count' , 'tweet_date'] )\n",
    "print(df)\n",
    "# print(df.shape)"
   ]
  },
  {
   "cell_type": "code",
   "execution_count": 7,
   "metadata": {},
   "outputs": [],
   "source": [
    "def stream(data, file_name):\n",
    "    i = 0\n",
    "    for tweet in tweepy.Cursor(api.search, q=data, count=100, lang='en').items():\n",
    "        print(i, end='\\r')\n",
    "        df.loc[i, 'Tweets'] = tweet.text\n",
    "        df.loc[i, 'User'] = tweet.user.name\n",
    "        df.loc[i, 'User_statuses_count'] = tweet.user.statuses_count\n",
    "        df.loc[i, 'user_followers'] = tweet.user.followers_count\n",
    "        df.loc[i, 'User_location'] = tweet.user.location\n",
    "        df.loc[i, 'User_verified'] = tweet.user.verified\n",
    "        df.loc[i, 'fav_count'] = tweet.favorite_count\n",
    "        df.loc[i, 'rt_count'] = tweet.retweet_count\n",
    "        df.loc[i, 'tweet_date'] = tweet.created_at\n",
    "        df.to_excel('{}.xlsx'.format(file_name))\n",
    "        i = i+1\n",
    "        if i == 1000:\n",
    "            break\n",
    "        else:\n",
    "            pass"
   ]
  },
  {
   "cell_type": "code",
   "execution_count": 8,
   "metadata": {},
   "outputs": [
    {
     "name": "stdout",
     "output_type": "stream",
     "text": [
      "999\r"
     ]
    }
   ],
   "source": [
    "stream(data=[query] , file_name='my_tweets')"
   ]
  },
  {
   "cell_type": "code",
   "execution_count": 9,
   "metadata": {},
   "outputs": [
    {
     "data": {
      "text/html": [
       "<div>\n",
       "<style scoped>\n",
       "    .dataframe tbody tr th:only-of-type {\n",
       "        vertical-align: middle;\n",
       "    }\n",
       "\n",
       "    .dataframe tbody tr th {\n",
       "        vertical-align: top;\n",
       "    }\n",
       "\n",
       "    .dataframe thead th {\n",
       "        text-align: right;\n",
       "    }\n",
       "</style>\n",
       "<table border=\"1\" class=\"dataframe\">\n",
       "  <thead>\n",
       "    <tr style=\"text-align: right;\">\n",
       "      <th></th>\n",
       "      <th>Tweets</th>\n",
       "      <th>User</th>\n",
       "      <th>User_statuses_count</th>\n",
       "      <th>user_followers</th>\n",
       "      <th>User_location</th>\n",
       "      <th>User_verified</th>\n",
       "      <th>fav_count</th>\n",
       "      <th>rt_count</th>\n",
       "      <th>tweet_date</th>\n",
       "    </tr>\n",
       "  </thead>\n",
       "  <tbody>\n",
       "    <tr>\n",
       "      <th>0</th>\n",
       "      <td>RT @stpiindia: The grandest tech event Bengalu...</td>\n",
       "      <td>Ajay Shrivastava</td>\n",
       "      <td>6427</td>\n",
       "      <td>222</td>\n",
       "      <td>Mohali Punjab</td>\n",
       "      <td>False</td>\n",
       "      <td>0</td>\n",
       "      <td>220</td>\n",
       "      <td>2020-11-19 06:07:33</td>\n",
       "    </tr>\n",
       "    <tr>\n",
       "      <th>1</th>\n",
       "      <td>RT @stpiindia: Shri Narendra Modi, Hon’ble Pri...</td>\n",
       "      <td>Ajay Shrivastava</td>\n",
       "      <td>6427</td>\n",
       "      <td>222</td>\n",
       "      <td>Mohali Punjab</td>\n",
       "      <td>False</td>\n",
       "      <td>0</td>\n",
       "      <td>213</td>\n",
       "      <td>2020-11-19 06:06:41</td>\n",
       "    </tr>\n",
       "    <tr>\n",
       "      <th>2</th>\n",
       "      <td>RT @stpiindia: The grandest tech event Bengalu...</td>\n",
       "      <td>STPI Lucknow</td>\n",
       "      <td>13454</td>\n",
       "      <td>1196</td>\n",
       "      <td>Gomti Nagar, Lucknow</td>\n",
       "      <td>False</td>\n",
       "      <td>0</td>\n",
       "      <td>220</td>\n",
       "      <td>2020-11-19 06:06:37</td>\n",
       "    </tr>\n",
       "    <tr>\n",
       "      <th>3</th>\n",
       "      <td>RT @stpiindia: Shri Narendra Modi, Hon’ble Pri...</td>\n",
       "      <td>STPI Lucknow</td>\n",
       "      <td>13454</td>\n",
       "      <td>1196</td>\n",
       "      <td>Gomti Nagar, Lucknow</td>\n",
       "      <td>False</td>\n",
       "      <td>0</td>\n",
       "      <td>213</td>\n",
       "      <td>2020-11-19 06:06:30</td>\n",
       "    </tr>\n",
       "    <tr>\n",
       "      <th>4</th>\n",
       "      <td>RT @stpiindia: Shri Narendra Modi, Hon’ble Pri...</td>\n",
       "      <td>STPI Pune</td>\n",
       "      <td>6384</td>\n",
       "      <td>2239</td>\n",
       "      <td>Plot No. P1, MIDC, Rajiv Gandhi Infotech Park,...</td>\n",
       "      <td>False</td>\n",
       "      <td>0</td>\n",
       "      <td>213</td>\n",
       "      <td>2020-11-19 06:06:24</td>\n",
       "    </tr>\n",
       "  </tbody>\n",
       "</table>\n",
       "</div>"
      ],
      "text/plain": [
       "                                              Tweets              User  \\\n",
       "0  RT @stpiindia: The grandest tech event Bengalu...  Ajay Shrivastava   \n",
       "1  RT @stpiindia: Shri Narendra Modi, Hon’ble Pri...  Ajay Shrivastava   \n",
       "2  RT @stpiindia: The grandest tech event Bengalu...      STPI Lucknow   \n",
       "3  RT @stpiindia: Shri Narendra Modi, Hon’ble Pri...      STPI Lucknow   \n",
       "4  RT @stpiindia: Shri Narendra Modi, Hon’ble Pri...         STPI Pune   \n",
       "\n",
       "  User_statuses_count user_followers  \\\n",
       "0                6427            222   \n",
       "1                6427            222   \n",
       "2               13454           1196   \n",
       "3               13454           1196   \n",
       "4                6384           2239   \n",
       "\n",
       "                                       User_location User_verified fav_count  \\\n",
       "0                                      Mohali Punjab         False         0   \n",
       "1                                      Mohali Punjab         False         0   \n",
       "2                               Gomti Nagar, Lucknow         False         0   \n",
       "3                               Gomti Nagar, Lucknow         False         0   \n",
       "4  Plot No. P1, MIDC, Rajiv Gandhi Infotech Park,...         False         0   \n",
       "\n",
       "  rt_count           tweet_date  \n",
       "0      220  2020-11-19 06:07:33  \n",
       "1      213  2020-11-19 06:06:41  \n",
       "2      220  2020-11-19 06:06:37  \n",
       "3      213  2020-11-19 06:06:30  \n",
       "4      213  2020-11-19 06:06:24  "
      ]
     },
     "execution_count": 9,
     "metadata": {},
     "output_type": "execute_result"
    }
   ],
   "source": [
    "df.head()"
   ]
  },
  {
   "cell_type": "raw",
   "metadata": {},
   "source": [
    "!pip install textblob"
   ]
  },
  {
   "cell_type": "raw",
   "metadata": {},
   "source": [
    "Sentiment(polarity, subjectivity)\n",
    "\n",
    "Polarity score: [-1 , +1]\n",
    "\n",
    "Subjectivity: [0.0 , 1.0] \n",
    "where 0.0 is very Objective and 1.0 is very Subjective."
   ]
  },
  {
   "cell_type": "markdown",
   "metadata": {},
   "source": [
    "## Cleaning Tweets and analyzing using TextBlob"
   ]
  },
  {
   "cell_type": "code",
   "execution_count": 10,
   "metadata": {},
   "outputs": [],
   "source": [
    "from textblob import TextBlob"
   ]
  },
  {
   "cell_type": "code",
   "execution_count": 11,
   "metadata": {},
   "outputs": [],
   "source": [
    "import re\n",
    "def clean_tweet(tweet):\n",
    "    return ' '.join(re.sub('(@[A-Za-z0-9]+)|([^0-9A-Za-z \\t])|(\\w+:\\/\\/\\S+)', ' ', tweet).split())"
   ]
  },
  {
   "cell_type": "code",
   "execution_count": 12,
   "metadata": {},
   "outputs": [],
   "source": [
    "def analyze_sentiment(tweet):\n",
    "    analysis = TextBlob(tweet)\n",
    "    if analysis.sentiment.polarity > 0:\n",
    "        return 'Positive'\n",
    "    elif analysis.sentiment.polarity == 0:\n",
    "        return 'Neutral'\n",
    "    else:\n",
    "        return 'Negative'"
   ]
  },
  {
   "cell_type": "code",
   "execution_count": 13,
   "metadata": {},
   "outputs": [],
   "source": [
    "df['clean_tweet'] = df['Tweets'].apply(lambda x : clean_tweet(x))"
   ]
  },
  {
   "cell_type": "code",
   "execution_count": 14,
   "metadata": {},
   "outputs": [
    {
     "data": {
      "text/html": [
       "<div>\n",
       "<style scoped>\n",
       "    .dataframe tbody tr th:only-of-type {\n",
       "        vertical-align: middle;\n",
       "    }\n",
       "\n",
       "    .dataframe tbody tr th {\n",
       "        vertical-align: top;\n",
       "    }\n",
       "\n",
       "    .dataframe thead th {\n",
       "        text-align: right;\n",
       "    }\n",
       "</style>\n",
       "<table border=\"1\" class=\"dataframe\">\n",
       "  <thead>\n",
       "    <tr style=\"text-align: right;\">\n",
       "      <th></th>\n",
       "      <th>Tweets</th>\n",
       "      <th>User</th>\n",
       "      <th>User_statuses_count</th>\n",
       "      <th>user_followers</th>\n",
       "      <th>User_location</th>\n",
       "      <th>User_verified</th>\n",
       "      <th>fav_count</th>\n",
       "      <th>rt_count</th>\n",
       "      <th>tweet_date</th>\n",
       "      <th>clean_tweet</th>\n",
       "    </tr>\n",
       "  </thead>\n",
       "  <tbody>\n",
       "    <tr>\n",
       "      <th>0</th>\n",
       "      <td>RT @stpiindia: The grandest tech event Bengalu...</td>\n",
       "      <td>Ajay Shrivastava</td>\n",
       "      <td>6427</td>\n",
       "      <td>222</td>\n",
       "      <td>Mohali Punjab</td>\n",
       "      <td>False</td>\n",
       "      <td>0</td>\n",
       "      <td>220</td>\n",
       "      <td>2020-11-19 06:07:33</td>\n",
       "      <td>RT The grandest tech event Bengaluru Tech Summ...</td>\n",
       "    </tr>\n",
       "    <tr>\n",
       "      <th>1</th>\n",
       "      <td>RT @stpiindia: Shri Narendra Modi, Hon’ble Pri...</td>\n",
       "      <td>Ajay Shrivastava</td>\n",
       "      <td>6427</td>\n",
       "      <td>222</td>\n",
       "      <td>Mohali Punjab</td>\n",
       "      <td>False</td>\n",
       "      <td>0</td>\n",
       "      <td>213</td>\n",
       "      <td>2020-11-19 06:06:41</td>\n",
       "      <td>RT Shri Narendra Modi Hon ble Prime Minister o...</td>\n",
       "    </tr>\n",
       "    <tr>\n",
       "      <th>2</th>\n",
       "      <td>RT @stpiindia: The grandest tech event Bengalu...</td>\n",
       "      <td>STPI Lucknow</td>\n",
       "      <td>13454</td>\n",
       "      <td>1196</td>\n",
       "      <td>Gomti Nagar, Lucknow</td>\n",
       "      <td>False</td>\n",
       "      <td>0</td>\n",
       "      <td>220</td>\n",
       "      <td>2020-11-19 06:06:37</td>\n",
       "      <td>RT The grandest tech event Bengaluru Tech Summ...</td>\n",
       "    </tr>\n",
       "    <tr>\n",
       "      <th>3</th>\n",
       "      <td>RT @stpiindia: Shri Narendra Modi, Hon’ble Pri...</td>\n",
       "      <td>STPI Lucknow</td>\n",
       "      <td>13454</td>\n",
       "      <td>1196</td>\n",
       "      <td>Gomti Nagar, Lucknow</td>\n",
       "      <td>False</td>\n",
       "      <td>0</td>\n",
       "      <td>213</td>\n",
       "      <td>2020-11-19 06:06:30</td>\n",
       "      <td>RT Shri Narendra Modi Hon ble Prime Minister o...</td>\n",
       "    </tr>\n",
       "    <tr>\n",
       "      <th>4</th>\n",
       "      <td>RT @stpiindia: Shri Narendra Modi, Hon’ble Pri...</td>\n",
       "      <td>STPI Pune</td>\n",
       "      <td>6384</td>\n",
       "      <td>2239</td>\n",
       "      <td>Plot No. P1, MIDC, Rajiv Gandhi Infotech Park,...</td>\n",
       "      <td>False</td>\n",
       "      <td>0</td>\n",
       "      <td>213</td>\n",
       "      <td>2020-11-19 06:06:24</td>\n",
       "      <td>RT Shri Narendra Modi Hon ble Prime Minister o...</td>\n",
       "    </tr>\n",
       "  </tbody>\n",
       "</table>\n",
       "</div>"
      ],
      "text/plain": [
       "                                              Tweets              User  \\\n",
       "0  RT @stpiindia: The grandest tech event Bengalu...  Ajay Shrivastava   \n",
       "1  RT @stpiindia: Shri Narendra Modi, Hon’ble Pri...  Ajay Shrivastava   \n",
       "2  RT @stpiindia: The grandest tech event Bengalu...      STPI Lucknow   \n",
       "3  RT @stpiindia: Shri Narendra Modi, Hon’ble Pri...      STPI Lucknow   \n",
       "4  RT @stpiindia: Shri Narendra Modi, Hon’ble Pri...         STPI Pune   \n",
       "\n",
       "  User_statuses_count user_followers  \\\n",
       "0                6427            222   \n",
       "1                6427            222   \n",
       "2               13454           1196   \n",
       "3               13454           1196   \n",
       "4                6384           2239   \n",
       "\n",
       "                                       User_location User_verified fav_count  \\\n",
       "0                                      Mohali Punjab         False         0   \n",
       "1                                      Mohali Punjab         False         0   \n",
       "2                               Gomti Nagar, Lucknow         False         0   \n",
       "3                               Gomti Nagar, Lucknow         False         0   \n",
       "4  Plot No. P1, MIDC, Rajiv Gandhi Infotech Park,...         False         0   \n",
       "\n",
       "  rt_count           tweet_date  \\\n",
       "0      220  2020-11-19 06:07:33   \n",
       "1      213  2020-11-19 06:06:41   \n",
       "2      220  2020-11-19 06:06:37   \n",
       "3      213  2020-11-19 06:06:30   \n",
       "4      213  2020-11-19 06:06:24   \n",
       "\n",
       "                                         clean_tweet  \n",
       "0  RT The grandest tech event Bengaluru Tech Summ...  \n",
       "1  RT Shri Narendra Modi Hon ble Prime Minister o...  \n",
       "2  RT The grandest tech event Bengaluru Tech Summ...  \n",
       "3  RT Shri Narendra Modi Hon ble Prime Minister o...  \n",
       "4  RT Shri Narendra Modi Hon ble Prime Minister o...  "
      ]
     },
     "execution_count": 14,
     "metadata": {},
     "output_type": "execute_result"
    }
   ],
   "source": [
    "df.head()"
   ]
  },
  {
   "cell_type": "code",
   "execution_count": 15,
   "metadata": {},
   "outputs": [
    {
     "data": {
      "text/html": [
       "<div>\n",
       "<style scoped>\n",
       "    .dataframe tbody tr th:only-of-type {\n",
       "        vertical-align: middle;\n",
       "    }\n",
       "\n",
       "    .dataframe tbody tr th {\n",
       "        vertical-align: top;\n",
       "    }\n",
       "\n",
       "    .dataframe thead th {\n",
       "        text-align: right;\n",
       "    }\n",
       "</style>\n",
       "<table border=\"1\" class=\"dataframe\">\n",
       "  <thead>\n",
       "    <tr style=\"text-align: right;\">\n",
       "      <th></th>\n",
       "      <th>Tweets</th>\n",
       "      <th>User</th>\n",
       "      <th>User_statuses_count</th>\n",
       "      <th>user_followers</th>\n",
       "      <th>User_location</th>\n",
       "      <th>User_verified</th>\n",
       "      <th>fav_count</th>\n",
       "      <th>rt_count</th>\n",
       "      <th>tweet_date</th>\n",
       "      <th>clean_tweet</th>\n",
       "      <th>Sentiment</th>\n",
       "    </tr>\n",
       "  </thead>\n",
       "  <tbody>\n",
       "    <tr>\n",
       "      <th>0</th>\n",
       "      <td>RT @stpiindia: The grandest tech event Bengalu...</td>\n",
       "      <td>Ajay Shrivastava</td>\n",
       "      <td>6427</td>\n",
       "      <td>222</td>\n",
       "      <td>Mohali Punjab</td>\n",
       "      <td>False</td>\n",
       "      <td>0</td>\n",
       "      <td>220</td>\n",
       "      <td>2020-11-19 06:07:33</td>\n",
       "      <td>RT The grandest tech event Bengaluru Tech Summ...</td>\n",
       "      <td>Neutral</td>\n",
       "    </tr>\n",
       "    <tr>\n",
       "      <th>1</th>\n",
       "      <td>RT @stpiindia: Shri Narendra Modi, Hon’ble Pri...</td>\n",
       "      <td>Ajay Shrivastava</td>\n",
       "      <td>6427</td>\n",
       "      <td>222</td>\n",
       "      <td>Mohali Punjab</td>\n",
       "      <td>False</td>\n",
       "      <td>0</td>\n",
       "      <td>213</td>\n",
       "      <td>2020-11-19 06:06:41</td>\n",
       "      <td>RT Shri Narendra Modi Hon ble Prime Minister o...</td>\n",
       "      <td>Neutral</td>\n",
       "    </tr>\n",
       "    <tr>\n",
       "      <th>2</th>\n",
       "      <td>RT @stpiindia: The grandest tech event Bengalu...</td>\n",
       "      <td>STPI Lucknow</td>\n",
       "      <td>13454</td>\n",
       "      <td>1196</td>\n",
       "      <td>Gomti Nagar, Lucknow</td>\n",
       "      <td>False</td>\n",
       "      <td>0</td>\n",
       "      <td>220</td>\n",
       "      <td>2020-11-19 06:06:37</td>\n",
       "      <td>RT The grandest tech event Bengaluru Tech Summ...</td>\n",
       "      <td>Neutral</td>\n",
       "    </tr>\n",
       "    <tr>\n",
       "      <th>3</th>\n",
       "      <td>RT @stpiindia: Shri Narendra Modi, Hon’ble Pri...</td>\n",
       "      <td>STPI Lucknow</td>\n",
       "      <td>13454</td>\n",
       "      <td>1196</td>\n",
       "      <td>Gomti Nagar, Lucknow</td>\n",
       "      <td>False</td>\n",
       "      <td>0</td>\n",
       "      <td>213</td>\n",
       "      <td>2020-11-19 06:06:30</td>\n",
       "      <td>RT Shri Narendra Modi Hon ble Prime Minister o...</td>\n",
       "      <td>Neutral</td>\n",
       "    </tr>\n",
       "    <tr>\n",
       "      <th>4</th>\n",
       "      <td>RT @stpiindia: Shri Narendra Modi, Hon’ble Pri...</td>\n",
       "      <td>STPI Pune</td>\n",
       "      <td>6384</td>\n",
       "      <td>2239</td>\n",
       "      <td>Plot No. P1, MIDC, Rajiv Gandhi Infotech Park,...</td>\n",
       "      <td>False</td>\n",
       "      <td>0</td>\n",
       "      <td>213</td>\n",
       "      <td>2020-11-19 06:06:24</td>\n",
       "      <td>RT Shri Narendra Modi Hon ble Prime Minister o...</td>\n",
       "      <td>Neutral</td>\n",
       "    </tr>\n",
       "  </tbody>\n",
       "</table>\n",
       "</div>"
      ],
      "text/plain": [
       "                                              Tweets              User  \\\n",
       "0  RT @stpiindia: The grandest tech event Bengalu...  Ajay Shrivastava   \n",
       "1  RT @stpiindia: Shri Narendra Modi, Hon’ble Pri...  Ajay Shrivastava   \n",
       "2  RT @stpiindia: The grandest tech event Bengalu...      STPI Lucknow   \n",
       "3  RT @stpiindia: Shri Narendra Modi, Hon’ble Pri...      STPI Lucknow   \n",
       "4  RT @stpiindia: Shri Narendra Modi, Hon’ble Pri...         STPI Pune   \n",
       "\n",
       "  User_statuses_count user_followers  \\\n",
       "0                6427            222   \n",
       "1                6427            222   \n",
       "2               13454           1196   \n",
       "3               13454           1196   \n",
       "4                6384           2239   \n",
       "\n",
       "                                       User_location User_verified fav_count  \\\n",
       "0                                      Mohali Punjab         False         0   \n",
       "1                                      Mohali Punjab         False         0   \n",
       "2                               Gomti Nagar, Lucknow         False         0   \n",
       "3                               Gomti Nagar, Lucknow         False         0   \n",
       "4  Plot No. P1, MIDC, Rajiv Gandhi Infotech Park,...         False         0   \n",
       "\n",
       "  rt_count           tweet_date  \\\n",
       "0      220  2020-11-19 06:07:33   \n",
       "1      213  2020-11-19 06:06:41   \n",
       "2      220  2020-11-19 06:06:37   \n",
       "3      213  2020-11-19 06:06:30   \n",
       "4      213  2020-11-19 06:06:24   \n",
       "\n",
       "                                         clean_tweet Sentiment  \n",
       "0  RT The grandest tech event Bengaluru Tech Summ...   Neutral  \n",
       "1  RT Shri Narendra Modi Hon ble Prime Minister o...   Neutral  \n",
       "2  RT The grandest tech event Bengaluru Tech Summ...   Neutral  \n",
       "3  RT Shri Narendra Modi Hon ble Prime Minister o...   Neutral  \n",
       "4  RT Shri Narendra Modi Hon ble Prime Minister o...   Neutral  "
      ]
     },
     "execution_count": 15,
     "metadata": {},
     "output_type": "execute_result"
    }
   ],
   "source": [
    "df['Sentiment'] = df['clean_tweet'].apply(lambda x : analyze_sentiment(x) )\n",
    "df.head()"
   ]
  },
  {
   "cell_type": "code",
   "execution_count": 16,
   "metadata": {},
   "outputs": [
    {
     "data": {
      "text/plain": [
       "Tweets                 37\n",
       "User                   37\n",
       "User_statuses_count    37\n",
       "user_followers         37\n",
       "User_location          37\n",
       "User_verified          37\n",
       "fav_count              37\n",
       "rt_count               37\n",
       "tweet_date             37\n",
       "clean_tweet            37\n",
       "Sentiment              37\n",
       "dtype: int64"
      ]
     },
     "execution_count": 16,
     "metadata": {},
     "output_type": "execute_result"
    }
   ],
   "source": [
    "df[df['User_verified'] == True].count()"
   ]
  },
  {
   "cell_type": "code",
   "execution_count": 17,
   "metadata": {},
   "outputs": [
    {
     "name": "stdout",
     "output_type": "stream",
     "text": [
      "Original tweet:\n",
      " RT @stpiindia: Shri Narendra Modi, Hon’ble Prime Minister of India will inaugurate the largest tech event Bengaluru Tech Summit 2020 virtua…\n",
      "\n",
      "Clean tweet:\n",
      " RT Shri Narendra Modi Hon ble Prime Minister of India will inaugurate the largest tech event Bengaluru Tech Summit 2020 virtua\n",
      "\n",
      "Sentiment of the tweet:\n",
      " Neutral\n"
     ]
    }
   ],
   "source": [
    "n = 1\n",
    "print(\"Original tweet:\\n\",df['Tweets'][n])\n",
    "print()\n",
    "print(\"Clean tweet:\\n\",df['clean_tweet'][n])\n",
    "print()\n",
    "print(\"Sentiment of the tweet:\\n\",df['Sentiment'][n])"
   ]
  },
  {
   "cell_type": "code",
   "execution_count": 18,
   "metadata": {},
   "outputs": [
    {
     "name": "stdout",
     "output_type": "stream",
     "text": [
      "Original tweet:\n",
      " Through technology, we have enhanced human dignity. Millions of farmers received monetary support in one click. At… https://t.co/nYxaaetZuc\n",
      "\n",
      "Clean tweet:\n",
      " Through technology we have enhanced human dignity Millions of farmers received monetary support in one click At\n",
      "\n",
      "Sentiment of the tweet:\n",
      " Neutral\n"
     ]
    }
   ],
   "source": [
    "n = 20\n",
    "print(\"Original tweet:\\n\",df['Tweets'][n])\n",
    "print()\n",
    "print(\"Clean tweet:\\n\",df['clean_tweet'][n])\n",
    "print()\n",
    "print(\"Sentiment of the tweet:\\n\",df['Sentiment'][n])"
   ]
  },
  {
   "cell_type": "code",
   "execution_count": 19,
   "metadata": {},
   "outputs": [
    {
     "name": "stdout",
     "output_type": "stream",
     "text": [
      "Original tweet:\n",
      " #PMModiAtBTS2020\n",
      "Dr Narayan expressed happiness over the gesture shown by Prime Minister Narendra Modi to inaugurat… https://t.co/OYATjIaFpP\n",
      "\n",
      "Clean tweet:\n",
      " PMModiAtBTS2020 Dr Narayan expressed happiness over the gesture shown by Prime Minister Narendra Modi to inaugurat\n",
      "\n",
      "Sentiment of the tweet:\n",
      " Positive\n"
     ]
    }
   ],
   "source": [
    "n = 203\n",
    "print(\"Original tweet:\\n\",df['Tweets'][n])\n",
    "print()\n",
    "print(\"Clean tweet:\\n\",df['clean_tweet'][n])\n",
    "print()\n",
    "print(\"Sentiment of the tweet:\\n\",df['Sentiment'][n])"
   ]
  },
  {
   "cell_type": "code",
   "execution_count": 20,
   "metadata": {},
   "outputs": [
    {
     "data": {
      "text/plain": [
       "302"
      ]
     },
     "execution_count": 20,
     "metadata": {},
     "output_type": "execute_result"
    }
   ],
   "source": [
    "df[df.Sentiment == 'Positive'].shape[0]"
   ]
  },
  {
   "cell_type": "code",
   "execution_count": 21,
   "metadata": {},
   "outputs": [
    {
     "data": {
      "text/plain": [
       "675"
      ]
     },
     "execution_count": 21,
     "metadata": {},
     "output_type": "execute_result"
    }
   ],
   "source": [
    "df[df.Sentiment == 'Neutral'].shape[0]"
   ]
  },
  {
   "cell_type": "code",
   "execution_count": 22,
   "metadata": {},
   "outputs": [
    {
     "data": {
      "text/plain": [
       "23"
      ]
     },
     "execution_count": 22,
     "metadata": {},
     "output_type": "execute_result"
    }
   ],
   "source": [
    "df[df.Sentiment == 'Negative'].shape[0]"
   ]
  }
 ],
 "metadata": {
  "kernelspec": {
   "display_name": "Python 3",
   "language": "python",
   "name": "python3"
  },
  "language_info": {
   "codemirror_mode": {
    "name": "ipython",
    "version": 3
   },
   "file_extension": ".py",
   "mimetype": "text/x-python",
   "name": "python",
   "nbconvert_exporter": "python",
   "pygments_lexer": "ipython3",
   "version": "3.8.3"
  }
 },
 "nbformat": 4,
 "nbformat_minor": 4
}
